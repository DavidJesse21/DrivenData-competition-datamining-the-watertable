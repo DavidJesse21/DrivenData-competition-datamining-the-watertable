{
 "cells": [
  {
   "cell_type": "markdown",
   "metadata": {
    "colab_type": "text",
    "id": "yzQOSmyoLsn2"
   },
   "source": [
    "# 1. Import necessary packages and data"
   ]
  },
  {
   "cell_type": "code",
   "execution_count": 1,
   "metadata": {
    "colab": {},
    "colab_type": "code",
    "id": "KaU4opirGKP1"
   },
   "outputs": [],
   "source": [
    "# packages for working with the data\n",
    "import numpy as np\n",
    "import pandas as pd\n",
    "\n",
    "#packages for visualization and EDA\n",
    "import matplotlib.pyplot as plt\n",
    "import seaborn as sns"
   ]
  },
  {
   "cell_type": "code",
   "execution_count": 2,
   "metadata": {
    "colab": {},
    "colab_type": "code",
    "id": "prUk3-HBXt2k"
   },
   "outputs": [],
   "source": [
    "# geodataframes\n",
    "import geopandas as gpd\n",
    "\n",
    "# visualization of spatial data\n",
    "import geoplot\n",
    "import geoplot.crs as gcrs"
   ]
  },
  {
   "cell_type": "code",
   "execution_count": 3,
   "metadata": {
    "colab": {},
    "colab_type": "code",
    "id": "VZajXHiNMgL3"
   },
   "outputs": [],
   "source": [
    "# training data\n",
    "train_features = pd.read_csv('train_features.csv')\n",
    "train_labels = pd.read_csv('train_labels.csv')\n",
    "\n",
    "# observations to predict the labels\n",
    "to_predict = pd.read_csv('to_predict.csv')\n",
    "\n",
    "# format / pattern for the submission of predictet labels\n",
    "submission_format = pd.read_csv('SubmissionFormat.csv')"
   ]
  },
  {
   "cell_type": "code",
   "execution_count": 4,
   "metadata": {
    "colab": {},
    "colab_type": "code",
    "id": "WuCi3xfKNogQ"
   },
   "outputs": [],
   "source": [
    "# merge training features and labels\n",
    "train = train_features.merge(train_labels, how='left', on='id')"
   ]
  },
  {
   "cell_type": "code",
   "execution_count": 5,
   "metadata": {
    "colab": {
     "base_uri": "https://localhost:8080/",
     "height": 267
    },
    "colab_type": "code",
    "id": "xoucRNWaNexX",
    "outputId": "ed6573d9-ead1-4d71-aaab-3431f80c71f5"
   },
   "outputs": [
    {
     "data": {
      "text/html": [
       "<div>\n",
       "<style scoped>\n",
       "    .dataframe tbody tr th:only-of-type {\n",
       "        vertical-align: middle;\n",
       "    }\n",
       "\n",
       "    .dataframe tbody tr th {\n",
       "        vertical-align: top;\n",
       "    }\n",
       "\n",
       "    .dataframe thead th {\n",
       "        text-align: right;\n",
       "    }\n",
       "</style>\n",
       "<table border=\"1\" class=\"dataframe\">\n",
       "  <thead>\n",
       "    <tr style=\"text-align: right;\">\n",
       "      <th></th>\n",
       "      <th>id</th>\n",
       "      <th>amount_tsh</th>\n",
       "      <th>date_recorded</th>\n",
       "      <th>funder</th>\n",
       "      <th>gps_height</th>\n",
       "      <th>installer</th>\n",
       "      <th>longitude</th>\n",
       "      <th>latitude</th>\n",
       "      <th>wpt_name</th>\n",
       "      <th>num_private</th>\n",
       "      <th>...</th>\n",
       "      <th>water_quality</th>\n",
       "      <th>quality_group</th>\n",
       "      <th>quantity</th>\n",
       "      <th>quantity_group</th>\n",
       "      <th>source</th>\n",
       "      <th>source_type</th>\n",
       "      <th>source_class</th>\n",
       "      <th>waterpoint_type</th>\n",
       "      <th>waterpoint_type_group</th>\n",
       "      <th>status_group</th>\n",
       "    </tr>\n",
       "  </thead>\n",
       "  <tbody>\n",
       "    <tr>\n",
       "      <td>0</td>\n",
       "      <td>69572</td>\n",
       "      <td>6000.0</td>\n",
       "      <td>2011-03-14</td>\n",
       "      <td>Roman</td>\n",
       "      <td>1390</td>\n",
       "      <td>Roman</td>\n",
       "      <td>34.938093</td>\n",
       "      <td>-9.856322</td>\n",
       "      <td>none</td>\n",
       "      <td>0</td>\n",
       "      <td>...</td>\n",
       "      <td>soft</td>\n",
       "      <td>good</td>\n",
       "      <td>enough</td>\n",
       "      <td>enough</td>\n",
       "      <td>spring</td>\n",
       "      <td>spring</td>\n",
       "      <td>groundwater</td>\n",
       "      <td>communal standpipe</td>\n",
       "      <td>communal standpipe</td>\n",
       "      <td>functional</td>\n",
       "    </tr>\n",
       "    <tr>\n",
       "      <td>1</td>\n",
       "      <td>8776</td>\n",
       "      <td>0.0</td>\n",
       "      <td>2013-03-06</td>\n",
       "      <td>Grumeti</td>\n",
       "      <td>1399</td>\n",
       "      <td>GRUMETI</td>\n",
       "      <td>34.698766</td>\n",
       "      <td>-2.147466</td>\n",
       "      <td>Zahanati</td>\n",
       "      <td>0</td>\n",
       "      <td>...</td>\n",
       "      <td>soft</td>\n",
       "      <td>good</td>\n",
       "      <td>insufficient</td>\n",
       "      <td>insufficient</td>\n",
       "      <td>rainwater harvesting</td>\n",
       "      <td>rainwater harvesting</td>\n",
       "      <td>surface</td>\n",
       "      <td>communal standpipe</td>\n",
       "      <td>communal standpipe</td>\n",
       "      <td>functional</td>\n",
       "    </tr>\n",
       "    <tr>\n",
       "      <td>2</td>\n",
       "      <td>34310</td>\n",
       "      <td>25.0</td>\n",
       "      <td>2013-02-25</td>\n",
       "      <td>Lottery Club</td>\n",
       "      <td>686</td>\n",
       "      <td>World vision</td>\n",
       "      <td>37.460664</td>\n",
       "      <td>-3.821329</td>\n",
       "      <td>Kwa Mahundi</td>\n",
       "      <td>0</td>\n",
       "      <td>...</td>\n",
       "      <td>soft</td>\n",
       "      <td>good</td>\n",
       "      <td>enough</td>\n",
       "      <td>enough</td>\n",
       "      <td>dam</td>\n",
       "      <td>dam</td>\n",
       "      <td>surface</td>\n",
       "      <td>communal standpipe multiple</td>\n",
       "      <td>communal standpipe</td>\n",
       "      <td>functional</td>\n",
       "    </tr>\n",
       "  </tbody>\n",
       "</table>\n",
       "<p>3 rows × 41 columns</p>\n",
       "</div>"
      ],
      "text/plain": [
       "      id  amount_tsh date_recorded        funder  gps_height     installer  \\\n",
       "0  69572      6000.0    2011-03-14         Roman        1390         Roman   \n",
       "1   8776         0.0    2013-03-06       Grumeti        1399       GRUMETI   \n",
       "2  34310        25.0    2013-02-25  Lottery Club         686  World vision   \n",
       "\n",
       "   longitude  latitude     wpt_name  num_private  ... water_quality  \\\n",
       "0  34.938093 -9.856322         none            0  ...          soft   \n",
       "1  34.698766 -2.147466     Zahanati            0  ...          soft   \n",
       "2  37.460664 -3.821329  Kwa Mahundi            0  ...          soft   \n",
       "\n",
       "  quality_group      quantity  quantity_group                source  \\\n",
       "0          good        enough          enough                spring   \n",
       "1          good  insufficient    insufficient  rainwater harvesting   \n",
       "2          good        enough          enough                   dam   \n",
       "\n",
       "            source_type source_class              waterpoint_type  \\\n",
       "0                spring  groundwater           communal standpipe   \n",
       "1  rainwater harvesting      surface           communal standpipe   \n",
       "2                   dam      surface  communal standpipe multiple   \n",
       "\n",
       "  waterpoint_type_group status_group  \n",
       "0    communal standpipe   functional  \n",
       "1    communal standpipe   functional  \n",
       "2    communal standpipe   functional  \n",
       "\n",
       "[3 rows x 41 columns]"
      ]
     },
     "execution_count": 5,
     "metadata": {},
     "output_type": "execute_result"
    }
   ],
   "source": [
    "train.head(3)"
   ]
  },
  {
   "cell_type": "code",
   "execution_count": 6,
   "metadata": {
    "colab": {
     "base_uri": "https://localhost:8080/",
     "height": 267
    },
    "colab_type": "code",
    "id": "FLg8uOYJNkrF",
    "outputId": "8e0de39c-734c-4c42-95a9-a8f8871f55b2"
   },
   "outputs": [
    {
     "data": {
      "text/html": [
       "<div>\n",
       "<style scoped>\n",
       "    .dataframe tbody tr th:only-of-type {\n",
       "        vertical-align: middle;\n",
       "    }\n",
       "\n",
       "    .dataframe tbody tr th {\n",
       "        vertical-align: top;\n",
       "    }\n",
       "\n",
       "    .dataframe thead th {\n",
       "        text-align: right;\n",
       "    }\n",
       "</style>\n",
       "<table border=\"1\" class=\"dataframe\">\n",
       "  <thead>\n",
       "    <tr style=\"text-align: right;\">\n",
       "      <th></th>\n",
       "      <th>id</th>\n",
       "      <th>amount_tsh</th>\n",
       "      <th>date_recorded</th>\n",
       "      <th>funder</th>\n",
       "      <th>gps_height</th>\n",
       "      <th>installer</th>\n",
       "      <th>longitude</th>\n",
       "      <th>latitude</th>\n",
       "      <th>wpt_name</th>\n",
       "      <th>num_private</th>\n",
       "      <th>...</th>\n",
       "      <th>payment_type</th>\n",
       "      <th>water_quality</th>\n",
       "      <th>quality_group</th>\n",
       "      <th>quantity</th>\n",
       "      <th>quantity_group</th>\n",
       "      <th>source</th>\n",
       "      <th>source_type</th>\n",
       "      <th>source_class</th>\n",
       "      <th>waterpoint_type</th>\n",
       "      <th>waterpoint_type_group</th>\n",
       "    </tr>\n",
       "  </thead>\n",
       "  <tbody>\n",
       "    <tr>\n",
       "      <td>0</td>\n",
       "      <td>50785</td>\n",
       "      <td>0.0</td>\n",
       "      <td>2013-02-04</td>\n",
       "      <td>Dmdd</td>\n",
       "      <td>1996</td>\n",
       "      <td>DMDD</td>\n",
       "      <td>35.290799</td>\n",
       "      <td>-4.059696</td>\n",
       "      <td>Dinamu Secondary School</td>\n",
       "      <td>0</td>\n",
       "      <td>...</td>\n",
       "      <td>never pay</td>\n",
       "      <td>soft</td>\n",
       "      <td>good</td>\n",
       "      <td>seasonal</td>\n",
       "      <td>seasonal</td>\n",
       "      <td>rainwater harvesting</td>\n",
       "      <td>rainwater harvesting</td>\n",
       "      <td>surface</td>\n",
       "      <td>other</td>\n",
       "      <td>other</td>\n",
       "    </tr>\n",
       "    <tr>\n",
       "      <td>1</td>\n",
       "      <td>51630</td>\n",
       "      <td>0.0</td>\n",
       "      <td>2013-02-04</td>\n",
       "      <td>Government Of Tanzania</td>\n",
       "      <td>1569</td>\n",
       "      <td>DWE</td>\n",
       "      <td>36.656709</td>\n",
       "      <td>-3.309214</td>\n",
       "      <td>Kimnyak</td>\n",
       "      <td>0</td>\n",
       "      <td>...</td>\n",
       "      <td>never pay</td>\n",
       "      <td>soft</td>\n",
       "      <td>good</td>\n",
       "      <td>insufficient</td>\n",
       "      <td>insufficient</td>\n",
       "      <td>spring</td>\n",
       "      <td>spring</td>\n",
       "      <td>groundwater</td>\n",
       "      <td>communal standpipe</td>\n",
       "      <td>communal standpipe</td>\n",
       "    </tr>\n",
       "    <tr>\n",
       "      <td>2</td>\n",
       "      <td>17168</td>\n",
       "      <td>0.0</td>\n",
       "      <td>2013-02-01</td>\n",
       "      <td>NaN</td>\n",
       "      <td>1567</td>\n",
       "      <td>NaN</td>\n",
       "      <td>34.767863</td>\n",
       "      <td>-5.004344</td>\n",
       "      <td>Puma Secondary</td>\n",
       "      <td>0</td>\n",
       "      <td>...</td>\n",
       "      <td>never pay</td>\n",
       "      <td>soft</td>\n",
       "      <td>good</td>\n",
       "      <td>insufficient</td>\n",
       "      <td>insufficient</td>\n",
       "      <td>rainwater harvesting</td>\n",
       "      <td>rainwater harvesting</td>\n",
       "      <td>surface</td>\n",
       "      <td>other</td>\n",
       "      <td>other</td>\n",
       "    </tr>\n",
       "  </tbody>\n",
       "</table>\n",
       "<p>3 rows × 40 columns</p>\n",
       "</div>"
      ],
      "text/plain": [
       "      id  amount_tsh date_recorded                  funder  gps_height  \\\n",
       "0  50785         0.0    2013-02-04                    Dmdd        1996   \n",
       "1  51630         0.0    2013-02-04  Government Of Tanzania        1569   \n",
       "2  17168         0.0    2013-02-01                     NaN        1567   \n",
       "\n",
       "  installer  longitude  latitude                 wpt_name  num_private  ...  \\\n",
       "0      DMDD  35.290799 -4.059696  Dinamu Secondary School            0  ...   \n",
       "1       DWE  36.656709 -3.309214                  Kimnyak            0  ...   \n",
       "2       NaN  34.767863 -5.004344           Puma Secondary            0  ...   \n",
       "\n",
       "  payment_type water_quality quality_group      quantity  quantity_group  \\\n",
       "0    never pay          soft          good      seasonal        seasonal   \n",
       "1    never pay          soft          good  insufficient    insufficient   \n",
       "2    never pay          soft          good  insufficient    insufficient   \n",
       "\n",
       "                 source           source_type  source_class  \\\n",
       "0  rainwater harvesting  rainwater harvesting       surface   \n",
       "1                spring                spring   groundwater   \n",
       "2  rainwater harvesting  rainwater harvesting       surface   \n",
       "\n",
       "      waterpoint_type waterpoint_type_group  \n",
       "0               other                 other  \n",
       "1  communal standpipe    communal standpipe  \n",
       "2               other                 other  \n",
       "\n",
       "[3 rows x 40 columns]"
      ]
     },
     "execution_count": 6,
     "metadata": {},
     "output_type": "execute_result"
    }
   ],
   "source": [
    "to_predict.head(3)"
   ]
  },
  {
   "cell_type": "markdown",
   "metadata": {
    "colab_type": "text",
    "id": "ECUs-kbsAk44"
   },
   "source": [
    "Since we are given the longitudes and latitudes of the wells in these dataframes, we should convert them to geodataframes such that we can analyze the functionality of the wells in dependence of their spatial features."
   ]
  },
  {
   "cell_type": "code",
   "execution_count": 7,
   "metadata": {
    "colab": {},
    "colab_type": "code",
    "id": "5DpX4j79BsEf"
   },
   "outputs": [],
   "source": [
    "# transform dataframes to geodataframes\n",
    "train = gpd.GeoDataFrame(train, geometry=gpd.points_from_xy(train.longitude, train.latitude))\n",
    "to_predict = gpd.GeoDataFrame(to_predict, geometry=gpd.points_from_xy(to_predict.longitude, to_predict.latitude))"
   ]
  },
  {
   "cell_type": "code",
   "execution_count": 8,
   "metadata": {
    "colab": {
     "base_uri": "https://localhost:8080/",
     "height": 896
    },
    "colab_type": "code",
    "id": "qBgW0FQRNdWD",
    "outputId": "72b55c09-3205-4051-8cc6-8a3faa7a003f"
   },
   "outputs": [
    {
     "name": "stdout",
     "output_type": "stream",
     "text": [
      "<class 'geopandas.geodataframe.GeoDataFrame'>\n",
      "Int64Index: 59400 entries, 0 to 59399\n",
      "Data columns (total 42 columns):\n",
      "id                       59400 non-null int64\n",
      "amount_tsh               59400 non-null float64\n",
      "date_recorded            59400 non-null object\n",
      "funder                   55765 non-null object\n",
      "gps_height               59400 non-null int64\n",
      "installer                55745 non-null object\n",
      "longitude                59400 non-null float64\n",
      "latitude                 59400 non-null float64\n",
      "wpt_name                 59400 non-null object\n",
      "num_private              59400 non-null int64\n",
      "basin                    59400 non-null object\n",
      "subvillage               59029 non-null object\n",
      "region                   59400 non-null object\n",
      "region_code              59400 non-null int64\n",
      "district_code            59400 non-null int64\n",
      "lga                      59400 non-null object\n",
      "ward                     59400 non-null object\n",
      "population               59400 non-null int64\n",
      "public_meeting           56066 non-null object\n",
      "recorded_by              59400 non-null object\n",
      "scheme_management        55523 non-null object\n",
      "scheme_name              31234 non-null object\n",
      "permit                   56344 non-null object\n",
      "construction_year        59400 non-null int64\n",
      "extraction_type          59400 non-null object\n",
      "extraction_type_group    59400 non-null object\n",
      "extraction_type_class    59400 non-null object\n",
      "management               59400 non-null object\n",
      "management_group         59400 non-null object\n",
      "payment                  59400 non-null object\n",
      "payment_type             59400 non-null object\n",
      "water_quality            59400 non-null object\n",
      "quality_group            59400 non-null object\n",
      "quantity                 59400 non-null object\n",
      "quantity_group           59400 non-null object\n",
      "source                   59400 non-null object\n",
      "source_type              59400 non-null object\n",
      "source_class             59400 non-null object\n",
      "waterpoint_type          59400 non-null object\n",
      "waterpoint_type_group    59400 non-null object\n",
      "status_group             59400 non-null object\n",
      "geometry                 59400 non-null geometry\n",
      "dtypes: float64(3), geometry(1), int64(7), object(31)\n",
      "memory usage: 19.5+ MB\n"
     ]
    }
   ],
   "source": [
    "# get information about data types and missing values\n",
    "train.info()"
   ]
  },
  {
   "cell_type": "markdown",
   "metadata": {
    "colab_type": "text",
    "id": "NClaDurEWnAa"
   },
   "source": [
    "## 1.1 Target variable 'status_group'"
   ]
  },
  {
   "cell_type": "code",
   "execution_count": 9,
   "metadata": {
    "colab": {
     "base_uri": "https://localhost:8080/",
     "height": 54
    },
    "colab_type": "code",
    "id": "JZ9CG1Lp8Wwt",
    "outputId": "34ba09ca-22c6-487f-cf1b-0ef990fa7dc2"
   },
   "outputs": [
    {
     "data": {
      "text/plain": [
       "array(['functional', 'non functional', 'functional needs repair'],\n",
       "      dtype=object)"
      ]
     },
     "execution_count": 9,
     "metadata": {},
     "output_type": "execute_result"
    }
   ],
   "source": [
    "train['status_group'].unique()\n",
    "# 3 ordinal values for ' status_group'"
   ]
  },
  {
   "cell_type": "markdown",
   "metadata": {
    "colab_type": "text",
    "id": "wrupRDNvCJJo"
   },
   "source": [
    "The target variabel has three distinct values, which indicate the condition of the well. These three values are actually ordinal: 1, if functional; 0, if not functional; 0.5, if functional but needs a repair.\n",
    "\n",
    "Especially for feature engineering this numerical mapping of the values is very useful and is thus going to be applied.\n",
    "\n",
    "Also I am going to have a quick look at the distribution of these three values in the training dataset."
   ]
  },
  {
   "cell_type": "code",
   "execution_count": 10,
   "metadata": {
    "colab": {},
    "colab_type": "code",
    "id": "lRHux2SF8lSo"
   },
   "outputs": [],
   "source": [
    "# create numerical equivalent to target variable for feature engineering\n",
    "mapping = {'functional':1, 'functional needs repair':0.5, 'non functional':0}\n",
    "train['status_group_numeric'] = train['status_group'].map(mapping)"
   ]
  },
  {
   "cell_type": "code",
   "execution_count": 11,
   "metadata": {
    "colab": {
     "base_uri": "https://localhost:8080/",
     "height": 465
    },
    "colab_type": "code",
    "id": "0MDR5Uzn-LO8",
    "outputId": "eccd3fcb-5355-43e5-e80d-757da83208fb"
   },
   "outputs": [
    {
     "data": {
      "image/png": "[encoded data removed]",
      "text/plain": [
       "<Figure size 504x432 with 1 Axes>"
      ]
     },
     "metadata": {},
     "output_type": "display_data"
    }
   ],
   "source": [
    "# distribution of the values in the training data\n",
    "sns.set()\n",
    "\n",
    "train['status_group'].value_counts().plot(kind='bar', figsize=(7, 6), rot=45)\n",
    "\n",
    "plt.show()"
   ]
  },
  {
   "cell_type": "markdown",
   "metadata": {
    "colab_type": "text",
    "id": "RPj7Y3bZW8eL"
   },
   "source": [
    "# 2. Exploratory data analysis & some cleansing"
   ]
  },
  {
   "cell_type": "markdown",
   "metadata": {
    "colab_type": "text",
    "id": "4uJu5dp1XBUX"
   },
   "source": [
    "There are tons of features in this dataset, which however can be grouped and summarized. I have identified the following six groups of features:\n",
    "\n",
    "\n",
    "\n",
    "*   Geographic / spatial features\n",
    "*   temporal features\n",
    "*   management / ownership features\n",
    "*   individual features about the wells and the water\n",
    "*   demographic, social and economic features\n",
    "*   other / remaining features\n",
    "\n",
    "\n",
    "I am going to work on each of these groups in subsequent steps.\n",
    "\n"
   ]
  },
  {
   "cell_type": "markdown",
   "metadata": {
    "colab_type": "text",
    "id": "aQdUMYIOZiuD"
   },
   "source": [
    "## 2.1 Other / remaining features"
   ]
  },
  {
   "cell_type": "markdown",
   "metadata": {
    "colab_type": "text",
    "id": "JiJoI7egZ9Q_"
   },
   "source": [
    "### 2.1.1 'recorded_by'"
   ]
  },
  {
   "cell_type": "code",
   "execution_count": 12,
   "metadata": {
    "colab": {
     "base_uri": "https://localhost:8080/",
     "height": 54
    },
    "colab_type": "code",
    "id": "fClDRvLhaC1R",
    "outputId": "42ab5617-d6e6-451c-ec39-408c3a60d0b4"
   },
   "outputs": [
    {
     "name": "stdout",
     "output_type": "stream",
     "text": [
      "['GeoData Consultants Ltd']\n",
      "['GeoData Consultants Ltd']\n"
     ]
    }
   ],
   "source": [
    "print(train['recorded_by'].unique())\n",
    "print(to_predict['recorded_by'].unique())"
   ]
  },
  {
   "cell_type": "markdown",
   "metadata": {
    "colab_type": "text",
    "id": "nVwI3Kb2aHja"
   },
   "source": [
    "The feature 'recorded_by' is the same for each observation, which means that there is no useful information in that feature. Thus, we can drop it."
   ]
  },
  {
   "cell_type": "code",
   "execution_count": 13,
   "metadata": {
    "colab": {},
    "colab_type": "code",
    "id": "FTMU_Lagah3K"
   },
   "outputs": [],
   "source": [
    "# drop column 'recorded_by'\n",
    "train.drop(['recorded_by'], axis=1, inplace=True)\n",
    "to_predict.drop(['recorded_by'], axis=1, inplace=True)"
   ]
  },
  {
   "cell_type": "markdown",
   "metadata": {
    "colab_type": "text",
    "id": "WfD6-6jXbXXz"
   },
   "source": [
    "### 2.1.2 'num_private'"
   ]
  },
  {
   "cell_type": "markdown",
   "metadata": {
    "colab_type": "text",
    "id": "0VTYgqSDbbmY"
   },
   "source": [
    "There is no real documentation that tells us, what this feature is about. Because of that we are going to do some EDA on that to look, if this feature might be useful"
   ]
  },
  {
   "cell_type": "code",
   "execution_count": 14,
   "metadata": {
    "colab": {
     "base_uri": "https://localhost:8080/",
     "height": 129
    },
    "colab_type": "code",
    "id": "pnHTqboxbrZx",
    "outputId": "32ad14d4-cd56-4473-e72e-cca982cd8280"
   },
   "outputs": [
    {
     "data": {
      "text/plain": [
       "array([   0,   39,    5,   45,    6,    3,  698,   32,   15,    7,   25,\n",
       "        102,    1,   93,   14,   34,  120,   17,  213,   47,    8,   41,\n",
       "         80,  141,   20,   35,  131,    4,   22,   11,   87,   61,   65,\n",
       "        136,    2,  180,   38,   62,    9,   16,   23,   42,   24,   12,\n",
       "        668,  672,   58,  150,  280,  160,   50, 1776,   30,   27,   10,\n",
       "         94,   26,  450,  240,  755,   60,  111,  300,   55, 1402],\n",
       "      dtype=int64)"
      ]
     },
     "execution_count": 14,
     "metadata": {},
     "output_type": "execute_result"
    }
   ],
   "source": [
    "train['num_private'].unique()"
   ]
  },
  {
   "cell_type": "code",
   "execution_count": 15,
   "metadata": {
    "colab": {
     "base_uri": "https://localhost:8080/",
     "height": 241
    },
    "colab_type": "code",
    "id": "wH7gxJu2cDXL",
    "outputId": "d098bdc8-7470-429e-e311-f0b8bfcc0bb0"
   },
   "outputs": [
    {
     "data": {
      "text/plain": [
       "0      0.987256\n",
       "6      0.001364\n",
       "1      0.001229\n",
       "5      0.000774\n",
       "8      0.000774\n",
       "         ...   \n",
       "180    0.000017\n",
       "213    0.000017\n",
       "23     0.000017\n",
       "55     0.000017\n",
       "94     0.000017\n",
       "Name: num_private, Length: 65, dtype: float64"
      ]
     },
     "execution_count": 15,
     "metadata": {},
     "output_type": "execute_result"
    }
   ],
   "source": [
    "train['num_private'].value_counts(normalize=True)"
   ]
  },
  {
   "cell_type": "markdown",
   "metadata": {
    "colab_type": "text",
    "id": "bYdQ1l2EcZ36"
   },
   "source": [
    "There are a lot of issues with this feature:\n",
    "1. We don't know at all what this feature tells us\n",
    "2. Almost all observations have the value 0 there, so we can't really infer any information from this feature.\n",
    "\n",
    "Becaus of these issues I am going to drop this column."
   ]
  },
  {
   "cell_type": "code",
   "execution_count": 16,
   "metadata": {
    "colab": {},
    "colab_type": "code",
    "id": "jLQibegq_Kb4"
   },
   "outputs": [],
   "source": [
    "# drop feature 'num_private'\n",
    "train.drop(['num_private'], axis=1, inplace=True)\n",
    "to_predict.drop(['num_private'], axis=1, inplace=True)"
   ]
  },
  {
   "cell_type": "markdown",
   "metadata": {
    "colab_type": "text",
    "id": "NzaNjetQc7Z6"
   },
   "source": [
    "## 2.2 Demographic, social and economic features"
   ]
  },
  {
   "cell_type": "markdown",
   "metadata": {
    "colab_type": "text",
    "id": "0HLkH8W5dFKG"
   },
   "source": [
    "### 2.2.1 Population"
   ]
  },
  {
   "cell_type": "markdown",
   "metadata": {
    "colab_type": "text",
    "id": "KHIiofC_dJNN"
   },
   "source": [
    "According to the documentation this feature is the \"Population around the well\". There is no further specification or explanation about this feature.\n",
    "\n",
    "There are no missing values for this feature."
   ]
  },
  {
   "cell_type": "code",
   "execution_count": 17,
   "metadata": {
    "colab": {
     "base_uri": "https://localhost:8080/",
     "height": 185
    },
    "colab_type": "code",
    "id": "dtau8BuLgKbJ",
    "outputId": "607507c7-965f-4c94-d74f-93e546e94da0"
   },
   "outputs": [
    {
     "data": {
      "text/plain": [
       "count    59400.000000\n",
       "mean       179.909983\n",
       "std        471.482176\n",
       "min          0.000000\n",
       "25%          0.000000\n",
       "50%         25.000000\n",
       "75%        215.000000\n",
       "max      30500.000000\n",
       "Name: population, dtype: float64"
      ]
     },
     "execution_count": 17,
     "metadata": {},
     "output_type": "execute_result"
    }
   ],
   "source": [
    "# get overview of range and distribution of 'population'\n",
    "train['population'].describe()"
   ]
  },
  {
   "cell_type": "code",
   "execution_count": 18,
   "metadata": {
    "colab": {
     "base_uri": "https://localhost:8080/",
     "height": 111
    },
    "colab_type": "code",
    "id": "bPzV3g22duyt",
    "outputId": "e21c2f13-7350-48b3-ddc5-0034e8fb0cf8"
   },
   "outputs": [
    {
     "data": {
      "text/html": [
       "<div>\n",
       "<style scoped>\n",
       "    .dataframe tbody tr th:only-of-type {\n",
       "        vertical-align: middle;\n",
       "    }\n",
       "\n",
       "    .dataframe tbody tr th {\n",
       "        vertical-align: top;\n",
       "    }\n",
       "\n",
       "    .dataframe thead th {\n",
       "        text-align: right;\n",
       "    }\n",
       "</style>\n",
       "<table border=\"1\" class=\"dataframe\">\n",
       "  <thead>\n",
       "    <tr style=\"text-align: right;\">\n",
       "      <th></th>\n",
       "      <th>count</th>\n",
       "      <th>mean</th>\n",
       "      <th>std</th>\n",
       "      <th>min</th>\n",
       "      <th>25%</th>\n",
       "      <th>50%</th>\n",
       "      <th>75%</th>\n",
       "      <th>max</th>\n",
       "    </tr>\n",
       "    <tr>\n",
       "      <th>status_group</th>\n",
       "      <th></th>\n",
       "      <th></th>\n",
       "      <th></th>\n",
       "      <th></th>\n",
       "      <th></th>\n",
       "      <th></th>\n",
       "      <th></th>\n",
       "      <th></th>\n",
       "    </tr>\n",
       "  </thead>\n",
       "  <tbody>\n",
       "    <tr>\n",
       "      <td>functional</td>\n",
       "      <td>32259.0</td>\n",
       "      <td>187.553303</td>\n",
       "      <td>513.198991</td>\n",
       "      <td>0.0</td>\n",
       "      <td>0.0</td>\n",
       "      <td>40.0</td>\n",
       "      <td>200.0</td>\n",
       "      <td>30500.0</td>\n",
       "    </tr>\n",
       "    <tr>\n",
       "      <td>functional needs repair</td>\n",
       "      <td>4317.0</td>\n",
       "      <td>175.102154</td>\n",
       "      <td>433.033756</td>\n",
       "      <td>0.0</td>\n",
       "      <td>0.0</td>\n",
       "      <td>25.0</td>\n",
       "      <td>245.0</td>\n",
       "      <td>15300.0</td>\n",
       "    </tr>\n",
       "    <tr>\n",
       "      <td>non functional</td>\n",
       "      <td>22824.0</td>\n",
       "      <td>170.016430</td>\n",
       "      <td>413.094978</td>\n",
       "      <td>0.0</td>\n",
       "      <td>0.0</td>\n",
       "      <td>1.0</td>\n",
       "      <td>230.0</td>\n",
       "      <td>9865.0</td>\n",
       "    </tr>\n",
       "  </tbody>\n",
       "</table>\n",
       "</div>"
      ],
      "text/plain": [
       "                           count        mean         std  min  25%   50%  \\\n",
       "status_group                                                               \n",
       "functional               32259.0  187.553303  513.198991  0.0  0.0  40.0   \n",
       "functional needs repair   4317.0  175.102154  433.033756  0.0  0.0  25.0   \n",
       "non functional           22824.0  170.016430  413.094978  0.0  0.0   1.0   \n",
       "\n",
       "                           75%      max  \n",
       "status_group                             \n",
       "functional               200.0  30500.0  \n",
       "functional needs repair  245.0  15300.0  \n",
       "non functional           230.0   9865.0  "
      ]
     },
     "execution_count": 18,
     "metadata": {},
     "output_type": "execute_result"
    }
   ],
   "source": [
    "# eda on relationship between population and status of the wells\n",
    "train.groupby('status_group')['population'].describe()"
   ]
  },
  {
   "cell_type": "markdown",
   "metadata": {
    "colab_type": "text",
    "id": "mEw33daIhefp"
   },
   "source": [
    "There is a little effect of 'population' on 'status_group':\n",
    "\n",
    "The larger the population, the more likely the well is in a good / functioning condition."
   ]
  },
  {
   "cell_type": "markdown",
   "metadata": {
    "colab_type": "text",
    "id": "WIQJKpNoh9e6"
   },
   "source": [
    "### 2.2.2 'public_meeting'"
   ]
  },
  {
   "cell_type": "code",
   "execution_count": 19,
   "metadata": {
    "colab": {
     "base_uri": "https://localhost:8080/",
     "height": 36
    },
    "colab_type": "code",
    "id": "M8fcxtMZiBBF",
    "outputId": "ae0655c4-582c-4809-e866-58bd7f456bc0"
   },
   "outputs": [
    {
     "data": {
      "text/plain": [
       "array([True, nan, False], dtype=object)"
      ]
     },
     "execution_count": 19,
     "metadata": {},
     "output_type": "execute_result"
    }
   ],
   "source": [
    "train['public_meeting'].unique()"
   ]
  },
  {
   "cell_type": "markdown",
   "metadata": {
    "colab_type": "text",
    "id": "MWeC1lwrmS0T"
   },
   "source": [
    "There are missing values"
   ]
  },
  {
   "cell_type": "code",
   "execution_count": 20,
   "metadata": {
    "colab": {},
    "colab_type": "code",
    "id": "fVsrA4eGlu6I"
   },
   "outputs": [],
   "source": [
    "# convert data type of 'public_meetin' to float\n",
    "train['public_meeting'] = train['public_meeting'].astype('float')\n",
    "to_predict['public_meeting'] = to_predict['public_meeting'].astype('float')"
   ]
  },
  {
   "cell_type": "code",
   "execution_count": 21,
   "metadata": {
    "colab": {
     "base_uri": "https://localhost:8080/",
     "height": 111
    },
    "colab_type": "code",
    "id": "o6AIvPDgmAg3",
    "outputId": "646cd436-0696-40cc-c9ff-9f3a07b2a14f"
   },
   "outputs": [
    {
     "data": {
      "text/plain": [
       "status_group\n",
       "functional                 0.928943\n",
       "functional needs repair    0.893776\n",
       "non functional             0.885575\n",
       "Name: public_meeting, dtype: float64"
      ]
     },
     "execution_count": 21,
     "metadata": {},
     "output_type": "execute_result"
    }
   ],
   "source": [
    "# exploratory analysis on the effect of 'public_meeting' on 'status_group'\n",
    "train.groupby('status_group')['public_meeting'].mean()"
   ]
  },
  {
   "cell_type": "code",
   "execution_count": 22,
   "metadata": {
    "colab": {
     "base_uri": "https://localhost:8080/",
     "height": 92
    },
    "colab_type": "code",
    "id": "VjJSyp-Y_n07",
    "outputId": "1d68dfa2-5797-4167-8541-c6ec5c242696"
   },
   "outputs": [
    {
     "data": {
      "text/plain": [
       "public_meeting\n",
       "0.0    0.473591\n",
       "1.0    0.593352\n",
       "Name: status_group_numeric, dtype: float64"
      ]
     },
     "execution_count": 22,
     "metadata": {},
     "output_type": "execute_result"
    }
   ],
   "source": [
    "# explore difference in \"average functionality\"\n",
    "train.groupby('public_meeting')['status_group_numeric'].mean()"
   ]
  },
  {
   "cell_type": "code",
   "execution_count": 23,
   "metadata": {},
   "outputs": [
    {
     "data": {
      "text/html": [
       "<div>\n",
       "<style scoped>\n",
       "    .dataframe tbody tr th:only-of-type {\n",
       "        vertical-align: middle;\n",
       "    }\n",
       "\n",
       "    .dataframe tbody tr th {\n",
       "        vertical-align: top;\n",
       "    }\n",
       "\n",
       "    .dataframe thead th {\n",
       "        text-align: right;\n",
       "    }\n",
       "</style>\n",
       "<table border=\"1\" class=\"dataframe\">\n",
       "  <thead>\n",
       "    <tr style=\"text-align: right;\">\n",
       "      <th>status_group</th>\n",
       "      <th>functional</th>\n",
       "      <th>functional needs repair</th>\n",
       "      <th>non functional</th>\n",
       "    </tr>\n",
       "    <tr>\n",
       "      <th>public_meeting</th>\n",
       "      <th></th>\n",
       "      <th></th>\n",
       "      <th></th>\n",
       "    </tr>\n",
       "  </thead>\n",
       "  <tbody>\n",
       "    <tr>\n",
       "      <td>0.0</td>\n",
       "      <td>0.429871</td>\n",
       "      <td>0.087438</td>\n",
       "      <td>0.482690</td>\n",
       "    </tr>\n",
       "    <tr>\n",
       "      <td>1.0</td>\n",
       "      <td>0.556899</td>\n",
       "      <td>0.072906</td>\n",
       "      <td>0.370195</td>\n",
       "    </tr>\n",
       "  </tbody>\n",
       "</table>\n",
       "</div>"
      ],
      "text/plain": [
       "status_group    functional  functional needs repair  non functional\n",
       "public_meeting                                                     \n",
       "0.0               0.429871                 0.087438        0.482690\n",
       "1.0               0.556899                 0.072906        0.370195"
      ]
     },
     "execution_count": 23,
     "metadata": {},
     "output_type": "execute_result"
    }
   ],
   "source": [
    "# more detailed exploration\n",
    "pd.crosstab(train['public_meeting'], train['status_group'], normalize='index')"
   ]
  },
  {
   "cell_type": "code",
   "execution_count": 24,
   "metadata": {
    "colab": {
     "base_uri": "https://localhost:8080/",
     "height": 36
    },
    "colab_type": "code",
    "id": "HPgB_bApmZk3",
    "outputId": "792dbd42-d8f5-4481-d63c-e323a4523f44"
   },
   "outputs": [
    {
     "data": {
      "text/plain": [
       "0.5266946610677864"
      ]
     },
     "execution_count": 24,
     "metadata": {},
     "output_type": "execute_result"
    }
   ],
   "source": [
    "# exploratory analysis on the role of missing features in 'public_meeting'\n",
    "train[train['public_meeting'].isnull()]['status_group_numeric'].mean()"
   ]
  },
  {
   "cell_type": "code",
   "execution_count": 25,
   "metadata": {},
   "outputs": [
    {
     "data": {
      "text/plain": [
       "functional                 0.503299\n",
       "non functional             0.449910\n",
       "functional needs repair    0.046791\n",
       "Name: status_group, dtype: float64"
      ]
     },
     "execution_count": 25,
     "metadata": {},
     "output_type": "execute_result"
    }
   ],
   "source": [
    "train[train['public_meeting'].isnull()]['status_group'].value_counts(normalize=True)"
   ]
  },
  {
   "cell_type": "markdown",
   "metadata": {
    "colab_type": "text",
    "id": "MFAT4hMimtkj"
   },
   "source": [
    "We don't really know what exactly 'public_meeting' is supposed to mean. However, we could observe a little effect of it on 'status_group'. Also, if there are missing values, there seems to be a higher chance, that the well is not functioning."
   ]
  },
  {
   "cell_type": "markdown",
   "metadata": {
    "colab_type": "text",
    "id": "sLsU8VRhnBMx"
   },
   "source": [
    "### 2.2.3 'permit'"
   ]
  },
  {
   "cell_type": "markdown",
   "metadata": {
    "colab_type": "text",
    "id": "dagVh6ecnc9Z"
   },
   "source": [
    "This feature tells us, if the well is permitted, i.e. if it is legal."
   ]
  },
  {
   "cell_type": "code",
   "execution_count": 26,
   "metadata": {
    "colab": {
     "base_uri": "https://localhost:8080/",
     "height": 36
    },
    "colab_type": "code",
    "id": "B57oGckmnFgw",
    "outputId": "045cdfbf-e813-46e6-a9bf-68a94c45fa28"
   },
   "outputs": [
    {
     "data": {
      "text/plain": [
       "array([False, True, nan], dtype=object)"
      ]
     },
     "execution_count": 26,
     "metadata": {},
     "output_type": "execute_result"
    }
   ],
   "source": [
    "train['permit'].unique()"
   ]
  },
  {
   "cell_type": "markdown",
   "metadata": {},
   "source": [
    "There are some missing values here as well."
   ]
  },
  {
   "cell_type": "code",
   "execution_count": 27,
   "metadata": {
    "colab": {
     "base_uri": "https://localhost:8080/",
     "height": 73
    },
    "colab_type": "code",
    "id": "gRl6wq9_nP3I",
    "outputId": "f957986c-a0b9-4f51-f41e-562d1403bd5b"
   },
   "outputs": [
    {
     "data": {
      "text/plain": [
       "True     0.68955\n",
       "False    0.31045\n",
       "Name: permit, dtype: float64"
      ]
     },
     "execution_count": 27,
     "metadata": {},
     "output_type": "execute_result"
    }
   ],
   "source": [
    "train['permit'].value_counts(normalize=True)"
   ]
  },
  {
   "cell_type": "code",
   "execution_count": 28,
   "metadata": {
    "colab": {},
    "colab_type": "code",
    "id": "loCY-ntjnyYm"
   },
   "outputs": [],
   "source": [
    "# convert to numeric format\n",
    "train['permit'] = train['permit'].astype('float')\n",
    "to_predict['permit'] = to_predict['permit'].astype('float')"
   ]
  },
  {
   "cell_type": "code",
   "execution_count": 29,
   "metadata": {
    "colab": {
     "base_uri": "https://localhost:8080/",
     "height": 111
    },
    "colab_type": "code",
    "id": "I_ypOaP2njnZ",
    "outputId": "aeb88653-9bbc-4082-cc07-8e3e969b98bd"
   },
   "outputs": [
    {
     "data": {
      "text/plain": [
       "status_group\n",
       "functional                 0.704276\n",
       "functional needs repair    0.671397\n",
       "non functional             0.672186\n",
       "Name: permit, dtype: float64"
      ]
     },
     "execution_count": 29,
     "metadata": {},
     "output_type": "execute_result"
    }
   ],
   "source": [
    "train.groupby('status_group')['permit'].mean()"
   ]
  },
  {
   "cell_type": "code",
   "execution_count": 30,
   "metadata": {},
   "outputs": [
    {
     "data": {
      "text/html": [
       "<div>\n",
       "<style scoped>\n",
       "    .dataframe tbody tr th:only-of-type {\n",
       "        vertical-align: middle;\n",
       "    }\n",
       "\n",
       "    .dataframe tbody tr th {\n",
       "        vertical-align: top;\n",
       "    }\n",
       "\n",
       "    .dataframe thead th {\n",
       "        text-align: right;\n",
       "    }\n",
       "</style>\n",
       "<table border=\"1\" class=\"dataframe\">\n",
       "  <thead>\n",
       "    <tr style=\"text-align: right;\">\n",
       "      <th>status_group</th>\n",
       "      <th>functional</th>\n",
       "      <th>functional needs repair</th>\n",
       "      <th>non functional</th>\n",
       "    </tr>\n",
       "    <tr>\n",
       "      <th>permit</th>\n",
       "      <th></th>\n",
       "      <th></th>\n",
       "      <th></th>\n",
       "    </tr>\n",
       "  </thead>\n",
       "  <tbody>\n",
       "    <tr>\n",
       "      <td>0.0</td>\n",
       "      <td>0.517094</td>\n",
       "      <td>0.075463</td>\n",
       "      <td>0.407443</td>\n",
       "    </tr>\n",
       "    <tr>\n",
       "      <td>1.0</td>\n",
       "      <td>0.554437</td>\n",
       "      <td>0.069417</td>\n",
       "      <td>0.376145</td>\n",
       "    </tr>\n",
       "  </tbody>\n",
       "</table>\n",
       "</div>"
      ],
      "text/plain": [
       "status_group  functional  functional needs repair  non functional\n",
       "permit                                                           \n",
       "0.0             0.517094                 0.075463        0.407443\n",
       "1.0             0.554437                 0.069417        0.376145"
      ]
     },
     "execution_count": 30,
     "metadata": {},
     "output_type": "execute_result"
    }
   ],
   "source": [
    "pd.crosstab(train['permit'], train['status_group'], normalize='index')"
   ]
  },
  {
   "cell_type": "code",
   "execution_count": 31,
   "metadata": {
    "colab": {
     "base_uri": "https://localhost:8080/",
     "height": 92
    },
    "colab_type": "code",
    "id": "4e7hI-e-pxo0",
    "outputId": "7b41e265-c880-4c9f-d1f9-ef201c1f12b5"
   },
   "outputs": [
    {
     "data": {
      "text/plain": [
       "permit\n",
       "0.0    0.554825\n",
       "1.0    0.589146\n",
       "Name: status_group_numeric, dtype: float64"
      ]
     },
     "execution_count": 31,
     "metadata": {},
     "output_type": "execute_result"
    }
   ],
   "source": [
    "train.groupby('permit')['status_group_numeric'].mean()"
   ]
  },
  {
   "cell_type": "code",
   "execution_count": 32,
   "metadata": {
    "colab": {
     "base_uri": "https://localhost:8080/",
     "height": 36
    },
    "colab_type": "code",
    "id": "Ce7FTC4qn-8y",
    "outputId": "3649dd94-f565-45f6-973d-00b9d617d90c"
   },
   "outputs": [
    {
     "data": {
      "text/plain": [
       "0.5965314136125655"
      ]
     },
     "execution_count": 32,
     "metadata": {},
     "output_type": "execute_result"
    }
   ],
   "source": [
    "train[train['permit'].isnull()]['status_group_numeric'].mean()"
   ]
  },
  {
   "cell_type": "code",
   "execution_count": 33,
   "metadata": {
    "colab": {
     "base_uri": "https://localhost:8080/",
     "height": 92
    },
    "colab_type": "code",
    "id": "9hDpP2hLAp7d",
    "outputId": "9c31fc7b-da3b-49ef-bf5a-63532bcff8cf"
   },
   "outputs": [
    {
     "data": {
      "text/plain": [
       "functional                 0.547448\n",
       "non functional             0.354385\n",
       "functional needs repair    0.098168\n",
       "Name: status_group, dtype: float64"
      ]
     },
     "execution_count": 33,
     "metadata": {},
     "output_type": "execute_result"
    }
   ],
   "source": [
    "train[train['permit'].isnull()]['status_group'].value_counts(normalize=True)"
   ]
  },
  {
   "cell_type": "markdown",
   "metadata": {
    "colab_type": "text",
    "id": "cbq-N-TFrtEg"
   },
   "source": [
    "## 2.3 Temporal features"
   ]
  },
  {
   "cell_type": "markdown",
   "metadata": {
    "colab_type": "text",
    "id": "2OxDZkZtr0LZ"
   },
   "source": [
    "### 2.3.1 'date_recorded'"
   ]
  },
  {
   "cell_type": "markdown",
   "metadata": {
    "colab_type": "text",
    "id": "OeNFrPwr1PKC"
   },
   "source": [
    "Maybe the time dimension has an effect on the condition of the wells as well due to seasonal weather conditions."
   ]
  },
  {
   "cell_type": "code",
   "execution_count": 34,
   "metadata": {
    "colab": {},
    "colab_type": "code",
    "id": "xT1FygYhr9eQ"
   },
   "outputs": [],
   "source": [
    "# convert 'date_recorded' to datetime objects\n",
    "train['date_recorded'] = pd.to_datetime(train['date_recorded'])\n",
    "to_predict['date_recorded'] = pd.to_datetime(to_predict['date_recorded'])"
   ]
  },
  {
   "cell_type": "code",
   "execution_count": 35,
   "metadata": {
    "colab": {},
    "colab_type": "code",
    "id": "LDeYD1jzsDOu"
   },
   "outputs": [],
   "source": [
    "# extract month in which the well has been observede / recorded\n",
    "train['month_recorded'] = train['date_recorded'].dt.month\n",
    "to_predict['month_recorded'] = to_predict['date_recorded'].dt.month"
   ]
  },
  {
   "cell_type": "code",
   "execution_count": 36,
   "metadata": {
    "colab": {},
    "colab_type": "code",
    "id": "kl4VFeSKsZQs"
   },
   "outputs": [],
   "source": [
    "# create crosstab with counts of observed statuses with months as indices\n",
    "wells_month = pd.crosstab(train['month_recorded'], train['status_group'])"
   ]
  },
  {
   "cell_type": "code",
   "execution_count": 37,
   "metadata": {
    "colab": {
     "base_uri": "https://localhost:8080/",
     "height": 355
    },
    "colab_type": "code",
    "id": "m2ROmFImscQm",
    "outputId": "ce2af62b-3e69-4b1f-d838-4f5f2b9f05e2"
   },
   "outputs": [
    {
     "data": {
      "image/png": "[encoded data removed]",
      "text/plain": [
       "<Figure size 720x360 with 1 Axes>"
      ]
     },
     "metadata": {},
     "output_type": "display_data"
    }
   ],
   "source": [
    "sns.set_style('whitegrid')\n",
    "\n",
    "wells_month.plot(figsize=(10, 5))\n",
    "\n",
    "plt.xlabel('Month')\n",
    "plt.ylabel('Counts')\n",
    "plt.title('Wells stati time series')\n",
    "plt.xticks([1, 2, 3, 4, 5, 6, 7, 8, 9, 10, 11, 12])\n",
    "plt.grid(True)\n",
    "\n",
    "plt.show()"
   ]
  },
  {
   "cell_type": "code",
   "execution_count": 38,
   "metadata": {
    "colab": {
     "base_uri": "https://localhost:8080/",
     "height": 260
    },
    "colab_type": "code",
    "id": "ffHIAG5OBaM_",
    "outputId": "26daef84-39dc-4f0d-f30a-4e3c93db563b"
   },
   "outputs": [
    {
     "data": {
      "text/plain": [
       "3     0.301953\n",
       "2     0.208788\n",
       "7     0.116633\n",
       "1     0.106970\n",
       "10    0.092020\n",
       "4     0.066835\n",
       "8     0.056633\n",
       "11    0.022710\n",
       "12    0.010455\n",
       "6     0.005825\n",
       "5     0.005657\n",
       "9     0.005522\n",
       "Name: month_recorded, dtype: float64"
      ]
     },
     "execution_count": 38,
     "metadata": {},
     "output_type": "execute_result"
    }
   ],
   "source": [
    "# check if the spike in March is due to general distribution\n",
    "train['month_recorded'].value_counts(normalize=True)"
   ]
  },
  {
   "cell_type": "markdown",
   "metadata": {
    "colab_type": "text",
    "id": "5rE9eSMU6UwW"
   },
   "source": [
    "The time / month feature does not seem to give us useful information in general. That is because this feature rather shows us, when the government has been examining the wells a lot, i.e. the distribution of the months is very unequal."
   ]
  },
  {
   "cell_type": "markdown",
   "metadata": {
    "colab_type": "text",
    "id": "XS65UC0XsjOz"
   },
   "source": [
    "### 2.3.2 'construction_year'"
   ]
  },
  {
   "cell_type": "markdown",
   "metadata": {
    "colab_type": "text",
    "id": "Me_Ampuxs5_M"
   },
   "source": [
    "There are no 'official' missing values in 'construction_year'"
   ]
  },
  {
   "cell_type": "code",
   "execution_count": 39,
   "metadata": {
    "colab": {
     "base_uri": "https://localhost:8080/",
     "height": 111
    },
    "colab_type": "code",
    "id": "kzuYhL1-soKg",
    "outputId": "150ec77d-11e5-4fc3-f587-a566632b6874"
   },
   "outputs": [
    {
     "data": {
      "text/plain": [
       "array([1999, 2010, 2009, 1986,    0, 2011, 1987, 1991, 1978, 1992, 2008,\n",
       "       1974, 2000, 2002, 2004, 1972, 2003, 1980, 2007, 1973, 1985, 1970,\n",
       "       1995, 2006, 1962, 2005, 1997, 2012, 1996, 1977, 1983, 1984, 1990,\n",
       "       1982, 1976, 1988, 1989, 1975, 1960, 1961, 1998, 1963, 1971, 1994,\n",
       "       1968, 1993, 2001, 1979, 1967, 2013, 1969, 1981, 1964, 1966, 1965],\n",
       "      dtype=int64)"
      ]
     },
     "execution_count": 39,
     "metadata": {},
     "output_type": "execute_result"
    }
   ],
   "source": [
    "train['construction_year'].unique()"
   ]
  },
  {
   "cell_type": "code",
   "execution_count": 40,
   "metadata": {
    "colab": {
     "base_uri": "https://localhost:8080/",
     "height": 111
    },
    "colab_type": "code",
    "id": "FqEIp0qPtTVO",
    "outputId": "6dc46ede-5eaa-4c1b-b4e7-7d77157303a2"
   },
   "outputs": [
    {
     "data": {
      "text/plain": [
       "array([2012, 2000, 2010, 1987, 1990, 2007, 1982, 1997, 2003, 2006, 2002,\n",
       "          0, 1984, 1989, 1978, 2008, 2005, 1970, 2009, 1998, 1971, 1972,\n",
       "       1983, 1974, 1992, 1999, 2004, 2011, 1988, 1962, 1986, 1985, 1969,\n",
       "       1996, 1994, 1960, 1975, 1981, 1995, 1963, 1977, 2001, 1993, 1991,\n",
       "       1976, 1980, 2013, 1979, 1967, 1973, 1968, 1965, 1961, 1966, 1964],\n",
       "      dtype=int64)"
      ]
     },
     "execution_count": 40,
     "metadata": {},
     "output_type": "execute_result"
    }
   ],
   "source": [
    "to_predict['construction_year'].unique()"
   ]
  },
  {
   "cell_type": "code",
   "execution_count": 41,
   "metadata": {
    "colab": {
     "base_uri": "https://localhost:8080/",
     "height": 54
    },
    "colab_type": "code",
    "id": "h5KbIrENs2PI",
    "outputId": "de9e63b8-35a1-4a13-ceba-94cd6ee9c3d8"
   },
   "outputs": [
    {
     "name": "stdout",
     "output_type": "stream",
     "text": [
      "20709\n",
      "5260\n"
     ]
    }
   ],
   "source": [
    "print(len(train[train['construction_year'] == 0]))\n",
    "print(len(to_predict[to_predict['construction_year'] == 0]))"
   ]
  },
  {
   "cell_type": "markdown",
   "metadata": {
    "colab_type": "text",
    "id": "8WStaHHFt8kJ"
   },
   "source": [
    "However, the value 0 for 'construction_year' seems to indicate missing values."
   ]
  },
  {
   "cell_type": "code",
   "execution_count": 42,
   "metadata": {
    "colab": {},
    "colab_type": "code",
    "id": "xrpRQmgauGHD"
   },
   "outputs": [],
   "source": [
    "# replace 0 with missing values\n",
    "train['construction_year'].replace(0, np.nan, inplace=True)\n",
    "to_predict['construction_year'].replace(0, np.nan, inplace=True)"
   ]
  },
  {
   "cell_type": "markdown",
   "metadata": {
    "colab_type": "text",
    "id": "dwWXzP6qwGpQ"
   },
   "source": [
    "Now we can calculate the age of each well"
   ]
  },
  {
   "cell_type": "code",
   "execution_count": 43,
   "metadata": {
    "colab": {},
    "colab_type": "code",
    "id": "HVXj29BwwKZ2"
   },
   "outputs": [],
   "source": [
    "# create a variable with today's date / year\n",
    "current_year = 2020"
   ]
  },
  {
   "cell_type": "code",
   "execution_count": 44,
   "metadata": {
    "colab": {},
    "colab_type": "code",
    "id": "jq-gn1OlwXCq"
   },
   "outputs": [],
   "source": [
    "# calculate age of wells\n",
    "train['waterpoint_age'] = current_year - train['construction_year']\n",
    "to_predict['waterpoint_age'] = current_year - to_predict['construction_year']"
   ]
  },
  {
   "cell_type": "code",
   "execution_count": 45,
   "metadata": {
    "colab": {
     "base_uri": "https://localhost:8080/",
     "height": 111
    },
    "colab_type": "code",
    "id": "fcLQv-kNyB-t",
    "outputId": "fa7dad81-f882-43db-cdaa-20acf021a15c"
   },
   "outputs": [
    {
     "data": {
      "text/html": [
       "<div>\n",
       "<style scoped>\n",
       "    .dataframe tbody tr th:only-of-type {\n",
       "        vertical-align: middle;\n",
       "    }\n",
       "\n",
       "    .dataframe tbody tr th {\n",
       "        vertical-align: top;\n",
       "    }\n",
       "\n",
       "    .dataframe thead th {\n",
       "        text-align: right;\n",
       "    }\n",
       "</style>\n",
       "<table border=\"1\" class=\"dataframe\">\n",
       "  <thead>\n",
       "    <tr style=\"text-align: right;\">\n",
       "      <th></th>\n",
       "      <th>count</th>\n",
       "      <th>mean</th>\n",
       "      <th>std</th>\n",
       "      <th>min</th>\n",
       "      <th>25%</th>\n",
       "      <th>50%</th>\n",
       "      <th>75%</th>\n",
       "      <th>max</th>\n",
       "    </tr>\n",
       "    <tr>\n",
       "      <th>status_group</th>\n",
       "      <th></th>\n",
       "      <th></th>\n",
       "      <th></th>\n",
       "      <th></th>\n",
       "      <th></th>\n",
       "      <th></th>\n",
       "      <th></th>\n",
       "      <th></th>\n",
       "    </tr>\n",
       "  </thead>\n",
       "  <tbody>\n",
       "    <tr>\n",
       "      <td>functional</td>\n",
       "      <td>21704.0</td>\n",
       "      <td>20.061325</td>\n",
       "      <td>10.931700</td>\n",
       "      <td>7.0</td>\n",
       "      <td>11.0</td>\n",
       "      <td>17.0</td>\n",
       "      <td>25.0</td>\n",
       "      <td>60.0</td>\n",
       "    </tr>\n",
       "    <tr>\n",
       "      <td>functional needs repair</td>\n",
       "      <td>2528.0</td>\n",
       "      <td>24.742089</td>\n",
       "      <td>12.533262</td>\n",
       "      <td>7.0</td>\n",
       "      <td>14.0</td>\n",
       "      <td>22.0</td>\n",
       "      <td>35.0</td>\n",
       "      <td>60.0</td>\n",
       "    </tr>\n",
       "    <tr>\n",
       "      <td>non functional</td>\n",
       "      <td>14459.0</td>\n",
       "      <td>27.602462</td>\n",
       "      <td>13.222473</td>\n",
       "      <td>7.0</td>\n",
       "      <td>16.0</td>\n",
       "      <td>26.0</td>\n",
       "      <td>39.0</td>\n",
       "      <td>60.0</td>\n",
       "    </tr>\n",
       "  </tbody>\n",
       "</table>\n",
       "</div>"
      ],
      "text/plain": [
       "                           count       mean        std  min   25%   50%   75%  \\\n",
       "status_group                                                                    \n",
       "functional               21704.0  20.061325  10.931700  7.0  11.0  17.0  25.0   \n",
       "functional needs repair   2528.0  24.742089  12.533262  7.0  14.0  22.0  35.0   \n",
       "non functional           14459.0  27.602462  13.222473  7.0  16.0  26.0  39.0   \n",
       "\n",
       "                          max  \n",
       "status_group                   \n",
       "functional               60.0  \n",
       "functional needs repair  60.0  \n",
       "non functional           60.0  "
      ]
     },
     "execution_count": 45,
     "metadata": {},
     "output_type": "execute_result"
    }
   ],
   "source": [
    "train.groupby('status_group')['waterpoint_age'].describe()"
   ]
  },
  {
   "cell_type": "code",
   "execution_count": 46,
   "metadata": {
    "colab": {
     "base_uri": "https://localhost:8080/",
     "height": 92
    },
    "colab_type": "code",
    "id": "9MsH1pwDCAVt",
    "outputId": "21d3a219-ae9c-4596-d38c-1ffab77741a7"
   },
   "outputs": [
    {
     "data": {
      "text/plain": [
       "functional                 0.509682\n",
       "non functional             0.403931\n",
       "functional needs repair    0.086388\n",
       "Name: status_group, dtype: float64"
      ]
     },
     "execution_count": 46,
     "metadata": {},
     "output_type": "execute_result"
    }
   ],
   "source": [
    "train[train['waterpoint_age'].isnull()]['status_group'].value_counts(normalize=True)"
   ]
  },
  {
   "cell_type": "code",
   "execution_count": 47,
   "metadata": {
    "colab": {
     "base_uri": "https://localhost:8080/",
     "height": 640
    },
    "colab_type": "code",
    "id": "qXwmq7PiDeSC",
    "outputId": "fd4a98ef-5589-4b71-cfcd-72d045cccf5c"
   },
   "outputs": [
    {
     "data": {
      "image/png": "[encoded data removed]",
      "text/plain": [
       "<Figure size 960x720 with 1 Axes>"
      ]
     },
     "metadata": {},
     "output_type": "display_data"
    }
   ],
   "source": [
    "sns.set()\n",
    "plt.figure(figsize=(12,9), dpi= 80)\n",
    "\n",
    "sns.distplot(train.loc[train['status_group']=='functional', 'waterpoint_age'].dropna(), kde=False, norm_hist=True,\n",
    "             color='green',hist_kws={'alpha':.7}, kde_kws={'linewidth':3}, label=\"functional\")\n",
    "sns.distplot(train.loc[train['status_group']=='non functional', 'waterpoint_age'].dropna(), kde=False, norm_hist=True,\n",
    "             color='red',hist_kws={'alpha':.7}, kde_kws={'linewidth':3}, label=\"non functional\")\n",
    "sns.distplot(train.loc[train['status_group']=='functional needs repair', 'waterpoint_age'].dropna(), kde=False, norm_hist=True,\n",
    "             color='yellow',hist_kws={'alpha':.7}, kde_kws={'linewidth':3}, label=\"functional, needs repair\")\n",
    "\n",
    "plt.legend()\n",
    "plt.xlabel('Age')\n",
    "plt.ylabel('Density')\n",
    "plt.title(\"Distribution of age in dependence of a well's status\", fontsize=20)\n",
    "\n",
    "plt.show()"
   ]
  },
  {
   "cell_type": "markdown",
   "metadata": {
    "colab_type": "text",
    "id": "20ZPOjHRy-r-"
   },
   "source": [
    "## 2.4 Management / ownership features"
   ]
  },
  {
   "cell_type": "markdown",
   "metadata": {
    "colab_type": "text",
    "id": "5wR10x7_mjEr"
   },
   "source": [
    "### 2.4.1 'scheme_management' / 'management' / 'management_group'"
   ]
  },
  {
   "cell_type": "markdown",
   "metadata": {
    "colab_type": "text",
    "id": "ma1aq0VAnMNw"
   },
   "source": [
    "\"Who operates the waterpoint\" / \"How the waterpoint is managed\"\n",
    "\n",
    "There are missing values."
   ]
  },
  {
   "cell_type": "code",
   "execution_count": 48,
   "metadata": {
    "colab": {
     "base_uri": "https://localhost:8080/",
     "height": 36
    },
    "colab_type": "code",
    "id": "FrRvQWSemsuv",
    "outputId": "fd0f8c8c-f1e6-4081-870f-5be99052fc2b"
   },
   "outputs": [
    {
     "name": "stdout",
     "output_type": "stream",
     "text": [
      "['VWC' 'Other' nan 'Private operator' 'WUG' 'Water Board' 'WUA'\n",
      " 'Water authority' 'Company' 'Parastatal' 'Trust' 'SWC' 'None']\n",
      "13\n"
     ]
    }
   ],
   "source": [
    "print(train['scheme_management'].unique())\n",
    "print(len(train['scheme_management'].unique()))"
   ]
  },
  {
   "cell_type": "code",
   "execution_count": 49,
   "metadata": {},
   "outputs": [
    {
     "name": "stdout",
     "output_type": "stream",
     "text": [
      "['vwc' 'wug' 'other' 'private operator' 'water board' 'wua' 'company'\n",
      " 'water authority' 'parastatal' 'unknown' 'other - school' 'trust']\n",
      "12\n"
     ]
    }
   ],
   "source": [
    "print(train['management'].unique())\n",
    "print(len(train['management'].unique()))"
   ]
  },
  {
   "cell_type": "code",
   "execution_count": 50,
   "metadata": {},
   "outputs": [
    {
     "name": "stdout",
     "output_type": "stream",
     "text": [
      "['user-group' 'other' 'commercial' 'parastatal' 'unknown']\n",
      "5\n"
     ]
    }
   ],
   "source": [
    "print(train['management_group'].unique())\n",
    "print(len(train['management_group'].unique()))"
   ]
  },
  {
   "cell_type": "code",
   "execution_count": 51,
   "metadata": {},
   "outputs": [
    {
     "data": {
      "text/plain": [
       "VWC                 36793\n",
       "WUG                  5206\n",
       "Water authority      3153\n",
       "WUA                  2883\n",
       "Water Board          2748\n",
       "Parastatal           1680\n",
       "Private operator     1063\n",
       "Company              1061\n",
       "Other                 766\n",
       "SWC                    97\n",
       "Trust                  72\n",
       "None                    1\n",
       "Name: scheme_management, dtype: int64"
      ]
     },
     "execution_count": 51,
     "metadata": {},
     "output_type": "execute_result"
    }
   ],
   "source": [
    "train['scheme_management'].value_counts()"
   ]
  },
  {
   "cell_type": "code",
   "execution_count": 52,
   "metadata": {},
   "outputs": [
    {
     "data": {
      "text/plain": [
       "vwc                 40507\n",
       "wug                  6515\n",
       "water board          2933\n",
       "wua                  2535\n",
       "private operator     1971\n",
       "parastatal           1768\n",
       "water authority       904\n",
       "other                 844\n",
       "company               685\n",
       "unknown               561\n",
       "other - school         99\n",
       "trust                  78\n",
       "Name: management, dtype: int64"
      ]
     },
     "execution_count": 52,
     "metadata": {},
     "output_type": "execute_result"
    }
   ],
   "source": [
    "train['management'].value_counts()"
   ]
  },
  {
   "cell_type": "code",
   "execution_count": 53,
   "metadata": {},
   "outputs": [
    {
     "data": {
      "text/plain": [
       "0"
      ]
     },
     "execution_count": 53,
     "metadata": {},
     "output_type": "execute_result"
    }
   ],
   "source": [
    "train['management'].isnull().sum()"
   ]
  },
  {
   "cell_type": "markdown",
   "metadata": {},
   "source": [
    "Since the column 'management' has no missing values and the size and number of the different groups is reasonable, I am going to use this column for our analysis and drop the other two."
   ]
  },
  {
   "cell_type": "code",
   "execution_count": 54,
   "metadata": {},
   "outputs": [],
   "source": [
    "# drop columns 'scheme_management'\n",
    "train.drop(['scheme_management'], axis=1, inplace=True)\n",
    "to_predict.drop(['scheme_management'], axis=1, inplace=True)"
   ]
  },
  {
   "cell_type": "markdown",
   "metadata": {},
   "source": [
    "EDA on 'management'"
   ]
  },
  {
   "cell_type": "code",
   "execution_count": 55,
   "metadata": {},
   "outputs": [
    {
     "data": {
      "text/plain": [
       "management\n",
       "company             0.400730\n",
       "other               0.630924\n",
       "other - school      0.237374\n",
       "parastatal          0.636595\n",
       "private operator    0.760020\n",
       "trust               0.628205\n",
       "unknown             0.423351\n",
       "vwc                 0.538685\n",
       "water authority     0.522124\n",
       "water board         0.785032\n",
       "wua                 0.731164\n",
       "wug                 0.649041\n",
       "Name: status_group_numeric, dtype: float64"
      ]
     },
     "execution_count": 55,
     "metadata": {},
     "output_type": "execute_result"
    }
   ],
   "source": [
    "train.groupby('management')['status_group_numeric'].mean()"
   ]
  },
  {
   "cell_type": "code",
   "execution_count": 56,
   "metadata": {},
   "outputs": [
    {
     "data": {
      "text/html": [
       "<div>\n",
       "<style scoped>\n",
       "    .dataframe tbody tr th:only-of-type {\n",
       "        vertical-align: middle;\n",
       "    }\n",
       "\n",
       "    .dataframe tbody tr th {\n",
       "        vertical-align: top;\n",
       "    }\n",
       "\n",
       "    .dataframe thead th {\n",
       "        text-align: right;\n",
       "    }\n",
       "</style>\n",
       "<table border=\"1\" class=\"dataframe\">\n",
       "  <thead>\n",
       "    <tr style=\"text-align: right;\">\n",
       "      <th>status_group</th>\n",
       "      <th>functional</th>\n",
       "      <th>functional needs repair</th>\n",
       "      <th>non functional</th>\n",
       "    </tr>\n",
       "    <tr>\n",
       "      <th>management</th>\n",
       "      <th></th>\n",
       "      <th></th>\n",
       "      <th></th>\n",
       "    </tr>\n",
       "  </thead>\n",
       "  <tbody>\n",
       "    <tr>\n",
       "      <td>company</td>\n",
       "      <td>0.389781</td>\n",
       "      <td>0.021898</td>\n",
       "      <td>0.588321</td>\n",
       "    </tr>\n",
       "    <tr>\n",
       "      <td>other</td>\n",
       "      <td>0.598341</td>\n",
       "      <td>0.065166</td>\n",
       "      <td>0.336493</td>\n",
       "    </tr>\n",
       "    <tr>\n",
       "      <td>other - school</td>\n",
       "      <td>0.232323</td>\n",
       "      <td>0.010101</td>\n",
       "      <td>0.757576</td>\n",
       "    </tr>\n",
       "    <tr>\n",
       "      <td>parastatal</td>\n",
       "      <td>0.576923</td>\n",
       "      <td>0.119344</td>\n",
       "      <td>0.303733</td>\n",
       "    </tr>\n",
       "    <tr>\n",
       "      <td>private operator</td>\n",
       "      <td>0.748858</td>\n",
       "      <td>0.022324</td>\n",
       "      <td>0.228818</td>\n",
       "    </tr>\n",
       "    <tr>\n",
       "      <td>trust</td>\n",
       "      <td>0.589744</td>\n",
       "      <td>0.076923</td>\n",
       "      <td>0.333333</td>\n",
       "    </tr>\n",
       "    <tr>\n",
       "      <td>unknown</td>\n",
       "      <td>0.399287</td>\n",
       "      <td>0.048128</td>\n",
       "      <td>0.552585</td>\n",
       "    </tr>\n",
       "    <tr>\n",
       "      <td>vwc</td>\n",
       "      <td>0.504234</td>\n",
       "      <td>0.068902</td>\n",
       "      <td>0.426864</td>\n",
       "    </tr>\n",
       "    <tr>\n",
       "      <td>water authority</td>\n",
       "      <td>0.493363</td>\n",
       "      <td>0.057522</td>\n",
       "      <td>0.449115</td>\n",
       "    </tr>\n",
       "    <tr>\n",
       "      <td>water board</td>\n",
       "      <td>0.739857</td>\n",
       "      <td>0.090351</td>\n",
       "      <td>0.169792</td>\n",
       "    </tr>\n",
       "    <tr>\n",
       "      <td>wua</td>\n",
       "      <td>0.690730</td>\n",
       "      <td>0.080868</td>\n",
       "      <td>0.228402</td>\n",
       "    </tr>\n",
       "    <tr>\n",
       "      <td>wug</td>\n",
       "      <td>0.599540</td>\n",
       "      <td>0.099002</td>\n",
       "      <td>0.301458</td>\n",
       "    </tr>\n",
       "  </tbody>\n",
       "</table>\n",
       "</div>"
      ],
      "text/plain": [
       "status_group      functional  functional needs repair  non functional\n",
       "management                                                           \n",
       "company             0.389781                 0.021898        0.588321\n",
       "other               0.598341                 0.065166        0.336493\n",
       "other - school      0.232323                 0.010101        0.757576\n",
       "parastatal          0.576923                 0.119344        0.303733\n",
       "private operator    0.748858                 0.022324        0.228818\n",
       "trust               0.589744                 0.076923        0.333333\n",
       "unknown             0.399287                 0.048128        0.552585\n",
       "vwc                 0.504234                 0.068902        0.426864\n",
       "water authority     0.493363                 0.057522        0.449115\n",
       "water board         0.739857                 0.090351        0.169792\n",
       "wua                 0.690730                 0.080868        0.228402\n",
       "wug                 0.599540                 0.099002        0.301458"
      ]
     },
     "execution_count": 56,
     "metadata": {},
     "output_type": "execute_result"
    }
   ],
   "source": [
    "pd.crosstab(train['management'], train['status_group'], normalize='index')"
   ]
  },
  {
   "cell_type": "markdown",
   "metadata": {
    "colab_type": "text",
    "id": "roKwT7ivn4eY"
   },
   "source": [
    "### 2.4.2 'scheme_name'"
   ]
  },
  {
   "cell_type": "markdown",
   "metadata": {
    "colab_type": "text",
    "id": "0nrM3IoQn-yD"
   },
   "source": [
    "\"Who operates the waterpoint\"\n",
    "\n",
    "Lots of missing values"
   ]
  },
  {
   "cell_type": "code",
   "execution_count": 57,
   "metadata": {},
   "outputs": [
    {
     "name": "stdout",
     "output_type": "stream",
     "text": [
      "['Roman' nan 'Nyumba ya mungu pipe scheme' ... 'BL Nsherehehe'\n",
      " 'Magati  gravity spri' 'Mtawanya']\n",
      "2697\n"
     ]
    }
   ],
   "source": [
    "print(train['scheme_name'].unique())\n",
    "print(len(train['scheme_name'].unique()))"
   ]
  },
  {
   "cell_type": "markdown",
   "metadata": {},
   "source": [
    "We can't really infer any useful information from that column for our potential ML model.\n",
    "Still I am not going to drop this column since I can't know if it might still give us useful information for our (exploratory) analysis."
   ]
  },
  {
   "cell_type": "markdown",
   "metadata": {
    "colab_type": "text",
    "id": "pLFO1YA-qYLq"
   },
   "source": [
    "### 2.4.3 'payment' / 'payment_type'"
   ]
  },
  {
   "cell_type": "code",
   "execution_count": 58,
   "metadata": {
    "colab": {
     "base_uri": "https://localhost:8080/",
     "height": 73
    },
    "colab_type": "code",
    "id": "Dj5GJB_3qg6H",
    "outputId": "0e6989eb-7408-4401-9344-e1085f83da4c"
   },
   "outputs": [
    {
     "name": "stdout",
     "output_type": "stream",
     "text": [
      "['pay annually' 'never pay' 'pay per bucket' 'unknown'\n",
      " 'pay when scheme fails' 'other' 'pay monthly']\n",
      "7\n"
     ]
    }
   ],
   "source": [
    "print(train['payment'].unique())\n",
    "print(len(train['payment'].unique()))"
   ]
  },
  {
   "cell_type": "code",
   "execution_count": 59,
   "metadata": {
    "colab": {
     "base_uri": "https://localhost:8080/",
     "height": 73
    },
    "colab_type": "code",
    "id": "GiNwHOXNq465",
    "outputId": "870cc6f8-ada1-490e-db06-1ea60c80b4de"
   },
   "outputs": [
    {
     "name": "stdout",
     "output_type": "stream",
     "text": [
      "['annually' 'never pay' 'per bucket' 'unknown' 'on failure' 'other'\n",
      " 'monthly']\n",
      "7\n"
     ]
    }
   ],
   "source": [
    "print(train['payment_type'].unique())\n",
    "print(len(train['payment_type'].unique()))"
   ]
  },
  {
   "cell_type": "markdown",
   "metadata": {
    "colab_type": "text",
    "id": "qU1Q1DyRru65"
   },
   "source": [
    "This feature tells us with which payment system the well operates. However, we have two features which tell us the same things.\n",
    "Thus, we can drop one of these columns."
   ]
  },
  {
   "cell_type": "code",
   "execution_count": 60,
   "metadata": {
    "colab": {},
    "colab_type": "code",
    "id": "mnRnmSeWsGDY"
   },
   "outputs": [],
   "source": [
    "# drop column 'payment'\n",
    "train.drop(['payment'], axis=1, inplace=True)\n",
    "to_predict.drop(['payment'], axis=1, inplace=True)"
   ]
  },
  {
   "cell_type": "code",
   "execution_count": 61,
   "metadata": {
    "colab": {
     "base_uri": "https://localhost:8080/",
     "height": 185
    },
    "colab_type": "code",
    "id": "9ZWh6mhDtBXK",
    "outputId": "2e1b8611-76d9-4f6f-a630-21b7ea0d79f9"
   },
   "outputs": [
    {
     "data": {
      "text/plain": [
       "payment_type\n",
       "annually      0.786244\n",
       "monthly       0.716325\n",
       "never pay     0.486528\n",
       "on failure    0.655979\n",
       "other         0.635674\n",
       "per bucket    0.700556\n",
       "unknown       0.458992\n",
       "Name: status_group_numeric, dtype: float64"
      ]
     },
     "execution_count": 61,
     "metadata": {},
     "output_type": "execute_result"
    }
   ],
   "source": [
    "train.groupby('payment_type')['status_group_numeric'].mean()"
   ]
  },
  {
   "cell_type": "code",
   "execution_count": 62,
   "metadata": {},
   "outputs": [
    {
     "data": {
      "text/html": [
       "<div>\n",
       "<style scoped>\n",
       "    .dataframe tbody tr th:only-of-type {\n",
       "        vertical-align: middle;\n",
       "    }\n",
       "\n",
       "    .dataframe tbody tr th {\n",
       "        vertical-align: top;\n",
       "    }\n",
       "\n",
       "    .dataframe thead th {\n",
       "        text-align: right;\n",
       "    }\n",
       "</style>\n",
       "<table border=\"1\" class=\"dataframe\">\n",
       "  <thead>\n",
       "    <tr style=\"text-align: right;\">\n",
       "      <th>status_group</th>\n",
       "      <th>functional</th>\n",
       "      <th>functional needs repair</th>\n",
       "      <th>non functional</th>\n",
       "    </tr>\n",
       "    <tr>\n",
       "      <th>payment_type</th>\n",
       "      <th></th>\n",
       "      <th></th>\n",
       "      <th></th>\n",
       "    </tr>\n",
       "  </thead>\n",
       "  <tbody>\n",
       "    <tr>\n",
       "      <td>annually</td>\n",
       "      <td>0.752334</td>\n",
       "      <td>0.067820</td>\n",
       "      <td>0.179846</td>\n",
       "    </tr>\n",
       "    <tr>\n",
       "      <td>monthly</td>\n",
       "      <td>0.660482</td>\n",
       "      <td>0.111687</td>\n",
       "      <td>0.227831</td>\n",
       "    </tr>\n",
       "    <tr>\n",
       "      <td>never pay</td>\n",
       "      <td>0.448911</td>\n",
       "      <td>0.075233</td>\n",
       "      <td>0.475856</td>\n",
       "    </tr>\n",
       "    <tr>\n",
       "      <td>on failure</td>\n",
       "      <td>0.620593</td>\n",
       "      <td>0.070772</td>\n",
       "      <td>0.308636</td>\n",
       "    </tr>\n",
       "    <tr>\n",
       "      <td>other</td>\n",
       "      <td>0.579696</td>\n",
       "      <td>0.111954</td>\n",
       "      <td>0.308349</td>\n",
       "    </tr>\n",
       "    <tr>\n",
       "      <td>per bucket</td>\n",
       "      <td>0.677796</td>\n",
       "      <td>0.045520</td>\n",
       "      <td>0.276683</td>\n",
       "    </tr>\n",
       "    <tr>\n",
       "      <td>unknown</td>\n",
       "      <td>0.432512</td>\n",
       "      <td>0.052961</td>\n",
       "      <td>0.514527</td>\n",
       "    </tr>\n",
       "  </tbody>\n",
       "</table>\n",
       "</div>"
      ],
      "text/plain": [
       "status_group  functional  functional needs repair  non functional\n",
       "payment_type                                                     \n",
       "annually        0.752334                 0.067820        0.179846\n",
       "monthly         0.660482                 0.111687        0.227831\n",
       "never pay       0.448911                 0.075233        0.475856\n",
       "on failure      0.620593                 0.070772        0.308636\n",
       "other           0.579696                 0.111954        0.308349\n",
       "per bucket      0.677796                 0.045520        0.276683\n",
       "unknown         0.432512                 0.052961        0.514527"
      ]
     },
     "execution_count": 62,
     "metadata": {},
     "output_type": "execute_result"
    }
   ],
   "source": [
    "pd.crosstab(train['payment_type'], train['status_group'], normalize='index')"
   ]
  },
  {
   "cell_type": "markdown",
   "metadata": {
    "colab_type": "text",
    "id": "j_VjXluru_Dp"
   },
   "source": [
    "### 2.4.4 'funder' and 'installer'"
   ]
  },
  {
   "cell_type": "markdown",
   "metadata": {},
   "source": [
    "These two features might be closely related to each other. 'funder' tells us who (which country, NGO, company,...) financed the well. 'installer' on the other hand tells who operated the building of the well."
   ]
  },
  {
   "cell_type": "code",
   "execution_count": 63,
   "metadata": {
    "colab": {},
    "colab_type": "code",
    "id": "Po5bmKy6vDsY"
   },
   "outputs": [
    {
     "name": "stdout",
     "output_type": "stream",
     "text": [
      "['Roman' 'Grumeti' 'Lottery Club' ... 'Dina' 'Brown' 'Samlo']\n",
      "1898\n"
     ]
    }
   ],
   "source": [
    "print(train['funder'].unique())\n",
    "print(len(train['funder'].unique()))"
   ]
  },
  {
   "cell_type": "code",
   "execution_count": 64,
   "metadata": {
    "colab": {},
    "colab_type": "code",
    "id": "G3vddhpCvD03"
   },
   "outputs": [
    {
     "name": "stdout",
     "output_type": "stream",
     "text": [
      "['Roman' 'GRUMETI' 'World vision' ... 'Dina' 'brown' 'SELEPTA']\n",
      "2146\n"
     ]
    }
   ],
   "source": [
    "print(train['installer'].unique())\n",
    "print(len(train['installer'].unique()))"
   ]
  },
  {
   "cell_type": "markdown",
   "metadata": {},
   "source": [
    "A lot of values for these features. Maybe some values are duplicate due to different spelling.\n",
    "We can fix that by turning all strings to uppercase."
   ]
  },
  {
   "cell_type": "code",
   "execution_count": 65,
   "metadata": {},
   "outputs": [],
   "source": [
    "# convert values for 'funder' to uppercase\n",
    "train['funder'] = train['funder'].str.upper()\n",
    "to_predict['funder'] = to_predict['funder'].str.upper()\n",
    "\n",
    "# convert values for 'installer' to uppercase\n",
    "train['installer'] = train['installer'].str.upper()\n",
    "to_predict['installer'] = to_predict['installer'].str.upper()"
   ]
  },
  {
   "cell_type": "markdown",
   "metadata": {},
   "source": [
    "Let's see if there are fewer values now."
   ]
  },
  {
   "cell_type": "code",
   "execution_count": 66,
   "metadata": {},
   "outputs": [
    {
     "name": "stdout",
     "output_type": "stream",
     "text": [
      "['ROMAN' 'GRUMETI' 'LOTTERY CLUB' ... 'DINA' 'BROWN' 'SAMLO']\n",
      "1898\n"
     ]
    }
   ],
   "source": [
    "print(train['funder'].unique())\n",
    "print(len(train['funder'].unique()))"
   ]
  },
  {
   "cell_type": "code",
   "execution_count": 67,
   "metadata": {},
   "outputs": [
    {
     "name": "stdout",
     "output_type": "stream",
     "text": [
      "['ROMAN' 'GRUMETI' 'WORLD VISION' ... 'DINA' 'BROWN' 'SELEPTA']\n",
      "1936\n"
     ]
    }
   ],
   "source": [
    "print(train['installer'].unique())\n",
    "print(len(train['installer'].unique()))"
   ]
  },
  {
   "cell_type": "code",
   "execution_count": 68,
   "metadata": {},
   "outputs": [
    {
     "data": {
      "text/plain": [
       "KAGULO                      1\n",
       "MARUMBO COMMUNITY           1\n",
       "EMMANUEL KITAPONDA          1\n",
       "CIDA                        1\n",
       "ISF AND TACARE              1\n",
       "VILLAGE COUNCIL .ODA        1\n",
       "MWAMVITA RAJABU             1\n",
       "DISTRICT COMMUNITY J        1\n",
       "GOVERNMENT /WORLD VISION    1\n",
       "NDM                         1\n",
       "Name: installer, dtype: int64"
      ]
     },
     "execution_count": 68,
     "metadata": {},
     "output_type": "execute_result"
    }
   ],
   "source": [
    "train['installer'].value_counts().sort_values().head(10)"
   ]
  },
  {
   "cell_type": "markdown",
   "metadata": {},
   "source": [
    "'funder' and 'installer' have about the same number of different values, so they should give us similar information.\n",
    "I consider 'installer' to be slighty more relevant, because this feature is more closely related to the operation of building the wells and thus has a more direct impact on the status of the wells.\n",
    "One problem with this / these features is however that a lot of its values only occured once or very few times in this dataset."
   ]
  },
  {
   "cell_type": "code",
   "execution_count": 69,
   "metadata": {},
   "outputs": [
    {
     "data": {
      "text/plain": [
       "installer\n",
       "-                      0.666667\n",
       "0                      0.574646\n",
       "A.D.B                  0.500000\n",
       "AAR                    0.250000\n",
       "AARTISA                0.000000\n",
       "                         ...   \n",
       "ZAO WATER SPRING       1.000000\n",
       "ZAO WATER SPRING X     0.000000\n",
       "ZINDUKA                1.000000\n",
       "ZINGIBALI SECONDARY    1.000000\n",
       "ZUBER MIHUNGO          0.000000\n",
       "Name: status_group_numeric, Length: 1935, dtype: float64"
      ]
     },
     "execution_count": 69,
     "metadata": {},
     "output_type": "execute_result"
    }
   ],
   "source": [
    "train.groupby('installer')['status_group_numeric'].mean()"
   ]
  },
  {
   "cell_type": "markdown",
   "metadata": {
    "colab_type": "text",
    "id": "H15W8330wFuk"
   },
   "source": [
    "## 2.5 Geographic / spatial features"
   ]
  },
  {
   "cell_type": "markdown",
   "metadata": {
    "colab_type": "text",
    "id": "Qe-tuLmWwLUU"
   },
   "source": [
    "### 2.5.1 'region', 'region_code', 'district_code', 'subvillage', 'lga', 'ward'"
   ]
  },
  {
   "cell_type": "markdown",
   "metadata": {
    "colab_type": "text",
    "id": "AN9kjUsIIk5p"
   },
   "source": [
    "These features all refer to geographic information and will most likely give us similar insights.\n",
    "So it should be enough to only use some of these features for our final machine learning model."
   ]
  },
  {
   "cell_type": "code",
   "execution_count": 70,
   "metadata": {
    "colab": {
     "base_uri": "https://localhost:8080/",
     "height": 92
    },
    "colab_type": "code",
    "id": "XzOcni-jwV7m",
    "outputId": "94893915-d889-4bc7-86b0-0f08bc0fec93"
   },
   "outputs": [
    {
     "name": "stdout",
     "output_type": "stream",
     "text": [
      "['Iringa' 'Mara' 'Manyara' 'Mtwara' 'Kagera' 'Tanga' 'Shinyanga' 'Tabora'\n",
      " 'Pwani' 'Ruvuma' 'Kilimanjaro' 'Rukwa' 'Mwanza' 'Kigoma' 'Lindi' 'Dodoma'\n",
      " 'Arusha' 'Mbeya' 'Singida' 'Morogoro' 'Dar es Salaam']\n",
      "21\n"
     ]
    }
   ],
   "source": [
    "print(train['region'].unique())\n",
    "print(len(train['region'].unique()))"
   ]
  },
  {
   "cell_type": "code",
   "execution_count": 71,
   "metadata": {
    "colab": {
     "base_uri": "https://localhost:8080/",
     "height": 73
    },
    "colab_type": "code",
    "id": "_Pe_4qcfwgqY",
    "outputId": "40f6a015-c7e6-4fc0-8c38-0e772dd3ace6"
   },
   "outputs": [
    {
     "name": "stdout",
     "output_type": "stream",
     "text": [
      "[11 20 21 90 18  4 17 14 60 10  3 15 19 16 80  1  6  2 12 13  5  7 99 24\n",
      "  9  8 40]\n",
      "27\n"
     ]
    }
   ],
   "source": [
    "print(train['region_code'].unique())\n",
    "print(len(train['region_code'].unique()))"
   ]
  },
  {
   "cell_type": "code",
   "execution_count": 72,
   "metadata": {
    "colab": {
     "base_uri": "https://localhost:8080/",
     "height": 54
    },
    "colab_type": "code",
    "id": "5WsYh1oxxZCW",
    "outputId": "66653193-de25-4a13-9471-8792cc7af549"
   },
   "outputs": [
    {
     "name": "stdout",
     "output_type": "stream",
     "text": [
      "[ 5  2  4 63  1  8  3  6 43  7 23 33 53 62 60 30 13  0 80 67]\n",
      "20\n"
     ]
    }
   ],
   "source": [
    "print(train['district_code'].unique())\n",
    "print(len(train['district_code'].unique()))"
   ]
  },
  {
   "cell_type": "code",
   "execution_count": 73,
   "metadata": {
    "colab": {
     "base_uri": "https://localhost:8080/",
     "height": 54
    },
    "colab_type": "code",
    "id": "BHKuDrYLMuBZ",
    "outputId": "1cc73dec-da77-4a9d-e771-d1a87786cfa5"
   },
   "outputs": [
    {
     "name": "stdout",
     "output_type": "stream",
     "text": [
      "['Mnyusi B' 'Nyamara' 'Majengo' ... 'Itete B' 'Maore Kati' 'Kikatanyemba']\n",
      "19288\n"
     ]
    }
   ],
   "source": [
    "print(train['subvillage'].unique())\n",
    "print(len(train['subvillage'].unique()))"
   ]
  },
  {
   "cell_type": "code",
   "execution_count": 74,
   "metadata": {
    "colab": {
     "base_uri": "https://localhost:8080/",
     "height": 73
    },
    "colab_type": "code",
    "id": "AftdWphGMxYk",
    "outputId": "ae351742-956b-4618-ff7c-9f410e8c829a"
   },
   "outputs": [
    {
     "name": "stdout",
     "output_type": "stream",
     "text": [
      "['Ludewa' 'Serengeti' 'Simanjiro' 'Nanyumbu' 'Karagwe' 'Mkinga'\n",
      " 'Shinyanga Rural' 'Kahama' 'Tabora Urban' 'Mkuranga']\n",
      "125\n"
     ]
    }
   ],
   "source": [
    "print(train['lga'].unique()[:10])\n",
    "print(len(train['lga'].unique()))"
   ]
  },
  {
   "cell_type": "code",
   "execution_count": 75,
   "metadata": {
    "colab": {
     "base_uri": "https://localhost:8080/",
     "height": 54
    },
    "colab_type": "code",
    "id": "1cuE8dpcNEI7",
    "outputId": "a4db16b9-6117-4d66-f2d4-ee12a8524646"
   },
   "outputs": [
    {
     "name": "stdout",
     "output_type": "stream",
     "text": [
      "['Mundindi' 'Natta' 'Ngorika' ... 'Chinugulu' 'Nyamtinga' 'Kinungu']\n",
      "2092\n"
     ]
    }
   ],
   "source": [
    "print(train['ward'].unique())\n",
    "print(len(train['ward'].unique()))"
   ]
  },
  {
   "cell_type": "code",
   "execution_count": 76,
   "metadata": {
    "colab": {
     "base_uri": "https://localhost:8080/",
     "height": 541
    },
    "colab_type": "code",
    "id": "yYWb0g3LGDVP",
    "outputId": "e914a39c-d4b1-4e22-9215-a2c9872c1dda"
   },
   "outputs": [
    {
     "data": {
      "text/plain": [
       "11    0.089226\n",
       "17    0.084360\n",
       "12    0.078098\n",
       "3     0.073721\n",
       "5     0.068013\n",
       "18    0.055960\n",
       "19    0.051296\n",
       "2     0.050909\n",
       "16    0.047407\n",
       "10    0.044444\n",
       "4     0.042306\n",
       "1     0.037054\n",
       "13    0.035236\n",
       "14    0.033316\n",
       "20    0.033148\n",
       "15    0.030438\n",
       "6     0.027088\n",
       "21    0.026650\n",
       "80    0.020842\n",
       "60    0.017256\n",
       "90    0.015438\n",
       "7     0.013552\n",
       "99    0.007121\n",
       "9     0.006566\n",
       "24    0.005488\n",
       "8     0.005051\n",
       "40    0.000017\n",
       "Name: region_code, dtype: float64"
      ]
     },
     "execution_count": 76,
     "metadata": {},
     "output_type": "execute_result"
    }
   ],
   "source": [
    "train['region_code'].value_counts(normalize=True)"
   ]
  },
  {
   "cell_type": "markdown",
   "metadata": {
    "colab_type": "text",
    "id": "cjMcMTvlG65X"
   },
   "source": [
    "The three features 'region', 'region_code' and 'district_code' give us similar information. The feature 'region_code' is the most precise of them all without being to specific except for the code 40. \n",
    "\n",
    "Because of that I am going to drop the remaining features."
   ]
  },
  {
   "cell_type": "code",
   "execution_count": 77,
   "metadata": {
    "colab": {},
    "colab_type": "code",
    "id": "qolTSZ6jHZkn"
   },
   "outputs": [],
   "source": [
    "# drop columns\n",
    "train.drop(['region', 'district_code'], axis=1, inplace=True)\n",
    "to_predict.drop(['region', 'district_code'], axis=1, inplace=True)"
   ]
  },
  {
   "cell_type": "code",
   "execution_count": 78,
   "metadata": {
    "colab": {
     "base_uri": "https://localhost:8080/",
     "height": 559
    },
    "colab_type": "code",
    "id": "6nGeWkw6wpsm",
    "outputId": "5ec9fb18-a108-4f09-b7e3-2b01977e1b08"
   },
   "outputs": [
    {
     "data": {
      "text/plain": [
       "region_code\n",
       "1     0.505906\n",
       "2     0.682870\n",
       "3     0.639644\n",
       "4     0.574811\n",
       "5     0.568564\n",
       "6     0.667495\n",
       "7     0.574534\n",
       "8     0.111667\n",
       "9     0.383333\n",
       "10    0.591667\n",
       "11    0.793302\n",
       "12    0.554214\n",
       "13    0.513617\n",
       "14    0.447448\n",
       "15    0.428374\n",
       "16    0.591087\n",
       "17    0.623828\n",
       "18    0.565884\n",
       "19    0.510994\n",
       "20    0.465211\n",
       "21    0.653822\n",
       "24    0.970859\n",
       "40    0.000000\n",
       "60    0.487805\n",
       "80    0.380452\n",
       "90    0.264995\n",
       "99    0.459811\n",
       "Name: status_group_numeric, dtype: float64"
      ]
     },
     "execution_count": 78,
     "metadata": {},
     "output_type": "execute_result"
    }
   ],
   "source": [
    "train.groupby('region_code')['status_group_numeric'].mean()"
   ]
  },
  {
   "cell_type": "code",
   "execution_count": 79,
   "metadata": {},
   "outputs": [
    {
     "data": {
      "text/html": [
       "<div>\n",
       "<style scoped>\n",
       "    .dataframe tbody tr th:only-of-type {\n",
       "        vertical-align: middle;\n",
       "    }\n",
       "\n",
       "    .dataframe tbody tr th {\n",
       "        vertical-align: top;\n",
       "    }\n",
       "\n",
       "    .dataframe thead th {\n",
       "        text-align: right;\n",
       "    }\n",
       "</style>\n",
       "<table border=\"1\" class=\"dataframe\">\n",
       "  <thead>\n",
       "    <tr style=\"text-align: right;\">\n",
       "      <th>status_group</th>\n",
       "      <th>functional</th>\n",
       "      <th>functional needs repair</th>\n",
       "      <th>non functional</th>\n",
       "    </tr>\n",
       "    <tr>\n",
       "      <th>region_code</th>\n",
       "      <th></th>\n",
       "      <th></th>\n",
       "      <th></th>\n",
       "    </tr>\n",
       "  </thead>\n",
       "  <tbody>\n",
       "    <tr>\n",
       "      <td>1</td>\n",
       "      <td>0.458428</td>\n",
       "      <td>0.094957</td>\n",
       "      <td>0.446615</td>\n",
       "    </tr>\n",
       "    <tr>\n",
       "      <td>2</td>\n",
       "      <td>0.654101</td>\n",
       "      <td>0.057540</td>\n",
       "      <td>0.288360</td>\n",
       "    </tr>\n",
       "    <tr>\n",
       "      <td>3</td>\n",
       "      <td>0.602877</td>\n",
       "      <td>0.073533</td>\n",
       "      <td>0.323590</td>\n",
       "    </tr>\n",
       "    <tr>\n",
       "      <td>4</td>\n",
       "      <td>0.560287</td>\n",
       "      <td>0.029049</td>\n",
       "      <td>0.410665</td>\n",
       "    </tr>\n",
       "    <tr>\n",
       "      <td>5</td>\n",
       "      <td>0.531436</td>\n",
       "      <td>0.074257</td>\n",
       "      <td>0.394307</td>\n",
       "    </tr>\n",
       "    <tr>\n",
       "      <td>6</td>\n",
       "      <td>0.662523</td>\n",
       "      <td>0.009944</td>\n",
       "      <td>0.327533</td>\n",
       "    </tr>\n",
       "    <tr>\n",
       "      <td>7</td>\n",
       "      <td>0.572671</td>\n",
       "      <td>0.003727</td>\n",
       "      <td>0.423602</td>\n",
       "    </tr>\n",
       "    <tr>\n",
       "      <td>8</td>\n",
       "      <td>0.086667</td>\n",
       "      <td>0.050000</td>\n",
       "      <td>0.863333</td>\n",
       "    </tr>\n",
       "    <tr>\n",
       "      <td>9</td>\n",
       "      <td>0.356410</td>\n",
       "      <td>0.053846</td>\n",
       "      <td>0.589744</td>\n",
       "    </tr>\n",
       "    <tr>\n",
       "      <td>10</td>\n",
       "      <td>0.560606</td>\n",
       "      <td>0.062121</td>\n",
       "      <td>0.377273</td>\n",
       "    </tr>\n",
       "    <tr>\n",
       "      <td>11</td>\n",
       "      <td>0.781698</td>\n",
       "      <td>0.023208</td>\n",
       "      <td>0.195094</td>\n",
       "    </tr>\n",
       "    <tr>\n",
       "      <td>12</td>\n",
       "      <td>0.499892</td>\n",
       "      <td>0.108644</td>\n",
       "      <td>0.391464</td>\n",
       "    </tr>\n",
       "    <tr>\n",
       "      <td>13</td>\n",
       "      <td>0.483039</td>\n",
       "      <td>0.061156</td>\n",
       "      <td>0.455805</td>\n",
       "    </tr>\n",
       "    <tr>\n",
       "      <td>14</td>\n",
       "      <td>0.435574</td>\n",
       "      <td>0.023749</td>\n",
       "      <td>0.540677</td>\n",
       "    </tr>\n",
       "    <tr>\n",
       "      <td>15</td>\n",
       "      <td>0.391040</td>\n",
       "      <td>0.074668</td>\n",
       "      <td>0.534292</td>\n",
       "    </tr>\n",
       "    <tr>\n",
       "      <td>16</td>\n",
       "      <td>0.484020</td>\n",
       "      <td>0.214134</td>\n",
       "      <td>0.301847</td>\n",
       "    </tr>\n",
       "    <tr>\n",
       "      <td>17</td>\n",
       "      <td>0.560168</td>\n",
       "      <td>0.127320</td>\n",
       "      <td>0.312512</td>\n",
       "    </tr>\n",
       "    <tr>\n",
       "      <td>18</td>\n",
       "      <td>0.520156</td>\n",
       "      <td>0.091456</td>\n",
       "      <td>0.388387</td>\n",
       "    </tr>\n",
       "    <tr>\n",
       "      <td>19</td>\n",
       "      <td>0.481785</td>\n",
       "      <td>0.058418</td>\n",
       "      <td>0.459797</td>\n",
       "    </tr>\n",
       "    <tr>\n",
       "      <td>20</td>\n",
       "      <td>0.449975</td>\n",
       "      <td>0.030472</td>\n",
       "      <td>0.519553</td>\n",
       "    </tr>\n",
       "    <tr>\n",
       "      <td>21</td>\n",
       "      <td>0.623500</td>\n",
       "      <td>0.060644</td>\n",
       "      <td>0.315856</td>\n",
       "    </tr>\n",
       "    <tr>\n",
       "      <td>24</td>\n",
       "      <td>0.969325</td>\n",
       "      <td>0.003067</td>\n",
       "      <td>0.027607</td>\n",
       "    </tr>\n",
       "    <tr>\n",
       "      <td>40</td>\n",
       "      <td>0.000000</td>\n",
       "      <td>0.000000</td>\n",
       "      <td>1.000000</td>\n",
       "    </tr>\n",
       "    <tr>\n",
       "      <td>60</td>\n",
       "      <td>0.478049</td>\n",
       "      <td>0.019512</td>\n",
       "      <td>0.502439</td>\n",
       "    </tr>\n",
       "    <tr>\n",
       "      <td>80</td>\n",
       "      <td>0.348950</td>\n",
       "      <td>0.063005</td>\n",
       "      <td>0.588045</td>\n",
       "    </tr>\n",
       "    <tr>\n",
       "      <td>90</td>\n",
       "      <td>0.211559</td>\n",
       "      <td>0.106870</td>\n",
       "      <td>0.681570</td>\n",
       "    </tr>\n",
       "    <tr>\n",
       "      <td>99</td>\n",
       "      <td>0.451537</td>\n",
       "      <td>0.016548</td>\n",
       "      <td>0.531915</td>\n",
       "    </tr>\n",
       "  </tbody>\n",
       "</table>\n",
       "</div>"
      ],
      "text/plain": [
       "status_group  functional  functional needs repair  non functional\n",
       "region_code                                                      \n",
       "1               0.458428                 0.094957        0.446615\n",
       "2               0.654101                 0.057540        0.288360\n",
       "3               0.602877                 0.073533        0.323590\n",
       "4               0.560287                 0.029049        0.410665\n",
       "5               0.531436                 0.074257        0.394307\n",
       "6               0.662523                 0.009944        0.327533\n",
       "7               0.572671                 0.003727        0.423602\n",
       "8               0.086667                 0.050000        0.863333\n",
       "9               0.356410                 0.053846        0.589744\n",
       "10              0.560606                 0.062121        0.377273\n",
       "11              0.781698                 0.023208        0.195094\n",
       "12              0.499892                 0.108644        0.391464\n",
       "13              0.483039                 0.061156        0.455805\n",
       "14              0.435574                 0.023749        0.540677\n",
       "15              0.391040                 0.074668        0.534292\n",
       "16              0.484020                 0.214134        0.301847\n",
       "17              0.560168                 0.127320        0.312512\n",
       "18              0.520156                 0.091456        0.388387\n",
       "19              0.481785                 0.058418        0.459797\n",
       "20              0.449975                 0.030472        0.519553\n",
       "21              0.623500                 0.060644        0.315856\n",
       "24              0.969325                 0.003067        0.027607\n",
       "40              0.000000                 0.000000        1.000000\n",
       "60              0.478049                 0.019512        0.502439\n",
       "80              0.348950                 0.063005        0.588045\n",
       "90              0.211559                 0.106870        0.681570\n",
       "99              0.451537                 0.016548        0.531915"
      ]
     },
     "execution_count": 79,
     "metadata": {},
     "output_type": "execute_result"
    }
   ],
   "source": [
    "pd.crosstab(train['region_code'], train['status_group'], normalize='index')"
   ]
  },
  {
   "cell_type": "markdown",
   "metadata": {
    "colab_type": "text",
    "id": "ANsPi_QOxydn"
   },
   "source": [
    "### 2.5.2 Spatial features"
   ]
  },
  {
   "cell_type": "markdown",
   "metadata": {
    "colab_type": "text",
    "id": "8PwBgcNUWlIf"
   },
   "source": [
    "The features 'gps_height', 'longitude' and 'latitude' give us exact geographic information about the wells' locations, what makes them different from the previous geographic features."
   ]
  },
  {
   "cell_type": "markdown",
   "metadata": {
    "colab_type": "text",
    "id": "RzzWoUc2W3a4"
   },
   "source": [
    "**1. 'gps_height'**"
   ]
  },
  {
   "cell_type": "code",
   "execution_count": 80,
   "metadata": {
    "colab": {
     "base_uri": "https://localhost:8080/",
     "height": 111
    },
    "colab_type": "code",
    "id": "Uwp1pHH2x1XE",
    "outputId": "a5b4264c-a935-4db7-c493-4b2d085d6f8f"
   },
   "outputs": [
    {
     "data": {
      "text/html": [
       "<div>\n",
       "<style scoped>\n",
       "    .dataframe tbody tr th:only-of-type {\n",
       "        vertical-align: middle;\n",
       "    }\n",
       "\n",
       "    .dataframe tbody tr th {\n",
       "        vertical-align: top;\n",
       "    }\n",
       "\n",
       "    .dataframe thead th {\n",
       "        text-align: right;\n",
       "    }\n",
       "</style>\n",
       "<table border=\"1\" class=\"dataframe\">\n",
       "  <thead>\n",
       "    <tr style=\"text-align: right;\">\n",
       "      <th></th>\n",
       "      <th>count</th>\n",
       "      <th>mean</th>\n",
       "      <th>std</th>\n",
       "      <th>min</th>\n",
       "      <th>25%</th>\n",
       "      <th>50%</th>\n",
       "      <th>75%</th>\n",
       "      <th>max</th>\n",
       "    </tr>\n",
       "    <tr>\n",
       "      <th>status_group</th>\n",
       "      <th></th>\n",
       "      <th></th>\n",
       "      <th></th>\n",
       "      <th></th>\n",
       "      <th></th>\n",
       "      <th></th>\n",
       "      <th></th>\n",
       "      <th></th>\n",
       "    </tr>\n",
       "  </thead>\n",
       "  <tbody>\n",
       "    <tr>\n",
       "      <td>functional</td>\n",
       "      <td>32259.0</td>\n",
       "      <td>740.131188</td>\n",
       "      <td>724.193683</td>\n",
       "      <td>-90.0</td>\n",
       "      <td>0.0</td>\n",
       "      <td>550.0</td>\n",
       "      <td>1404.0</td>\n",
       "      <td>2628.0</td>\n",
       "    </tr>\n",
       "    <tr>\n",
       "      <td>functional needs repair</td>\n",
       "      <td>4317.0</td>\n",
       "      <td>627.607135</td>\n",
       "      <td>648.397850</td>\n",
       "      <td>-51.0</td>\n",
       "      <td>0.0</td>\n",
       "      <td>385.0</td>\n",
       "      <td>1243.0</td>\n",
       "      <td>2770.0</td>\n",
       "    </tr>\n",
       "    <tr>\n",
       "      <td>non functional</td>\n",
       "      <td>22824.0</td>\n",
       "      <td>574.464774</td>\n",
       "      <td>642.752316</td>\n",
       "      <td>-59.0</td>\n",
       "      <td>0.0</td>\n",
       "      <td>293.0</td>\n",
       "      <td>1211.0</td>\n",
       "      <td>2627.0</td>\n",
       "    </tr>\n",
       "  </tbody>\n",
       "</table>\n",
       "</div>"
      ],
      "text/plain": [
       "                           count        mean         std   min  25%    50%  \\\n",
       "status_group                                                                 \n",
       "functional               32259.0  740.131188  724.193683 -90.0  0.0  550.0   \n",
       "functional needs repair   4317.0  627.607135  648.397850 -51.0  0.0  385.0   \n",
       "non functional           22824.0  574.464774  642.752316 -59.0  0.0  293.0   \n",
       "\n",
       "                            75%     max  \n",
       "status_group                             \n",
       "functional               1404.0  2628.0  \n",
       "functional needs repair  1243.0  2770.0  \n",
       "non functional           1211.0  2627.0  "
      ]
     },
     "execution_count": 80,
     "metadata": {},
     "output_type": "execute_result"
    }
   ],
   "source": [
    "train.groupby('status_group')['gps_height'].describe()"
   ]
  },
  {
   "cell_type": "code",
   "execution_count": 81,
   "metadata": {
    "colab": {
     "base_uri": "https://localhost:8080/",
     "height": 640
    },
    "colab_type": "code",
    "id": "XQOXcMo-SpAO",
    "outputId": "fa06fd7a-7eba-4987-dfeb-3f87c43ab5f2"
   },
   "outputs": [
    {
     "data": {
      "image/png": "[encoded data removed]",
      "text/plain": [
       "<Figure size 960x720 with 1 Axes>"
      ]
     },
     "metadata": {},
     "output_type": "display_data"
    }
   ],
   "source": [
    "sns.set()\n",
    "plt.figure(figsize=(12,9), dpi= 80)\n",
    "\n",
    "sns.distplot(train.loc[train['status_group']=='functional', 'gps_height'], kde=False, norm_hist=True,\n",
    "             color='green',hist_kws={'alpha':.7}, kde_kws={'linewidth':3}, label=\"functional\")\n",
    "sns.distplot(train.loc[train['status_group']=='non functional', 'gps_height'], kde=False, norm_hist=True,\n",
    "             color='red',hist_kws={'alpha':.7}, kde_kws={'linewidth':3}, label=\"non functional\")\n",
    "sns.distplot(train.loc[train['status_group']=='functional needs repair', 'gps_height'], kde=False, norm_hist=True,\n",
    "             color='yellow',hist_kws={'alpha':.7}, kde_kws={'linewidth':3}, label=\"functional, needs repair\", bins=40)\n",
    "\n",
    "plt.legend()\n",
    "plt.xlabel('GPS height')\n",
    "plt.ylabel('Density')\n",
    "plt.title(\"Distribution of GPS height in dependence of a well's status\", fontsize=20)\n",
    "\n",
    "plt.show()"
   ]
  },
  {
   "cell_type": "code",
   "execution_count": 82,
   "metadata": {
    "colab": {
     "base_uri": "https://localhost:8080/",
     "height": 185
    },
    "colab_type": "code",
    "id": "xDBRygFpVFa0",
    "outputId": "1aaf0b4d-06a9-4281-e01a-e670a1220eab"
   },
   "outputs": [
    {
     "data": {
      "text/plain": [
       "count    59400.000000\n",
       "mean       668.297239\n",
       "std        693.116350\n",
       "min        -90.000000\n",
       "25%          0.000000\n",
       "50%        369.000000\n",
       "75%       1319.250000\n",
       "max       2770.000000\n",
       "Name: gps_height, dtype: float64"
      ]
     },
     "execution_count": 82,
     "metadata": {},
     "output_type": "execute_result"
    }
   ],
   "source": [
    "# overview of general distribution of the feature\n",
    "train['gps_height'].describe()"
   ]
  },
  {
   "cell_type": "code",
   "execution_count": 83,
   "metadata": {
    "colab": {
     "base_uri": "https://localhost:8080/",
     "height": 92
    },
    "colab_type": "code",
    "id": "uTNN2mXpVKwA",
    "outputId": "bf519810-d002-4034-dcb3-fd3ebf475d22"
   },
   "outputs": [
    {
     "data": {
      "text/plain": [
       "functional                 0.522727\n",
       "non functional             0.449198\n",
       "functional needs repair    0.028075\n",
       "Name: status_group, dtype: float64"
      ]
     },
     "execution_count": 83,
     "metadata": {},
     "output_type": "execute_result"
    }
   ],
   "source": [
    "train[train['gps_height'] < 0]['status_group'].value_counts(normalize=True)"
   ]
  },
  {
   "cell_type": "code",
   "execution_count": 84,
   "metadata": {
    "colab": {
     "base_uri": "https://localhost:8080/",
     "height": 92
    },
    "colab_type": "code",
    "id": "vVhEpLlTXYIH",
    "outputId": "03694a1c-2894-4818-be7f-b50d608610e0"
   },
   "outputs": [
    {
     "data": {
      "text/plain": [
       "functional                 0.560722\n",
       "non functional             0.372231\n",
       "functional needs repair    0.067047\n",
       "Name: status_group, dtype: float64"
      ]
     },
     "execution_count": 84,
     "metadata": {},
     "output_type": "execute_result"
    }
   ],
   "source": [
    "train[train['gps_height'] > 0]['status_group'].value_counts(normalize=True)"
   ]
  },
  {
   "cell_type": "code",
   "execution_count": 85,
   "metadata": {
    "colab": {
     "base_uri": "https://localhost:8080/",
     "height": 92
    },
    "colab_type": "code",
    "id": "gdg0pzEcW-Ag",
    "outputId": "b5252819-dea9-4d10-ba76-f23b71be5ef7"
   },
   "outputs": [
    {
     "data": {
      "text/plain": [
       "functional                 0.543081\n",
       "non functional             0.384242\n",
       "functional needs repair    0.072677\n",
       "Name: status_group, dtype: float64"
      ]
     },
     "execution_count": 85,
     "metadata": {},
     "output_type": "execute_result"
    }
   ],
   "source": [
    "train['status_group'].value_counts(normalize=True)"
   ]
  },
  {
   "cell_type": "markdown",
   "metadata": {
    "colab_type": "text",
    "id": "lJ2P7oXuYG_d"
   },
   "source": [
    "**2. 'latitude' and 'longitude'**"
   ]
  },
  {
   "cell_type": "markdown",
   "metadata": {
    "colab_type": "text",
    "id": "U90XxMxjFbjp"
   },
   "source": [
    "We have already used the features 'latitude' and 'longitude' to obtain the coordinates of the wells."
   ]
  },
  {
   "cell_type": "markdown",
   "metadata": {
    "colab_type": "text",
    "id": "DHdQWhvoOLtd"
   },
   "source": [
    "Source of the map: https://data.humdata.org/dataset/tanzania-administrative-boundaries-level-1-to-3-regions-districts-and-wards-with-2012-population"
   ]
  },
  {
   "cell_type": "code",
   "execution_count": 86,
   "metadata": {
    "colab": {},
    "colab_type": "code",
    "id": "ilTJtOFIIP62"
   },
   "outputs": [],
   "source": [
    "# map of Tanzania\n",
    "tanzania = gpd.read_file('zip://tanzania.zip')"
   ]
  },
  {
   "cell_type": "code",
   "execution_count": 87,
   "metadata": {
    "colab": {
     "base_uri": "https://localhost:8080/",
     "height": 149
    },
    "colab_type": "code",
    "id": "VI_52KoCI3_E",
    "outputId": "7b797a6c-2fb2-451b-ae4e-13c8b3148615"
   },
   "outputs": [
    {
     "data": {
      "image/png": "[encoded data removed]",
      "text/plain": [
       "<Figure size 432x288 with 1 Axes>"
      ]
     },
     "metadata": {},
     "output_type": "display_data"
    }
   ],
   "source": [
    "# plot map of Tanzania\n",
    "ax = tanzania.plot(color='white', edgecolor='black')\n",
    "\n",
    "# plot single observations on the map\n",
    "train.plot(ax=ax, color='red')\n",
    "\n",
    "plt.show()"
   ]
  },
  {
   "cell_type": "markdown",
   "metadata": {
    "colab_type": "text",
    "id": "GUZKVwQGJKMf"
   },
   "source": [
    "There are outliers, which don't make sense (coordinates not in Tanzania)."
   ]
  },
  {
   "cell_type": "code",
   "execution_count": 88,
   "metadata": {
    "colab": {
     "base_uri": "https://localhost:8080/",
     "height": 149
    },
    "colab_type": "code",
    "id": "Tv5FCFGkJU-5",
    "outputId": "302896f0-fa23-409e-d299-0a452e662dd4"
   },
   "outputs": [
    {
     "data": {
      "image/png": "[encoded data removed]",
      "text/plain": [
       "<Figure size 432x288 with 1 Axes>"
      ]
     },
     "metadata": {},
     "output_type": "display_data"
    }
   ],
   "source": [
    "# plot map of Tanzania\n",
    "ax = tanzania.plot(color='white', edgecolor='black')\n",
    "\n",
    "# plot single observations on map\n",
    "to_predict.plot(ax=ax, color='red')\n",
    "\n",
    "plt.show()"
   ]
  },
  {
   "cell_type": "markdown",
   "metadata": {
    "colab_type": "text",
    "id": "kQCXHdWDJdDS"
   },
   "source": [
    "The same goes for the data, we need to predict.\n",
    "However, here we have the problem that we can't simply drop that observation."
   ]
  },
  {
   "cell_type": "code",
   "execution_count": 89,
   "metadata": {
    "colab": {
     "base_uri": "https://localhost:8080/",
     "height": 808
    },
    "colab_type": "code",
    "id": "faiEPpCjJmRw",
    "outputId": "702c3d06-fb41-406b-af05-80f3a7c42466"
   },
   "outputs": [
    {
     "data": {
      "text/html": [
       "<div>\n",
       "<style scoped>\n",
       "    .dataframe tbody tr th:only-of-type {\n",
       "        vertical-align: middle;\n",
       "    }\n",
       "\n",
       "    .dataframe tbody tr th {\n",
       "        vertical-align: top;\n",
       "    }\n",
       "\n",
       "    .dataframe thead th {\n",
       "        text-align: right;\n",
       "    }\n",
       "</style>\n",
       "<table border=\"1\" class=\"dataframe\">\n",
       "  <thead>\n",
       "    <tr style=\"text-align: right;\">\n",
       "      <th></th>\n",
       "      <th>id</th>\n",
       "      <th>amount_tsh</th>\n",
       "      <th>date_recorded</th>\n",
       "      <th>funder</th>\n",
       "      <th>gps_height</th>\n",
       "      <th>installer</th>\n",
       "      <th>longitude</th>\n",
       "      <th>latitude</th>\n",
       "      <th>wpt_name</th>\n",
       "      <th>basin</th>\n",
       "      <th>...</th>\n",
       "      <th>source</th>\n",
       "      <th>source_type</th>\n",
       "      <th>source_class</th>\n",
       "      <th>waterpoint_type</th>\n",
       "      <th>waterpoint_type_group</th>\n",
       "      <th>status_group</th>\n",
       "      <th>geometry</th>\n",
       "      <th>status_group_numeric</th>\n",
       "      <th>month_recorded</th>\n",
       "      <th>waterpoint_age</th>\n",
       "    </tr>\n",
       "  </thead>\n",
       "  <tbody>\n",
       "    <tr>\n",
       "      <td>21</td>\n",
       "      <td>6091</td>\n",
       "      <td>0.0</td>\n",
       "      <td>2013-02-10</td>\n",
       "      <td>DWSP</td>\n",
       "      <td>0</td>\n",
       "      <td>DWE</td>\n",
       "      <td>0.0</td>\n",
       "      <td>-2.000000e-08</td>\n",
       "      <td>Muungano</td>\n",
       "      <td>Lake Victoria</td>\n",
       "      <td>...</td>\n",
       "      <td>shallow well</td>\n",
       "      <td>shallow well</td>\n",
       "      <td>groundwater</td>\n",
       "      <td>hand pump</td>\n",
       "      <td>hand pump</td>\n",
       "      <td>functional</td>\n",
       "      <td>POINT (0.00000 -0.00000)</td>\n",
       "      <td>1.0</td>\n",
       "      <td>2</td>\n",
       "      <td>NaN</td>\n",
       "    </tr>\n",
       "    <tr>\n",
       "      <td>53</td>\n",
       "      <td>32376</td>\n",
       "      <td>0.0</td>\n",
       "      <td>2011-08-01</td>\n",
       "      <td>GOVERNMENT OF TANZANIA</td>\n",
       "      <td>0</td>\n",
       "      <td>GOVERNMENT</td>\n",
       "      <td>0.0</td>\n",
       "      <td>-2.000000e-08</td>\n",
       "      <td>Polisi</td>\n",
       "      <td>Lake Victoria</td>\n",
       "      <td>...</td>\n",
       "      <td>machine dbh</td>\n",
       "      <td>borehole</td>\n",
       "      <td>groundwater</td>\n",
       "      <td>communal standpipe multiple</td>\n",
       "      <td>communal standpipe</td>\n",
       "      <td>non functional</td>\n",
       "      <td>POINT (0.00000 -0.00000)</td>\n",
       "      <td>0.0</td>\n",
       "      <td>8</td>\n",
       "      <td>NaN</td>\n",
       "    </tr>\n",
       "    <tr>\n",
       "      <td>168</td>\n",
       "      <td>72678</td>\n",
       "      <td>0.0</td>\n",
       "      <td>2013-01-30</td>\n",
       "      <td>WVT</td>\n",
       "      <td>0</td>\n",
       "      <td>WVT</td>\n",
       "      <td>0.0</td>\n",
       "      <td>-2.000000e-08</td>\n",
       "      <td>Wvt Tanzania</td>\n",
       "      <td>Lake Victoria</td>\n",
       "      <td>...</td>\n",
       "      <td>rainwater harvesting</td>\n",
       "      <td>rainwater harvesting</td>\n",
       "      <td>surface</td>\n",
       "      <td>communal standpipe</td>\n",
       "      <td>communal standpipe</td>\n",
       "      <td>functional</td>\n",
       "      <td>POINT (0.00000 -0.00000)</td>\n",
       "      <td>1.0</td>\n",
       "      <td>1</td>\n",
       "      <td>NaN</td>\n",
       "    </tr>\n",
       "    <tr>\n",
       "      <td>177</td>\n",
       "      <td>56725</td>\n",
       "      <td>0.0</td>\n",
       "      <td>2013-01-17</td>\n",
       "      <td>NETHERLANDS</td>\n",
       "      <td>0</td>\n",
       "      <td>DWE</td>\n",
       "      <td>0.0</td>\n",
       "      <td>-2.000000e-08</td>\n",
       "      <td>Kikundi Cha Wakina Mama</td>\n",
       "      <td>Lake Victoria</td>\n",
       "      <td>...</td>\n",
       "      <td>shallow well</td>\n",
       "      <td>shallow well</td>\n",
       "      <td>groundwater</td>\n",
       "      <td>other</td>\n",
       "      <td>other</td>\n",
       "      <td>non functional</td>\n",
       "      <td>POINT (0.00000 -0.00000)</td>\n",
       "      <td>0.0</td>\n",
       "      <td>1</td>\n",
       "      <td>NaN</td>\n",
       "    </tr>\n",
       "    <tr>\n",
       "      <td>253</td>\n",
       "      <td>13042</td>\n",
       "      <td>0.0</td>\n",
       "      <td>2012-10-29</td>\n",
       "      <td>HESAWA</td>\n",
       "      <td>0</td>\n",
       "      <td>DWE</td>\n",
       "      <td>0.0</td>\n",
       "      <td>-2.000000e-08</td>\n",
       "      <td>Kwakisusi</td>\n",
       "      <td>Lake Victoria</td>\n",
       "      <td>...</td>\n",
       "      <td>shallow well</td>\n",
       "      <td>shallow well</td>\n",
       "      <td>groundwater</td>\n",
       "      <td>hand pump</td>\n",
       "      <td>hand pump</td>\n",
       "      <td>functional needs repair</td>\n",
       "      <td>POINT (0.00000 -0.00000)</td>\n",
       "      <td>0.5</td>\n",
       "      <td>10</td>\n",
       "      <td>NaN</td>\n",
       "    </tr>\n",
       "    <tr>\n",
       "      <td>...</td>\n",
       "      <td>...</td>\n",
       "      <td>...</td>\n",
       "      <td>...</td>\n",
       "      <td>...</td>\n",
       "      <td>...</td>\n",
       "      <td>...</td>\n",
       "      <td>...</td>\n",
       "      <td>...</td>\n",
       "      <td>...</td>\n",
       "      <td>...</td>\n",
       "      <td>...</td>\n",
       "      <td>...</td>\n",
       "      <td>...</td>\n",
       "      <td>...</td>\n",
       "      <td>...</td>\n",
       "      <td>...</td>\n",
       "      <td>...</td>\n",
       "      <td>...</td>\n",
       "      <td>...</td>\n",
       "      <td>...</td>\n",
       "      <td>...</td>\n",
       "    </tr>\n",
       "    <tr>\n",
       "      <td>59189</td>\n",
       "      <td>62177</td>\n",
       "      <td>0.0</td>\n",
       "      <td>2011-07-18</td>\n",
       "      <td>DWSP</td>\n",
       "      <td>0</td>\n",
       "      <td>DWE</td>\n",
       "      <td>0.0</td>\n",
       "      <td>-2.000000e-08</td>\n",
       "      <td>Wazazo</td>\n",
       "      <td>Lake Victoria</td>\n",
       "      <td>...</td>\n",
       "      <td>shallow well</td>\n",
       "      <td>shallow well</td>\n",
       "      <td>groundwater</td>\n",
       "      <td>hand pump</td>\n",
       "      <td>hand pump</td>\n",
       "      <td>functional needs repair</td>\n",
       "      <td>POINT (0.00000 -0.00000)</td>\n",
       "      <td>0.5</td>\n",
       "      <td>7</td>\n",
       "      <td>NaN</td>\n",
       "    </tr>\n",
       "    <tr>\n",
       "      <td>59208</td>\n",
       "      <td>3631</td>\n",
       "      <td>0.0</td>\n",
       "      <td>2013-01-22</td>\n",
       "      <td>DWSP</td>\n",
       "      <td>0</td>\n",
       "      <td>DWE</td>\n",
       "      <td>0.0</td>\n",
       "      <td>-2.000000e-08</td>\n",
       "      <td>Mtakuja</td>\n",
       "      <td>Lake Victoria</td>\n",
       "      <td>...</td>\n",
       "      <td>shallow well</td>\n",
       "      <td>shallow well</td>\n",
       "      <td>groundwater</td>\n",
       "      <td>hand pump</td>\n",
       "      <td>hand pump</td>\n",
       "      <td>functional</td>\n",
       "      <td>POINT (0.00000 -0.00000)</td>\n",
       "      <td>1.0</td>\n",
       "      <td>1</td>\n",
       "      <td>NaN</td>\n",
       "    </tr>\n",
       "    <tr>\n",
       "      <td>59295</td>\n",
       "      <td>60843</td>\n",
       "      <td>0.0</td>\n",
       "      <td>2011-07-19</td>\n",
       "      <td>RWSSP</td>\n",
       "      <td>0</td>\n",
       "      <td>DWE</td>\n",
       "      <td>0.0</td>\n",
       "      <td>-2.000000e-08</td>\n",
       "      <td>Maendeleo</td>\n",
       "      <td>Lake Victoria</td>\n",
       "      <td>...</td>\n",
       "      <td>shallow well</td>\n",
       "      <td>shallow well</td>\n",
       "      <td>groundwater</td>\n",
       "      <td>hand pump</td>\n",
       "      <td>hand pump</td>\n",
       "      <td>functional needs repair</td>\n",
       "      <td>POINT (0.00000 -0.00000)</td>\n",
       "      <td>0.5</td>\n",
       "      <td>7</td>\n",
       "      <td>NaN</td>\n",
       "    </tr>\n",
       "    <tr>\n",
       "      <td>59324</td>\n",
       "      <td>748</td>\n",
       "      <td>0.0</td>\n",
       "      <td>2013-01-22</td>\n",
       "      <td>WORLD VISION</td>\n",
       "      <td>0</td>\n",
       "      <td>WORLD VISION</td>\n",
       "      <td>0.0</td>\n",
       "      <td>-2.000000e-08</td>\n",
       "      <td>Mwazwilo</td>\n",
       "      <td>Lake Victoria</td>\n",
       "      <td>...</td>\n",
       "      <td>shallow well</td>\n",
       "      <td>shallow well</td>\n",
       "      <td>groundwater</td>\n",
       "      <td>hand pump</td>\n",
       "      <td>hand pump</td>\n",
       "      <td>functional</td>\n",
       "      <td>POINT (0.00000 -0.00000)</td>\n",
       "      <td>1.0</td>\n",
       "      <td>1</td>\n",
       "      <td>NaN</td>\n",
       "    </tr>\n",
       "    <tr>\n",
       "      <td>59374</td>\n",
       "      <td>49651</td>\n",
       "      <td>0.0</td>\n",
       "      <td>2012-10-29</td>\n",
       "      <td>RWSSP</td>\n",
       "      <td>0</td>\n",
       "      <td>DWE</td>\n",
       "      <td>0.0</td>\n",
       "      <td>-2.000000e-08</td>\n",
       "      <td>Nguvu Kazi</td>\n",
       "      <td>Lake Victoria</td>\n",
       "      <td>...</td>\n",
       "      <td>shallow well</td>\n",
       "      <td>shallow well</td>\n",
       "      <td>groundwater</td>\n",
       "      <td>hand pump</td>\n",
       "      <td>hand pump</td>\n",
       "      <td>functional</td>\n",
       "      <td>POINT (0.00000 -0.00000)</td>\n",
       "      <td>1.0</td>\n",
       "      <td>10</td>\n",
       "      <td>NaN</td>\n",
       "    </tr>\n",
       "  </tbody>\n",
       "</table>\n",
       "<p>1812 rows × 39 columns</p>\n",
       "</div>"
      ],
      "text/plain": [
       "          id  amount_tsh date_recorded                  funder  gps_height  \\\n",
       "21      6091         0.0    2013-02-10                    DWSP           0   \n",
       "53     32376         0.0    2011-08-01  GOVERNMENT OF TANZANIA           0   \n",
       "168    72678         0.0    2013-01-30                     WVT           0   \n",
       "177    56725         0.0    2013-01-17             NETHERLANDS           0   \n",
       "253    13042         0.0    2012-10-29                  HESAWA           0   \n",
       "...      ...         ...           ...                     ...         ...   \n",
       "59189  62177         0.0    2011-07-18                    DWSP           0   \n",
       "59208   3631         0.0    2013-01-22                    DWSP           0   \n",
       "59295  60843         0.0    2011-07-19                   RWSSP           0   \n",
       "59324    748         0.0    2013-01-22            WORLD VISION           0   \n",
       "59374  49651         0.0    2012-10-29                   RWSSP           0   \n",
       "\n",
       "          installer  longitude      latitude                 wpt_name  \\\n",
       "21              DWE        0.0 -2.000000e-08                 Muungano   \n",
       "53       GOVERNMENT        0.0 -2.000000e-08                   Polisi   \n",
       "168             WVT        0.0 -2.000000e-08             Wvt Tanzania   \n",
       "177             DWE        0.0 -2.000000e-08  Kikundi Cha Wakina Mama   \n",
       "253             DWE        0.0 -2.000000e-08                Kwakisusi   \n",
       "...             ...        ...           ...                      ...   \n",
       "59189           DWE        0.0 -2.000000e-08                   Wazazo   \n",
       "59208           DWE        0.0 -2.000000e-08                  Mtakuja   \n",
       "59295           DWE        0.0 -2.000000e-08                Maendeleo   \n",
       "59324  WORLD VISION        0.0 -2.000000e-08                 Mwazwilo   \n",
       "59374           DWE        0.0 -2.000000e-08               Nguvu Kazi   \n",
       "\n",
       "               basin  ...                source           source_type  \\\n",
       "21     Lake Victoria  ...          shallow well          shallow well   \n",
       "53     Lake Victoria  ...           machine dbh              borehole   \n",
       "168    Lake Victoria  ...  rainwater harvesting  rainwater harvesting   \n",
       "177    Lake Victoria  ...          shallow well          shallow well   \n",
       "253    Lake Victoria  ...          shallow well          shallow well   \n",
       "...              ...  ...                   ...                   ...   \n",
       "59189  Lake Victoria  ...          shallow well          shallow well   \n",
       "59208  Lake Victoria  ...          shallow well          shallow well   \n",
       "59295  Lake Victoria  ...          shallow well          shallow well   \n",
       "59324  Lake Victoria  ...          shallow well          shallow well   \n",
       "59374  Lake Victoria  ...          shallow well          shallow well   \n",
       "\n",
       "      source_class              waterpoint_type  waterpoint_type_group  \\\n",
       "21     groundwater                    hand pump              hand pump   \n",
       "53     groundwater  communal standpipe multiple     communal standpipe   \n",
       "168        surface           communal standpipe     communal standpipe   \n",
       "177    groundwater                        other                  other   \n",
       "253    groundwater                    hand pump              hand pump   \n",
       "...            ...                          ...                    ...   \n",
       "59189  groundwater                    hand pump              hand pump   \n",
       "59208  groundwater                    hand pump              hand pump   \n",
       "59295  groundwater                    hand pump              hand pump   \n",
       "59324  groundwater                    hand pump              hand pump   \n",
       "59374  groundwater                    hand pump              hand pump   \n",
       "\n",
       "                  status_group                  geometry  \\\n",
       "21                  functional  POINT (0.00000 -0.00000)   \n",
       "53              non functional  POINT (0.00000 -0.00000)   \n",
       "168                 functional  POINT (0.00000 -0.00000)   \n",
       "177             non functional  POINT (0.00000 -0.00000)   \n",
       "253    functional needs repair  POINT (0.00000 -0.00000)   \n",
       "...                        ...                       ...   \n",
       "59189  functional needs repair  POINT (0.00000 -0.00000)   \n",
       "59208               functional  POINT (0.00000 -0.00000)   \n",
       "59295  functional needs repair  POINT (0.00000 -0.00000)   \n",
       "59324               functional  POINT (0.00000 -0.00000)   \n",
       "59374               functional  POINT (0.00000 -0.00000)   \n",
       "\n",
       "       status_group_numeric  month_recorded waterpoint_age  \n",
       "21                      1.0               2            NaN  \n",
       "53                      0.0               8            NaN  \n",
       "168                     1.0               1            NaN  \n",
       "177                     0.0               1            NaN  \n",
       "253                     0.5              10            NaN  \n",
       "...                     ...             ...            ...  \n",
       "59189                   0.5               7            NaN  \n",
       "59208                   1.0               1            NaN  \n",
       "59295                   0.5               7            NaN  \n",
       "59324                   1.0               1            NaN  \n",
       "59374                   1.0              10            NaN  \n",
       "\n",
       "[1812 rows x 39 columns]"
      ]
     },
     "execution_count": 89,
     "metadata": {},
     "output_type": "execute_result"
    }
   ],
   "source": [
    "train[train['longitude'] == 0]"
   ]
  },
  {
   "cell_type": "code",
   "execution_count": 90,
   "metadata": {
    "colab": {
     "base_uri": "https://localhost:8080/",
     "height": 73
    },
    "colab_type": "code",
    "id": "SyPG0BibK63S",
    "outputId": "91bb755e-d132-4c1a-fa73-8b768be3ac9b"
   },
   "outputs": [
    {
     "data": {
      "text/plain": [
       "Lake Victoria      0.945364\n",
       "Lake Tanganyika    0.054636\n",
       "Name: basin, dtype: float64"
      ]
     },
     "execution_count": 90,
     "metadata": {},
     "output_type": "execute_result"
    }
   ],
   "source": [
    "# possible feature to look for values to replace non-sense values\n",
    "train[train['longitude'] == 0]['basin'].value_counts(normalize=True)"
   ]
  },
  {
   "cell_type": "code",
   "execution_count": 91,
   "metadata": {
    "colab": {
     "base_uri": "https://localhost:8080/",
     "height": 185
    },
    "colab_type": "code",
    "id": "NTIu1qHBKd4b",
    "outputId": "ab7590a6-e877-4708-fb85-1ca3c31d6ea3"
   },
   "outputs": [
    {
     "data": {
      "text/plain": [
       "count    10248.000000\n",
       "mean        27.284607\n",
       "std         12.278315\n",
       "min          0.000000\n",
       "25%         30.864549\n",
       "50%         32.686490\n",
       "75%         33.584817\n",
       "max         35.511809\n",
       "Name: longitude, dtype: float64"
      ]
     },
     "execution_count": 91,
     "metadata": {},
     "output_type": "execute_result"
    }
   ],
   "source": [
    "train[train['basin'] == 'Lake Victoria']['longitude'].describe()"
   ]
  },
  {
   "cell_type": "code",
   "execution_count": 92,
   "metadata": {
    "colab": {
     "base_uri": "https://localhost:8080/",
     "height": 185
    },
    "colab_type": "code",
    "id": "0bm7jFNEM2OG",
    "outputId": "1418a4d6-4339-41e3-bfa4-c855f05a2e18"
   },
   "outputs": [
    {
     "data": {
      "text/plain": [
       "count    1.024800e+04\n",
       "mean    -1.866879e+00\n",
       "std      1.047662e+00\n",
       "min     -3.933140e+00\n",
       "25%     -2.689709e+00\n",
       "50%     -1.911210e+00\n",
       "75%     -1.343601e+00\n",
       "max     -2.000000e-08\n",
       "Name: latitude, dtype: float64"
      ]
     },
     "execution_count": 92,
     "metadata": {},
     "output_type": "execute_result"
    }
   ],
   "source": [
    "train[train['basin'] == 'Lake Victoria']['latitude'].describe()"
   ]
  },
  {
   "cell_type": "code",
   "execution_count": 93,
   "metadata": {
    "colab": {
     "base_uri": "https://localhost:8080/",
     "height": 185
    },
    "colab_type": "code",
    "id": "Er6TXZNTBpY2",
    "outputId": "30b81675-82e2-483d-d117-5826b9e10b97"
   },
   "outputs": [
    {
     "data": {
      "text/plain": [
       "count    10248.000000\n",
       "mean       328.424961\n",
       "std        579.150378\n",
       "min          0.000000\n",
       "25%          0.000000\n",
       "50%          0.000000\n",
       "75%          0.000000\n",
       "max       2056.000000\n",
       "Name: gps_height, dtype: float64"
      ]
     },
     "execution_count": 93,
     "metadata": {},
     "output_type": "execute_result"
    }
   ],
   "source": [
    "train[train['basin'] == 'Lake Victoria']['gps_height'].describe()"
   ]
  },
  {
   "cell_type": "code",
   "execution_count": 94,
   "metadata": {
    "colab": {
     "base_uri": "https://localhost:8080/",
     "height": 185
    },
    "colab_type": "code",
    "id": "ezqEOHe_LCwp",
    "outputId": "e80629d4-5623-4269-b1e8-17b9a42f0f58"
   },
   "outputs": [
    {
     "data": {
      "text/plain": [
       "count    6432.000000\n",
       "mean       30.730392\n",
       "std         3.992779\n",
       "min         0.000000\n",
       "25%        30.201286\n",
       "50%        30.949258\n",
       "75%        32.244461\n",
       "max        33.918313\n",
       "Name: longitude, dtype: float64"
      ]
     },
     "execution_count": 94,
     "metadata": {},
     "output_type": "execute_result"
    }
   ],
   "source": [
    "train[train['basin'] == 'Lake Tanganyika']['longitude'].describe()"
   ]
  },
  {
   "cell_type": "markdown",
   "metadata": {
    "colab_type": "text",
    "id": "M3P7shjWLJ-Q"
   },
   "source": [
    "I am going to replace the 0.0 values of 'longitude' with the median of the wells with the basin 'Lake Victoria' and the corresponding values of 'latitude' with the median as well."
   ]
  },
  {
   "cell_type": "code",
   "execution_count": 95,
   "metadata": {
    "colab": {},
    "colab_type": "code",
    "id": "0mshIB50Lw9J"
   },
   "outputs": [],
   "source": [
    "# values for replacement\n",
    "longi_median = train[train['basin'] == 'Lake Victoria']['longitude'].median()\n",
    "lati_median = train[train['basin'] == 'Lake Victoria']['latitude'].median()\n",
    "\n",
    "# latitude values of outliers we need to replace\n",
    "lati_max = train[train['basin'] == 'Lake Victoria']['latitude'].max()"
   ]
  },
  {
   "cell_type": "code",
   "execution_count": 96,
   "metadata": {
    "colab": {},
    "colab_type": "code",
    "id": "R-l2mUZ4Lbsa"
   },
   "outputs": [],
   "source": [
    "# replace values for longitude\n",
    "train['longitude'].replace(0.0, longi_median, inplace = True)\n",
    "to_predict['longitude'].replace(0.0, longi_median, inplace = True)\n",
    "\n",
    "# replace values for latitude\n",
    "train['latitude'].replace(lati_max, lati_median, inplace=True)\n",
    "to_predict['latitude'].replace(lati_max, lati_median, inplace=True)"
   ]
  },
  {
   "cell_type": "code",
   "execution_count": 97,
   "metadata": {
    "colab": {},
    "colab_type": "code",
    "id": "eSL4fhNDMNOo"
   },
   "outputs": [],
   "source": [
    "# update the geometry feature\n",
    "train = gpd.GeoDataFrame(train, geometry=gpd.points_from_xy(train.longitude, train.latitude))\n",
    "to_predict = gpd.GeoDataFrame(to_predict, geometry=gpd.points_from_xy(to_predict.longitude, to_predict.latitude))"
   ]
  },
  {
   "cell_type": "code",
   "execution_count": 98,
   "metadata": {
    "colab": {
     "base_uri": "https://localhost:8080/",
     "height": 594
    },
    "colab_type": "code",
    "id": "C0_bTbb8SLon",
    "outputId": "bd434afb-ffa8-4495-b301-848b294d53f8"
   },
   "outputs": [
    {
     "data": {
      "image/png": "[encoded data removed]",
      "text/plain": [
       "<Figure size 720x720 with 1 Axes>"
      ]
     },
     "metadata": {},
     "output_type": "display_data"
    }
   ],
   "source": [
    "# plot map of Tanzania\n",
    "ax = tanzania.plot(color='white', edgecolor='black', figsize=(10,10))\n",
    "\n",
    "# plot single observations on map grouped by status\n",
    "train.plot(ax=ax, column='status_group', cmap='Accent', legend=True)\n",
    "\n",
    "plt.show()"
   ]
  },
  {
   "cell_type": "markdown",
   "metadata": {
    "colab_type": "text",
    "id": "pW-ujPRUTb2R"
   },
   "source": [
    "A different plotting technique might be more useful to find out where functional, non functional and semi functional wells concentrate geographically.\n",
    "I am going to plot three different heat maps for that (one for each status)."
   ]
  },
  {
   "cell_type": "code",
   "execution_count": 99,
   "metadata": {},
   "outputs": [
    {
     "data": {
      "image/png": "[encoded data removed]",
      "text/plain": [
       "<Figure size 1440x720 with 3 Axes>"
      ]
     },
     "metadata": {},
     "output_type": "display_data"
    }
   ],
   "source": [
    "sns.set()\n",
    "\n",
    "fig, (ax1, ax2, ax3) = plt.subplots(ncols=3, sharex=True, sharey=True, figsize=(20, 10))\n",
    "\n",
    "#plots\n",
    "map1 = tanzania.plot(color='white', edgecolor='black', ax=ax1)\n",
    "ax1.set_title('Functional', size=20)\n",
    "geoplot.kdeplot(train[train['status_group'] == 'functional'], ax=map1, shade=True, cmap='Reds',\n",
    "               shade_lowest=False, alpha=0.8)\n",
    "\n",
    "map2 = tanzania.plot(color='white', edgecolor='black', ax=ax2)\n",
    "ax2.set_title('Functional needs repair', size=20)\n",
    "geoplot.kdeplot(train[train['status_group'] == 'functional needs repair'], ax=map2, shade=True,\n",
    "               cmap='Reds', shade_lowest=False, alpha=0.8)\n",
    "\n",
    "map3 = tanzania.plot(color='white', edgecolor='black', ax=ax3)\n",
    "ax3.set_title('Non functional', size=20)\n",
    "geoplot.kdeplot(train[train['status_group'] == 'non functional'], ax=map3, shade=True,\n",
    "               cmap='Reds', shade_lowest=False, alpha=0.8)\n",
    "\n",
    "plt.show()"
   ]
  },
  {
   "cell_type": "markdown",
   "metadata": {},
   "source": [
    "We can see that the wells with different functionality stati concentrate in different geographic areas. Thus, these features should be very useful for our ML model."
   ]
  },
  {
   "cell_type": "markdown",
   "metadata": {},
   "source": [
    "## 2.6 Well and water features"
   ]
  },
  {
   "cell_type": "markdown",
   "metadata": {},
   "source": [
    "In general there seem to be a lot of features which are kind of duplicate, e.g. 'source', 'source_type' and 'source_class'. Our main goal here is to first identify the necessary features only and then to explore their usability for our machine learning model."
   ]
  },
  {
   "cell_type": "markdown",
   "metadata": {},
   "source": [
    "### 2.6.1 Extraction"
   ]
  },
  {
   "cell_type": "code",
   "execution_count": 100,
   "metadata": {},
   "outputs": [
    {
     "name": "stdout",
     "output_type": "stream",
     "text": [
      "['gravity' 'submersible' 'swn 80' 'nira/tanira' 'india mark ii' 'other'\n",
      " 'ksb' 'mono' 'windmill' 'afridev' 'other - rope pump' 'india mark iii'\n",
      " 'other - swn 81' 'other - play pump' 'cemo' 'climax' 'walimi'\n",
      " 'other - mkulima/shinyanga']\n",
      "18\n"
     ]
    }
   ],
   "source": [
    "print(train['extraction_type'].unique())\n",
    "print(len(train['extraction_type'].unique()))"
   ]
  },
  {
   "cell_type": "code",
   "execution_count": 101,
   "metadata": {},
   "outputs": [
    {
     "name": "stdout",
     "output_type": "stream",
     "text": [
      "['gravity' 'submersible' 'swn 80' 'nira/tanira' 'india mark ii' 'other'\n",
      " 'mono' 'wind-powered' 'afridev' 'rope pump' 'india mark iii'\n",
      " 'other handpump' 'other motorpump']\n",
      "13\n"
     ]
    }
   ],
   "source": [
    "print(train['extraction_type_group'].unique())\n",
    "print(len(train['extraction_type_group'].unique()))"
   ]
  },
  {
   "cell_type": "code",
   "execution_count": 102,
   "metadata": {},
   "outputs": [
    {
     "name": "stdout",
     "output_type": "stream",
     "text": [
      "['gravity' 'submersible' 'handpump' 'other' 'motorpump' 'wind-powered'\n",
      " 'rope pump']\n",
      "7\n"
     ]
    }
   ],
   "source": [
    "print(train['extraction_type_class'].unique())\n",
    "print(len(train['extraction_type_class'].unique()))"
   ]
  },
  {
   "cell_type": "code",
   "execution_count": 103,
   "metadata": {},
   "outputs": [
    {
     "data": {
      "text/plain": [
       "gravity                      26780\n",
       "nira/tanira                   8154\n",
       "other                         6430\n",
       "submersible                   4764\n",
       "swn 80                        3670\n",
       "mono                          2865\n",
       "india mark ii                 2400\n",
       "afridev                       1770\n",
       "ksb                           1415\n",
       "other - rope pump              451\n",
       "other - swn 81                 229\n",
       "windmill                       117\n",
       "india mark iii                  98\n",
       "cemo                            90\n",
       "other - play pump               85\n",
       "walimi                          48\n",
       "climax                          32\n",
       "other - mkulima/shinyanga        2\n",
       "Name: extraction_type, dtype: int64"
      ]
     },
     "execution_count": 103,
     "metadata": {},
     "output_type": "execute_result"
    }
   ],
   "source": [
    "train['extraction_type'].value_counts()"
   ]
  },
  {
   "cell_type": "code",
   "execution_count": 104,
   "metadata": {},
   "outputs": [
    {
     "data": {
      "text/plain": [
       "gravity            26780\n",
       "nira/tanira         8154\n",
       "other               6430\n",
       "submersible         6179\n",
       "swn 80              3670\n",
       "mono                2865\n",
       "india mark ii       2400\n",
       "afridev             1770\n",
       "rope pump            451\n",
       "other handpump       364\n",
       "other motorpump      122\n",
       "wind-powered         117\n",
       "india mark iii        98\n",
       "Name: extraction_type_group, dtype: int64"
      ]
     },
     "execution_count": 104,
     "metadata": {},
     "output_type": "execute_result"
    }
   ],
   "source": [
    "train['extraction_type_group'].value_counts()"
   ]
  },
  {
   "cell_type": "markdown",
   "metadata": {},
   "source": [
    "I think the feature 'extraction_type_group' gives us the right trade-off between getting information which is as specific as possible and still being generalizable."
   ]
  },
  {
   "cell_type": "code",
   "execution_count": 105,
   "metadata": {},
   "outputs": [],
   "source": [
    "train.drop(['extraction_type', 'extraction_type_class'], axis=1, inplace=True)\n",
    "to_predict.drop(['extraction_type', 'extraction_type_class'], axis=1, inplace=True)"
   ]
  },
  {
   "cell_type": "code",
   "execution_count": 106,
   "metadata": {},
   "outputs": [
    {
     "data": {
      "text/plain": [
       "extraction_type_group\n",
       "afridev            0.689831\n",
       "gravity            0.649683\n",
       "india mark ii      0.619792\n",
       "india mark iii     0.454082\n",
       "mono               0.400175\n",
       "nira/tanira        0.704133\n",
       "other              0.176050\n",
       "other handpump     0.500000\n",
       "other motorpump    0.471311\n",
       "rope pump          0.668514\n",
       "submersible        0.559233\n",
       "swn 80             0.598365\n",
       "wind-powered       0.457265\n",
       "Name: status_group_numeric, dtype: float64"
      ]
     },
     "execution_count": 106,
     "metadata": {},
     "output_type": "execute_result"
    }
   ],
   "source": [
    "train.groupby('extraction_type_group')['status_group_numeric'].mean()"
   ]
  },
  {
   "cell_type": "code",
   "execution_count": 107,
   "metadata": {},
   "outputs": [
    {
     "data": {
      "text/html": [
       "<div>\n",
       "<style scoped>\n",
       "    .dataframe tbody tr th:only-of-type {\n",
       "        vertical-align: middle;\n",
       "    }\n",
       "\n",
       "    .dataframe tbody tr th {\n",
       "        vertical-align: top;\n",
       "    }\n",
       "\n",
       "    .dataframe thead th {\n",
       "        text-align: right;\n",
       "    }\n",
       "</style>\n",
       "<table border=\"1\" class=\"dataframe\">\n",
       "  <thead>\n",
       "    <tr style=\"text-align: right;\">\n",
       "      <th>status_group</th>\n",
       "      <th>functional</th>\n",
       "      <th>functional needs repair</th>\n",
       "      <th>non functional</th>\n",
       "    </tr>\n",
       "    <tr>\n",
       "      <th>extraction_type_group</th>\n",
       "      <th></th>\n",
       "      <th></th>\n",
       "      <th></th>\n",
       "    </tr>\n",
       "  </thead>\n",
       "  <tbody>\n",
       "    <tr>\n",
       "      <td>afridev</td>\n",
       "      <td>0.677966</td>\n",
       "      <td>0.023729</td>\n",
       "      <td>0.298305</td>\n",
       "    </tr>\n",
       "    <tr>\n",
       "      <td>gravity</td>\n",
       "      <td>0.599253</td>\n",
       "      <td>0.100859</td>\n",
       "      <td>0.299888</td>\n",
       "    </tr>\n",
       "    <tr>\n",
       "      <td>india mark ii</td>\n",
       "      <td>0.603333</td>\n",
       "      <td>0.032917</td>\n",
       "      <td>0.363750</td>\n",
       "    </tr>\n",
       "    <tr>\n",
       "      <td>india mark iii</td>\n",
       "      <td>0.448980</td>\n",
       "      <td>0.010204</td>\n",
       "      <td>0.540816</td>\n",
       "    </tr>\n",
       "    <tr>\n",
       "      <td>mono</td>\n",
       "      <td>0.377661</td>\n",
       "      <td>0.045026</td>\n",
       "      <td>0.577312</td>\n",
       "    </tr>\n",
       "    <tr>\n",
       "      <td>nira/tanira</td>\n",
       "      <td>0.664827</td>\n",
       "      <td>0.078612</td>\n",
       "      <td>0.256561</td>\n",
       "    </tr>\n",
       "    <tr>\n",
       "      <td>other</td>\n",
       "      <td>0.160031</td>\n",
       "      <td>0.032037</td>\n",
       "      <td>0.807932</td>\n",
       "    </tr>\n",
       "    <tr>\n",
       "      <td>other handpump</td>\n",
       "      <td>0.472527</td>\n",
       "      <td>0.054945</td>\n",
       "      <td>0.472527</td>\n",
       "    </tr>\n",
       "    <tr>\n",
       "      <td>other motorpump</td>\n",
       "      <td>0.434426</td>\n",
       "      <td>0.073770</td>\n",
       "      <td>0.491803</td>\n",
       "    </tr>\n",
       "    <tr>\n",
       "      <td>rope pump</td>\n",
       "      <td>0.649667</td>\n",
       "      <td>0.037694</td>\n",
       "      <td>0.312639</td>\n",
       "    </tr>\n",
       "    <tr>\n",
       "      <td>submersible</td>\n",
       "      <td>0.538760</td>\n",
       "      <td>0.040945</td>\n",
       "      <td>0.420295</td>\n",
       "    </tr>\n",
       "    <tr>\n",
       "      <td>swn 80</td>\n",
       "      <td>0.569482</td>\n",
       "      <td>0.057766</td>\n",
       "      <td>0.372752</td>\n",
       "    </tr>\n",
       "    <tr>\n",
       "      <td>wind-powered</td>\n",
       "      <td>0.427350</td>\n",
       "      <td>0.059829</td>\n",
       "      <td>0.512821</td>\n",
       "    </tr>\n",
       "  </tbody>\n",
       "</table>\n",
       "</div>"
      ],
      "text/plain": [
       "status_group           functional  functional needs repair  non functional\n",
       "extraction_type_group                                                     \n",
       "afridev                  0.677966                 0.023729        0.298305\n",
       "gravity                  0.599253                 0.100859        0.299888\n",
       "india mark ii            0.603333                 0.032917        0.363750\n",
       "india mark iii           0.448980                 0.010204        0.540816\n",
       "mono                     0.377661                 0.045026        0.577312\n",
       "nira/tanira              0.664827                 0.078612        0.256561\n",
       "other                    0.160031                 0.032037        0.807932\n",
       "other handpump           0.472527                 0.054945        0.472527\n",
       "other motorpump          0.434426                 0.073770        0.491803\n",
       "rope pump                0.649667                 0.037694        0.312639\n",
       "submersible              0.538760                 0.040945        0.420295\n",
       "swn 80                   0.569482                 0.057766        0.372752\n",
       "wind-powered             0.427350                 0.059829        0.512821"
      ]
     },
     "execution_count": 107,
     "metadata": {},
     "output_type": "execute_result"
    }
   ],
   "source": [
    "pd.crosstab(train['extraction_type_group'], train['status_group'], normalize='index')"
   ]
  },
  {
   "cell_type": "markdown",
   "metadata": {},
   "source": [
    "### 2.6.1 Quality"
   ]
  },
  {
   "cell_type": "code",
   "execution_count": 108,
   "metadata": {},
   "outputs": [
    {
     "name": "stdout",
     "output_type": "stream",
     "text": [
      "['soft' 'salty' 'milky' 'unknown' 'fluoride' 'coloured' 'salty abandoned'\n",
      " 'fluoride abandoned']\n",
      "8\n"
     ]
    }
   ],
   "source": [
    "print(train['water_quality'].unique())\n",
    "print(len(train['water_quality'].unique()))"
   ]
  },
  {
   "cell_type": "code",
   "execution_count": 109,
   "metadata": {},
   "outputs": [
    {
     "data": {
      "text/plain": [
       "soft                  50818\n",
       "salty                  4856\n",
       "unknown                1876\n",
       "milky                   804\n",
       "coloured                490\n",
       "salty abandoned         339\n",
       "fluoride                200\n",
       "fluoride abandoned       17\n",
       "Name: water_quality, dtype: int64"
      ]
     },
     "execution_count": 109,
     "metadata": {},
     "output_type": "execute_result"
    }
   ],
   "source": [
    "train['water_quality'].value_counts()"
   ]
  },
  {
   "cell_type": "code",
   "execution_count": 110,
   "metadata": {},
   "outputs": [
    {
     "name": "stdout",
     "output_type": "stream",
     "text": [
      "['good' 'salty' 'milky' 'unknown' 'fluoride' 'colored']\n",
      "6\n"
     ]
    }
   ],
   "source": [
    "print(train['quality_group'].unique())\n",
    "print(len(train['quality_group'].unique()))"
   ]
  },
  {
   "cell_type": "code",
   "execution_count": 111,
   "metadata": {},
   "outputs": [
    {
     "data": {
      "text/plain": [
       "good        50818\n",
       "salty        5195\n",
       "unknown      1876\n",
       "milky         804\n",
       "colored       490\n",
       "fluoride      217\n",
       "Name: quality_group, dtype: int64"
      ]
     },
     "execution_count": 111,
     "metadata": {},
     "output_type": "execute_result"
    }
   ],
   "source": [
    "train['quality_group'].value_counts()"
   ]
  },
  {
   "cell_type": "code",
   "execution_count": 112,
   "metadata": {},
   "outputs": [],
   "source": [
    "# drop column 'water_quality'\n",
    "train.drop(['water_quality'], axis=1, inplace=True)\n",
    "to_predict.drop(['water_quality'], axis=1, inplace=True)"
   ]
  },
  {
   "cell_type": "code",
   "execution_count": 113,
   "metadata": {},
   "outputs": [
    {
     "data": {
      "text/plain": [
       "quality_group\n",
       "colored     0.557143\n",
       "fluoride    0.753456\n",
       "good        0.604353\n",
       "milky       0.553483\n",
       "salty       0.489413\n",
       "unknown     0.150053\n",
       "Name: status_group_numeric, dtype: float64"
      ]
     },
     "execution_count": 113,
     "metadata": {},
     "output_type": "execute_result"
    }
   ],
   "source": [
    "train.groupby('quality_group')['status_group_numeric'].mean()"
   ]
  },
  {
   "cell_type": "code",
   "execution_count": 114,
   "metadata": {},
   "outputs": [
    {
     "data": {
      "text/html": [
       "<div>\n",
       "<style scoped>\n",
       "    .dataframe tbody tr th:only-of-type {\n",
       "        vertical-align: middle;\n",
       "    }\n",
       "\n",
       "    .dataframe tbody tr th {\n",
       "        vertical-align: top;\n",
       "    }\n",
       "\n",
       "    .dataframe thead th {\n",
       "        text-align: right;\n",
       "    }\n",
       "</style>\n",
       "<table border=\"1\" class=\"dataframe\">\n",
       "  <thead>\n",
       "    <tr style=\"text-align: right;\">\n",
       "      <th>status_group</th>\n",
       "      <th>functional</th>\n",
       "      <th>functional needs repair</th>\n",
       "      <th>non functional</th>\n",
       "    </tr>\n",
       "    <tr>\n",
       "      <th>quality_group</th>\n",
       "      <th></th>\n",
       "      <th></th>\n",
       "      <th></th>\n",
       "    </tr>\n",
       "  </thead>\n",
       "  <tbody>\n",
       "    <tr>\n",
       "      <td>colored</td>\n",
       "      <td>0.502041</td>\n",
       "      <td>0.110204</td>\n",
       "      <td>0.387755</td>\n",
       "    </tr>\n",
       "    <tr>\n",
       "      <td>fluoride</td>\n",
       "      <td>0.723502</td>\n",
       "      <td>0.059908</td>\n",
       "      <td>0.216590</td>\n",
       "    </tr>\n",
       "    <tr>\n",
       "      <td>good</td>\n",
       "      <td>0.565941</td>\n",
       "      <td>0.076823</td>\n",
       "      <td>0.357236</td>\n",
       "    </tr>\n",
       "    <tr>\n",
       "      <td>milky</td>\n",
       "      <td>0.544776</td>\n",
       "      <td>0.017413</td>\n",
       "      <td>0.437811</td>\n",
       "    </tr>\n",
       "    <tr>\n",
       "      <td>salty</td>\n",
       "      <td>0.460828</td>\n",
       "      <td>0.057170</td>\n",
       "      <td>0.482002</td>\n",
       "    </tr>\n",
       "    <tr>\n",
       "      <td>unknown</td>\n",
       "      <td>0.140725</td>\n",
       "      <td>0.018657</td>\n",
       "      <td>0.840618</td>\n",
       "    </tr>\n",
       "  </tbody>\n",
       "</table>\n",
       "</div>"
      ],
      "text/plain": [
       "status_group   functional  functional needs repair  non functional\n",
       "quality_group                                                     \n",
       "colored          0.502041                 0.110204        0.387755\n",
       "fluoride         0.723502                 0.059908        0.216590\n",
       "good             0.565941                 0.076823        0.357236\n",
       "milky            0.544776                 0.017413        0.437811\n",
       "salty            0.460828                 0.057170        0.482002\n",
       "unknown          0.140725                 0.018657        0.840618"
      ]
     },
     "execution_count": 114,
     "metadata": {},
     "output_type": "execute_result"
    }
   ],
   "source": [
    "pd.crosstab(train['quality_group'], train['status_group'], normalize='index')"
   ]
  },
  {
   "cell_type": "markdown",
   "metadata": {},
   "source": [
    "### 2.6.2 Quantity"
   ]
  },
  {
   "cell_type": "code",
   "execution_count": 115,
   "metadata": {},
   "outputs": [
    {
     "name": "stdout",
     "output_type": "stream",
     "text": [
      "['enough' 'insufficient' 'dry' 'seasonal' 'unknown']\n",
      "5\n"
     ]
    }
   ],
   "source": [
    "print(train['quantity'].unique())\n",
    "print(len(train['quantity'].unique()))"
   ]
  },
  {
   "cell_type": "code",
   "execution_count": 116,
   "metadata": {},
   "outputs": [
    {
     "name": "stdout",
     "output_type": "stream",
     "text": [
      "['enough' 'insufficient' 'dry' 'seasonal' 'unknown']\n",
      "5\n"
     ]
    }
   ],
   "source": [
    "print(train['quantity_group'].unique())\n",
    "print(len(train['quantity_group'].unique()))"
   ]
  },
  {
   "cell_type": "code",
   "execution_count": 117,
   "metadata": {},
   "outputs": [],
   "source": [
    "# drop column 'quantity'\n",
    "train.drop(['quantity'], axis=1, inplace=True)\n",
    "to_predict.drop(['quantity'], axis=1, inplace=True)"
   ]
  },
  {
   "cell_type": "code",
   "execution_count": 118,
   "metadata": {},
   "outputs": [
    {
     "data": {
      "text/plain": [
       "quantity_group\n",
       "dry             0.028098\n",
       "enough          0.688483\n",
       "insufficient    0.571155\n",
       "seasonal        0.625432\n",
       "unknown         0.278834\n",
       "Name: status_group_numeric, dtype: float64"
      ]
     },
     "execution_count": 118,
     "metadata": {},
     "output_type": "execute_result"
    }
   ],
   "source": [
    "train.groupby('quantity_group')['status_group_numeric'].mean()"
   ]
  },
  {
   "cell_type": "code",
   "execution_count": 119,
   "metadata": {},
   "outputs": [
    {
     "data": {
      "text/html": [
       "<div>\n",
       "<style scoped>\n",
       "    .dataframe tbody tr th:only-of-type {\n",
       "        vertical-align: middle;\n",
       "    }\n",
       "\n",
       "    .dataframe tbody tr th {\n",
       "        vertical-align: top;\n",
       "    }\n",
       "\n",
       "    .dataframe thead th {\n",
       "        text-align: right;\n",
       "    }\n",
       "</style>\n",
       "<table border=\"1\" class=\"dataframe\">\n",
       "  <thead>\n",
       "    <tr style=\"text-align: right;\">\n",
       "      <th>status_group</th>\n",
       "      <th>functional</th>\n",
       "      <th>functional needs repair</th>\n",
       "      <th>non functional</th>\n",
       "    </tr>\n",
       "    <tr>\n",
       "      <th>quantity_group</th>\n",
       "      <th></th>\n",
       "      <th></th>\n",
       "      <th></th>\n",
       "    </tr>\n",
       "  </thead>\n",
       "  <tbody>\n",
       "    <tr>\n",
       "      <td>dry</td>\n",
       "      <td>0.025136</td>\n",
       "      <td>0.005924</td>\n",
       "      <td>0.968940</td>\n",
       "    </tr>\n",
       "    <tr>\n",
       "      <td>enough</td>\n",
       "      <td>0.652323</td>\n",
       "      <td>0.072320</td>\n",
       "      <td>0.275357</td>\n",
       "    </tr>\n",
       "    <tr>\n",
       "      <td>insufficient</td>\n",
       "      <td>0.523234</td>\n",
       "      <td>0.095842</td>\n",
       "      <td>0.380924</td>\n",
       "    </tr>\n",
       "    <tr>\n",
       "      <td>seasonal</td>\n",
       "      <td>0.574074</td>\n",
       "      <td>0.102716</td>\n",
       "      <td>0.323210</td>\n",
       "    </tr>\n",
       "    <tr>\n",
       "      <td>unknown</td>\n",
       "      <td>0.269962</td>\n",
       "      <td>0.017744</td>\n",
       "      <td>0.712294</td>\n",
       "    </tr>\n",
       "  </tbody>\n",
       "</table>\n",
       "</div>"
      ],
      "text/plain": [
       "status_group    functional  functional needs repair  non functional\n",
       "quantity_group                                                     \n",
       "dry               0.025136                 0.005924        0.968940\n",
       "enough            0.652323                 0.072320        0.275357\n",
       "insufficient      0.523234                 0.095842        0.380924\n",
       "seasonal          0.574074                 0.102716        0.323210\n",
       "unknown           0.269962                 0.017744        0.712294"
      ]
     },
     "execution_count": 119,
     "metadata": {},
     "output_type": "execute_result"
    }
   ],
   "source": [
    "pd.crosstab(train['quantity_group'], train['status_group'], normalize='index')"
   ]
  },
  {
   "cell_type": "markdown",
   "metadata": {},
   "source": [
    "### 2.6.3 Source"
   ]
  },
  {
   "cell_type": "code",
   "execution_count": 120,
   "metadata": {},
   "outputs": [
    {
     "name": "stdout",
     "output_type": "stream",
     "text": [
      "['spring' 'rainwater harvesting' 'dam' 'machine dbh' 'other'\n",
      " 'shallow well' 'river' 'hand dtw' 'lake' 'unknown']\n",
      "10\n"
     ]
    }
   ],
   "source": [
    "print(train['source'].unique())\n",
    "print(len(train['source'].unique()))"
   ]
  },
  {
   "cell_type": "code",
   "execution_count": 121,
   "metadata": {},
   "outputs": [
    {
     "name": "stdout",
     "output_type": "stream",
     "text": [
      "['spring' 'rainwater harvesting' 'dam' 'borehole' 'other' 'shallow well'\n",
      " 'river/lake']\n",
      "7\n"
     ]
    }
   ],
   "source": [
    "print(train['source_type'].unique())\n",
    "print(len(train['source_type'].unique()))"
   ]
  },
  {
   "cell_type": "code",
   "execution_count": 122,
   "metadata": {},
   "outputs": [
    {
     "name": "stdout",
     "output_type": "stream",
     "text": [
      "['groundwater' 'surface' 'unknown']\n",
      "3\n"
     ]
    }
   ],
   "source": [
    "print(train['source_class'].unique())\n",
    "print(len(train['source_class'].unique()))"
   ]
  },
  {
   "cell_type": "code",
   "execution_count": 123,
   "metadata": {},
   "outputs": [
    {
     "data": {
      "text/plain": [
       "spring                  17021\n",
       "shallow well            16824\n",
       "machine dbh             11075\n",
       "river                    9612\n",
       "rainwater harvesting     2295\n",
       "hand dtw                  874\n",
       "lake                      765\n",
       "dam                       656\n",
       "other                     212\n",
       "unknown                    66\n",
       "Name: source, dtype: int64"
      ]
     },
     "execution_count": 123,
     "metadata": {},
     "output_type": "execute_result"
    }
   ],
   "source": [
    "train['source'].value_counts()"
   ]
  },
  {
   "cell_type": "code",
   "execution_count": 124,
   "metadata": {},
   "outputs": [
    {
     "data": {
      "text/plain": [
       "spring                  17021\n",
       "shallow well            16824\n",
       "borehole                11949\n",
       "river/lake              10377\n",
       "rainwater harvesting     2295\n",
       "dam                       656\n",
       "other                     278\n",
       "Name: source_type, dtype: int64"
      ]
     },
     "execution_count": 124,
     "metadata": {},
     "output_type": "execute_result"
    }
   ],
   "source": [
    "train['source_type'].value_counts()"
   ]
  },
  {
   "cell_type": "code",
   "execution_count": 125,
   "metadata": {},
   "outputs": [],
   "source": [
    "# drop other source columns\n",
    "train.drop(['source_type', 'source_class'], axis=1, inplace=True)\n",
    "to_predict.drop(['source_type', 'source_class'], axis=1, inplace=True)"
   ]
  },
  {
   "cell_type": "code",
   "execution_count": 126,
   "metadata": {},
   "outputs": [
    {
     "data": {
      "text/plain": [
       "source\n",
       "dam                     0.403963\n",
       "hand dtw                0.578375\n",
       "lake                    0.219608\n",
       "machine dbh             0.511738\n",
       "other                   0.596698\n",
       "rainwater harvesting    0.672331\n",
       "river                   0.632074\n",
       "shallow well            0.523211\n",
       "spring                  0.659773\n",
       "unknown                 0.515152\n",
       "Name: status_group_numeric, dtype: float64"
      ]
     },
     "execution_count": 126,
     "metadata": {},
     "output_type": "execute_result"
    }
   ],
   "source": [
    "train.groupby('source')['status_group_numeric'].mean()"
   ]
  },
  {
   "cell_type": "code",
   "execution_count": 127,
   "metadata": {},
   "outputs": [
    {
     "data": {
      "text/html": [
       "<div>\n",
       "<style scoped>\n",
       "    .dataframe tbody tr th:only-of-type {\n",
       "        vertical-align: middle;\n",
       "    }\n",
       "\n",
       "    .dataframe tbody tr th {\n",
       "        vertical-align: top;\n",
       "    }\n",
       "\n",
       "    .dataframe thead th {\n",
       "        text-align: right;\n",
       "    }\n",
       "</style>\n",
       "<table border=\"1\" class=\"dataframe\">\n",
       "  <thead>\n",
       "    <tr style=\"text-align: right;\">\n",
       "      <th>status_group</th>\n",
       "      <th>functional</th>\n",
       "      <th>functional needs repair</th>\n",
       "      <th>non functional</th>\n",
       "    </tr>\n",
       "    <tr>\n",
       "      <th>source</th>\n",
       "      <th></th>\n",
       "      <th></th>\n",
       "      <th></th>\n",
       "    </tr>\n",
       "  </thead>\n",
       "  <tbody>\n",
       "    <tr>\n",
       "      <td>dam</td>\n",
       "      <td>0.385671</td>\n",
       "      <td>0.036585</td>\n",
       "      <td>0.577744</td>\n",
       "    </tr>\n",
       "    <tr>\n",
       "      <td>hand dtw</td>\n",
       "      <td>0.568650</td>\n",
       "      <td>0.019451</td>\n",
       "      <td>0.411899</td>\n",
       "    </tr>\n",
       "    <tr>\n",
       "      <td>lake</td>\n",
       "      <td>0.211765</td>\n",
       "      <td>0.015686</td>\n",
       "      <td>0.772549</td>\n",
       "    </tr>\n",
       "    <tr>\n",
       "      <td>machine dbh</td>\n",
       "      <td>0.489571</td>\n",
       "      <td>0.044334</td>\n",
       "      <td>0.466095</td>\n",
       "    </tr>\n",
       "    <tr>\n",
       "      <td>other</td>\n",
       "      <td>0.594340</td>\n",
       "      <td>0.004717</td>\n",
       "      <td>0.400943</td>\n",
       "    </tr>\n",
       "    <tr>\n",
       "      <td>rainwater harvesting</td>\n",
       "      <td>0.603922</td>\n",
       "      <td>0.136819</td>\n",
       "      <td>0.259259</td>\n",
       "    </tr>\n",
       "    <tr>\n",
       "      <td>river</td>\n",
       "      <td>0.568560</td>\n",
       "      <td>0.127029</td>\n",
       "      <td>0.304411</td>\n",
       "    </tr>\n",
       "    <tr>\n",
       "      <td>shallow well</td>\n",
       "      <td>0.494769</td>\n",
       "      <td>0.056883</td>\n",
       "      <td>0.448348</td>\n",
       "    </tr>\n",
       "    <tr>\n",
       "      <td>spring</td>\n",
       "      <td>0.622290</td>\n",
       "      <td>0.074966</td>\n",
       "      <td>0.302744</td>\n",
       "    </tr>\n",
       "    <tr>\n",
       "      <td>unknown</td>\n",
       "      <td>0.484848</td>\n",
       "      <td>0.060606</td>\n",
       "      <td>0.454545</td>\n",
       "    </tr>\n",
       "  </tbody>\n",
       "</table>\n",
       "</div>"
      ],
      "text/plain": [
       "status_group          functional  functional needs repair  non functional\n",
       "source                                                                   \n",
       "dam                     0.385671                 0.036585        0.577744\n",
       "hand dtw                0.568650                 0.019451        0.411899\n",
       "lake                    0.211765                 0.015686        0.772549\n",
       "machine dbh             0.489571                 0.044334        0.466095\n",
       "other                   0.594340                 0.004717        0.400943\n",
       "rainwater harvesting    0.603922                 0.136819        0.259259\n",
       "river                   0.568560                 0.127029        0.304411\n",
       "shallow well            0.494769                 0.056883        0.448348\n",
       "spring                  0.622290                 0.074966        0.302744\n",
       "unknown                 0.484848                 0.060606        0.454545"
      ]
     },
     "execution_count": 127,
     "metadata": {},
     "output_type": "execute_result"
    }
   ],
   "source": [
    "pd.crosstab(train['source'], train['status_group'], normalize='index')"
   ]
  },
  {
   "cell_type": "markdown",
   "metadata": {},
   "source": [
    "### 2.6.4 Waterpoint"
   ]
  },
  {
   "cell_type": "code",
   "execution_count": 128,
   "metadata": {},
   "outputs": [
    {
     "name": "stdout",
     "output_type": "stream",
     "text": [
      "['communal standpipe' 'communal standpipe multiple' 'hand pump' 'other'\n",
      " 'improved spring' 'cattle trough' 'dam']\n",
      "7\n"
     ]
    }
   ],
   "source": [
    "print(train['waterpoint_type'].unique())\n",
    "print(len(train['waterpoint_type'].unique()))"
   ]
  },
  {
   "cell_type": "code",
   "execution_count": 129,
   "metadata": {},
   "outputs": [
    {
     "name": "stdout",
     "output_type": "stream",
     "text": [
      "['communal standpipe' 'hand pump' 'other' 'improved spring'\n",
      " 'cattle trough' 'dam']\n",
      "6\n"
     ]
    }
   ],
   "source": [
    "print(train['waterpoint_type_group'].unique())\n",
    "print(len(train['waterpoint_type_group'].unique()))"
   ]
  },
  {
   "cell_type": "code",
   "execution_count": 130,
   "metadata": {},
   "outputs": [
    {
     "data": {
      "text/plain": [
       "communal standpipe             28522\n",
       "hand pump                      17488\n",
       "other                           6380\n",
       "communal standpipe multiple     6103\n",
       "improved spring                  784\n",
       "cattle trough                    116\n",
       "dam                                7\n",
       "Name: waterpoint_type, dtype: int64"
      ]
     },
     "execution_count": 130,
     "metadata": {},
     "output_type": "execute_result"
    }
   ],
   "source": [
    "train['waterpoint_type'].value_counts()"
   ]
  },
  {
   "cell_type": "code",
   "execution_count": 131,
   "metadata": {},
   "outputs": [
    {
     "name": "stdout",
     "output_type": "stream",
     "text": [
      "['none' 'Zahanati' 'Kwa Mahundi' ... 'Kwa Yahona Kuvala' 'Mshoro'\n",
      " 'Kwa Mzee Lugawa']\n",
      "37400\n"
     ]
    }
   ],
   "source": [
    "print(train['wpt_name'].unique())\n",
    "print(len(train['wpt_name'].unique()))"
   ]
  },
  {
   "cell_type": "code",
   "execution_count": 132,
   "metadata": {},
   "outputs": [
    {
     "data": {
      "text/plain": [
       "waterpoint_type\n",
       "cattle trough                  0.732759\n",
       "communal standpipe             0.661104\n",
       "communal standpipe multiple    0.419302\n",
       "dam                            0.857143\n",
       "hand pump                      0.647272\n",
       "improved spring                0.772321\n",
       "other                          0.154624\n",
       "Name: status_group_numeric, dtype: float64"
      ]
     },
     "execution_count": 132,
     "metadata": {},
     "output_type": "execute_result"
    }
   ],
   "source": [
    "train.groupby('waterpoint_type')['status_group_numeric'].mean()"
   ]
  },
  {
   "cell_type": "code",
   "execution_count": 133,
   "metadata": {},
   "outputs": [
    {
     "data": {
      "text/html": [
       "<div>\n",
       "<style scoped>\n",
       "    .dataframe tbody tr th:only-of-type {\n",
       "        vertical-align: middle;\n",
       "    }\n",
       "\n",
       "    .dataframe tbody tr th {\n",
       "        vertical-align: top;\n",
       "    }\n",
       "\n",
       "    .dataframe thead th {\n",
       "        text-align: right;\n",
       "    }\n",
       "</style>\n",
       "<table border=\"1\" class=\"dataframe\">\n",
       "  <thead>\n",
       "    <tr style=\"text-align: right;\">\n",
       "      <th>status_group</th>\n",
       "      <th>functional</th>\n",
       "      <th>functional needs repair</th>\n",
       "      <th>non functional</th>\n",
       "    </tr>\n",
       "    <tr>\n",
       "      <th>waterpoint_type</th>\n",
       "      <th></th>\n",
       "      <th></th>\n",
       "      <th></th>\n",
       "    </tr>\n",
       "  </thead>\n",
       "  <tbody>\n",
       "    <tr>\n",
       "      <td>cattle trough</td>\n",
       "      <td>0.724138</td>\n",
       "      <td>0.017241</td>\n",
       "      <td>0.258621</td>\n",
       "    </tr>\n",
       "    <tr>\n",
       "      <td>communal standpipe</td>\n",
       "      <td>0.621485</td>\n",
       "      <td>0.079237</td>\n",
       "      <td>0.299278</td>\n",
       "    </tr>\n",
       "    <tr>\n",
       "      <td>communal standpipe multiple</td>\n",
       "      <td>0.366213</td>\n",
       "      <td>0.106177</td>\n",
       "      <td>0.527609</td>\n",
       "    </tr>\n",
       "    <tr>\n",
       "      <td>dam</td>\n",
       "      <td>0.857143</td>\n",
       "      <td>0.000000</td>\n",
       "      <td>0.142857</td>\n",
       "    </tr>\n",
       "    <tr>\n",
       "      <td>hand pump</td>\n",
       "      <td>0.617852</td>\n",
       "      <td>0.058840</td>\n",
       "      <td>0.323307</td>\n",
       "    </tr>\n",
       "    <tr>\n",
       "      <td>improved spring</td>\n",
       "      <td>0.718112</td>\n",
       "      <td>0.108418</td>\n",
       "      <td>0.173469</td>\n",
       "    </tr>\n",
       "    <tr>\n",
       "      <td>other</td>\n",
       "      <td>0.131661</td>\n",
       "      <td>0.045925</td>\n",
       "      <td>0.822414</td>\n",
       "    </tr>\n",
       "  </tbody>\n",
       "</table>\n",
       "</div>"
      ],
      "text/plain": [
       "status_group                 functional  functional needs repair  \\\n",
       "waterpoint_type                                                    \n",
       "cattle trough                  0.724138                 0.017241   \n",
       "communal standpipe             0.621485                 0.079237   \n",
       "communal standpipe multiple    0.366213                 0.106177   \n",
       "dam                            0.857143                 0.000000   \n",
       "hand pump                      0.617852                 0.058840   \n",
       "improved spring                0.718112                 0.108418   \n",
       "other                          0.131661                 0.045925   \n",
       "\n",
       "status_group                 non functional  \n",
       "waterpoint_type                              \n",
       "cattle trough                      0.258621  \n",
       "communal standpipe                 0.299278  \n",
       "communal standpipe multiple        0.527609  \n",
       "dam                                0.142857  \n",
       "hand pump                          0.323307  \n",
       "improved spring                    0.173469  \n",
       "other                              0.822414  "
      ]
     },
     "execution_count": 133,
     "metadata": {},
     "output_type": "execute_result"
    }
   ],
   "source": [
    "pd.crosstab(train['waterpoint_type'], train['status_group'], normalize='index')"
   ]
  },
  {
   "cell_type": "markdown",
   "metadata": {},
   "source": [
    "The value 'communal standpipe multiple' matters in terms of its quantity and its effect on the wells' condition.\n",
    "Because of that I am going to drop the columns 'waterpoint_type_group' since it is redundant.\n",
    "\n",
    "In contrast I am going to keep 'wpt_name', because it does not give us the same information"
   ]
  },
  {
   "cell_type": "code",
   "execution_count": 134,
   "metadata": {},
   "outputs": [],
   "source": [
    "# drop column 'waterpoint_type_group'\n",
    "train.drop(['waterpoint_type_group'], axis=1, inplace=True)\n",
    "to_predict.drop(['waterpoint_type_group'], axis=1, inplace=True)"
   ]
  },
  {
   "cell_type": "markdown",
   "metadata": {},
   "source": [
    "### 2.6.5 Basin"
   ]
  },
  {
   "cell_type": "code",
   "execution_count": 135,
   "metadata": {},
   "outputs": [
    {
     "name": "stdout",
     "output_type": "stream",
     "text": [
      "['Lake Nyasa' 'Lake Victoria' 'Pangani' 'Ruvuma / Southern Coast'\n",
      " 'Internal' 'Lake Tanganyika' 'Wami / Ruvu' 'Rufiji' 'Lake Rukwa']\n",
      "9\n"
     ]
    }
   ],
   "source": [
    "print(train['basin'].unique())\n",
    "print(len(train['basin'].unique()))"
   ]
  },
  {
   "cell_type": "code",
   "execution_count": 136,
   "metadata": {},
   "outputs": [
    {
     "data": {
      "text/plain": [
       "Lake Victoria              10248\n",
       "Pangani                     8940\n",
       "Rufiji                      7976\n",
       "Internal                    7785\n",
       "Lake Tanganyika             6432\n",
       "Wami / Ruvu                 5987\n",
       "Lake Nyasa                  5085\n",
       "Ruvuma / Southern Coast     4493\n",
       "Lake Rukwa                  2454\n",
       "Name: basin, dtype: int64"
      ]
     },
     "execution_count": 136,
     "metadata": {},
     "output_type": "execute_result"
    }
   ],
   "source": [
    "train['basin'].value_counts()"
   ]
  },
  {
   "cell_type": "code",
   "execution_count": 137,
   "metadata": {},
   "outputs": [
    {
     "data": {
      "text/plain": [
       "basin\n",
       "Internal                   0.611496\n",
       "Lake Nyasa                 0.678269\n",
       "Lake Rukwa                 0.462510\n",
       "Lake Tanganyika            0.540734\n",
       "Lake Victoria              0.545911\n",
       "Pangani                    0.627573\n",
       "Rufiji                     0.662801\n",
       "Ruvuma / Southern Coast    0.407968\n",
       "Wami / Ruvu                0.546267\n",
       "Name: status_group_numeric, dtype: float64"
      ]
     },
     "execution_count": 137,
     "metadata": {},
     "output_type": "execute_result"
    }
   ],
   "source": [
    "train.groupby('basin')['status_group_numeric'].mean()"
   ]
  },
  {
   "cell_type": "code",
   "execution_count": 138,
   "metadata": {},
   "outputs": [
    {
     "data": {
      "text/html": [
       "<div>\n",
       "<style scoped>\n",
       "    .dataframe tbody tr th:only-of-type {\n",
       "        vertical-align: middle;\n",
       "    }\n",
       "\n",
       "    .dataframe tbody tr th {\n",
       "        vertical-align: top;\n",
       "    }\n",
       "\n",
       "    .dataframe thead th {\n",
       "        text-align: right;\n",
       "    }\n",
       "</style>\n",
       "<table border=\"1\" class=\"dataframe\">\n",
       "  <thead>\n",
       "    <tr style=\"text-align: right;\">\n",
       "      <th>status_group</th>\n",
       "      <th>functional</th>\n",
       "      <th>functional needs repair</th>\n",
       "      <th>non functional</th>\n",
       "    </tr>\n",
       "    <tr>\n",
       "      <th>basin</th>\n",
       "      <th></th>\n",
       "      <th></th>\n",
       "      <th></th>\n",
       "    </tr>\n",
       "  </thead>\n",
       "  <tbody>\n",
       "    <tr>\n",
       "      <td>Internal</td>\n",
       "      <td>0.575723</td>\n",
       "      <td>0.071548</td>\n",
       "      <td>0.352730</td>\n",
       "    </tr>\n",
       "    <tr>\n",
       "      <td>Lake Nyasa</td>\n",
       "      <td>0.653687</td>\n",
       "      <td>0.049164</td>\n",
       "      <td>0.297148</td>\n",
       "    </tr>\n",
       "    <tr>\n",
       "      <td>Lake Rukwa</td>\n",
       "      <td>0.407498</td>\n",
       "      <td>0.110024</td>\n",
       "      <td>0.482478</td>\n",
       "    </tr>\n",
       "    <tr>\n",
       "      <td>Lake Tanganyika</td>\n",
       "      <td>0.483053</td>\n",
       "      <td>0.115361</td>\n",
       "      <td>0.401586</td>\n",
       "    </tr>\n",
       "    <tr>\n",
       "      <td>Lake Victoria</td>\n",
       "      <td>0.497658</td>\n",
       "      <td>0.096507</td>\n",
       "      <td>0.405835</td>\n",
       "    </tr>\n",
       "    <tr>\n",
       "      <td>Pangani</td>\n",
       "      <td>0.600895</td>\n",
       "      <td>0.053356</td>\n",
       "      <td>0.345749</td>\n",
       "    </tr>\n",
       "    <tr>\n",
       "      <td>Rufiji</td>\n",
       "      <td>0.635406</td>\n",
       "      <td>0.054789</td>\n",
       "      <td>0.309804</td>\n",
       "    </tr>\n",
       "    <tr>\n",
       "      <td>Ruvuma / Southern Coast</td>\n",
       "      <td>0.371689</td>\n",
       "      <td>0.072557</td>\n",
       "      <td>0.555753</td>\n",
       "    </tr>\n",
       "    <tr>\n",
       "      <td>Wami / Ruvu</td>\n",
       "      <td>0.523802</td>\n",
       "      <td>0.044931</td>\n",
       "      <td>0.431268</td>\n",
       "    </tr>\n",
       "  </tbody>\n",
       "</table>\n",
       "</div>"
      ],
      "text/plain": [
       "status_group             functional  functional needs repair  non functional\n",
       "basin                                                                       \n",
       "Internal                   0.575723                 0.071548        0.352730\n",
       "Lake Nyasa                 0.653687                 0.049164        0.297148\n",
       "Lake Rukwa                 0.407498                 0.110024        0.482478\n",
       "Lake Tanganyika            0.483053                 0.115361        0.401586\n",
       "Lake Victoria              0.497658                 0.096507        0.405835\n",
       "Pangani                    0.600895                 0.053356        0.345749\n",
       "Rufiji                     0.635406                 0.054789        0.309804\n",
       "Ruvuma / Southern Coast    0.371689                 0.072557        0.555753\n",
       "Wami / Ruvu                0.523802                 0.044931        0.431268"
      ]
     },
     "execution_count": 138,
     "metadata": {},
     "output_type": "execute_result"
    }
   ],
   "source": [
    "pd.crosstab(train['basin'], train['status_group'], normalize='index')"
   ]
  },
  {
   "cell_type": "markdown",
   "metadata": {},
   "source": [
    "### 2.6.6 Total static head"
   ]
  },
  {
   "cell_type": "code",
   "execution_count": 139,
   "metadata": {},
   "outputs": [
    {
     "data": {
      "text/html": [
       "<div>\n",
       "<style scoped>\n",
       "    .dataframe tbody tr th:only-of-type {\n",
       "        vertical-align: middle;\n",
       "    }\n",
       "\n",
       "    .dataframe tbody tr th {\n",
       "        vertical-align: top;\n",
       "    }\n",
       "\n",
       "    .dataframe thead th {\n",
       "        text-align: right;\n",
       "    }\n",
       "</style>\n",
       "<table border=\"1\" class=\"dataframe\">\n",
       "  <thead>\n",
       "    <tr style=\"text-align: right;\">\n",
       "      <th></th>\n",
       "      <th>count</th>\n",
       "      <th>mean</th>\n",
       "      <th>std</th>\n",
       "      <th>min</th>\n",
       "      <th>25%</th>\n",
       "      <th>50%</th>\n",
       "      <th>75%</th>\n",
       "      <th>max</th>\n",
       "    </tr>\n",
       "    <tr>\n",
       "      <th>status_group</th>\n",
       "      <th></th>\n",
       "      <th></th>\n",
       "      <th></th>\n",
       "      <th></th>\n",
       "      <th></th>\n",
       "      <th></th>\n",
       "      <th></th>\n",
       "      <th></th>\n",
       "    </tr>\n",
       "  </thead>\n",
       "  <tbody>\n",
       "    <tr>\n",
       "      <td>functional</td>\n",
       "      <td>32259.0</td>\n",
       "      <td>461.798235</td>\n",
       "      <td>3889.735284</td>\n",
       "      <td>0.0</td>\n",
       "      <td>0.0</td>\n",
       "      <td>0.0</td>\n",
       "      <td>50.0</td>\n",
       "      <td>350000.0</td>\n",
       "    </tr>\n",
       "    <tr>\n",
       "      <td>functional needs repair</td>\n",
       "      <td>4317.0</td>\n",
       "      <td>267.071577</td>\n",
       "      <td>1925.026420</td>\n",
       "      <td>0.0</td>\n",
       "      <td>0.0</td>\n",
       "      <td>0.0</td>\n",
       "      <td>50.0</td>\n",
       "      <td>100000.0</td>\n",
       "    </tr>\n",
       "    <tr>\n",
       "      <td>non functional</td>\n",
       "      <td>22824.0</td>\n",
       "      <td>123.481230</td>\n",
       "      <td>1110.120571</td>\n",
       "      <td>0.0</td>\n",
       "      <td>0.0</td>\n",
       "      <td>0.0</td>\n",
       "      <td>0.0</td>\n",
       "      <td>117000.0</td>\n",
       "    </tr>\n",
       "  </tbody>\n",
       "</table>\n",
       "</div>"
      ],
      "text/plain": [
       "                           count        mean          std  min  25%  50%  \\\n",
       "status_group                                                               \n",
       "functional               32259.0  461.798235  3889.735284  0.0  0.0  0.0   \n",
       "functional needs repair   4317.0  267.071577  1925.026420  0.0  0.0  0.0   \n",
       "non functional           22824.0  123.481230  1110.120571  0.0  0.0  0.0   \n",
       "\n",
       "                          75%       max  \n",
       "status_group                             \n",
       "functional               50.0  350000.0  \n",
       "functional needs repair  50.0  100000.0  \n",
       "non functional            0.0  117000.0  "
      ]
     },
     "execution_count": 139,
     "metadata": {},
     "output_type": "execute_result"
    }
   ],
   "source": [
    "train.groupby('status_group')['amount_tsh'].describe()"
   ]
  },
  {
   "cell_type": "code",
   "execution_count": 140,
   "metadata": {},
   "outputs": [
    {
     "data": {
      "text/plain": [
       "count     59400.000000\n",
       "mean        317.650385\n",
       "std        2997.574558\n",
       "min           0.000000\n",
       "25%           0.000000\n",
       "50%           0.000000\n",
       "75%          20.000000\n",
       "max      350000.000000\n",
       "Name: amount_tsh, dtype: float64"
      ]
     },
     "execution_count": 140,
     "metadata": {},
     "output_type": "execute_result"
    }
   ],
   "source": [
    "train['amount_tsh'].describe()"
   ]
  },
  {
   "cell_type": "code",
   "execution_count": 141,
   "metadata": {},
   "outputs": [
    {
     "name": "stdout",
     "output_type": "stream",
     "text": [
      "41639\n",
      "59400\n"
     ]
    }
   ],
   "source": [
    "print(len(train[train['amount_tsh'] == 0]))\n",
    "print(len(train))"
   ]
  },
  {
   "cell_type": "markdown",
   "metadata": {},
   "source": [
    "# 3. Data cleansing: missing values"
   ]
  },
  {
   "cell_type": "markdown",
   "metadata": {},
   "source": [
    "To handle missing values I am first going to concatenate the two dataframes (training data and data I need to predict) such that the methods for filling missing values work consistently."
   ]
  },
  {
   "cell_type": "code",
   "execution_count": 142,
   "metadata": {},
   "outputs": [],
   "source": [
    "# include columns of target variable\n",
    "to_predict['status_group'] = np.nan\n",
    "to_predict['status_group_numeric'] =  np.nan\n",
    "\n",
    "# make sure the order of the columns of the two dataframes are the same\n",
    "to_predict = to_predict[list(train.columns)]"
   ]
  },
  {
   "cell_type": "code",
   "execution_count": 143,
   "metadata": {},
   "outputs": [
    {
     "data": {
      "text/html": [
       "<div>\n",
       "<style scoped>\n",
       "    .dataframe tbody tr th:only-of-type {\n",
       "        vertical-align: middle;\n",
       "    }\n",
       "\n",
       "    .dataframe tbody tr th {\n",
       "        vertical-align: top;\n",
       "    }\n",
       "\n",
       "    .dataframe thead th {\n",
       "        text-align: right;\n",
       "    }\n",
       "</style>\n",
       "<table border=\"1\" class=\"dataframe\">\n",
       "  <thead>\n",
       "    <tr style=\"text-align: right;\">\n",
       "      <th></th>\n",
       "      <th>id</th>\n",
       "      <th>amount_tsh</th>\n",
       "      <th>date_recorded</th>\n",
       "      <th>funder</th>\n",
       "      <th>gps_height</th>\n",
       "      <th>installer</th>\n",
       "      <th>longitude</th>\n",
       "      <th>latitude</th>\n",
       "      <th>wpt_name</th>\n",
       "      <th>basin</th>\n",
       "      <th>...</th>\n",
       "      <th>payment_type</th>\n",
       "      <th>quality_group</th>\n",
       "      <th>quantity_group</th>\n",
       "      <th>source</th>\n",
       "      <th>waterpoint_type</th>\n",
       "      <th>status_group</th>\n",
       "      <th>geometry</th>\n",
       "      <th>status_group_numeric</th>\n",
       "      <th>month_recorded</th>\n",
       "      <th>waterpoint_age</th>\n",
       "    </tr>\n",
       "  </thead>\n",
       "  <tbody>\n",
       "    <tr>\n",
       "      <td>59399</td>\n",
       "      <td>26348</td>\n",
       "      <td>0.0</td>\n",
       "      <td>2011-03-23</td>\n",
       "      <td>WORLD BANK</td>\n",
       "      <td>191</td>\n",
       "      <td>WORLD</td>\n",
       "      <td>38.104048</td>\n",
       "      <td>-6.747464</td>\n",
       "      <td>Kwa Mzee Lugawa</td>\n",
       "      <td>Wami / Ruvu</td>\n",
       "      <td>...</td>\n",
       "      <td>on failure</td>\n",
       "      <td>salty</td>\n",
       "      <td>enough</td>\n",
       "      <td>shallow well</td>\n",
       "      <td>hand pump</td>\n",
       "      <td>functional</td>\n",
       "      <td>POINT (38.10405 -6.74746)</td>\n",
       "      <td>1.0</td>\n",
       "      <td>3</td>\n",
       "      <td>18.0</td>\n",
       "    </tr>\n",
       "  </tbody>\n",
       "</table>\n",
       "<p>1 rows × 32 columns</p>\n",
       "</div>"
      ],
      "text/plain": [
       "          id  amount_tsh date_recorded      funder  gps_height installer  \\\n",
       "59399  26348         0.0    2011-03-23  WORLD BANK         191     WORLD   \n",
       "\n",
       "       longitude  latitude         wpt_name        basin  ... payment_type  \\\n",
       "59399  38.104048 -6.747464  Kwa Mzee Lugawa  Wami / Ruvu  ...   on failure   \n",
       "\n",
       "       quality_group quantity_group        source  waterpoint_type  \\\n",
       "59399          salty         enough  shallow well        hand pump   \n",
       "\n",
       "       status_group                   geometry  status_group_numeric  \\\n",
       "59399    functional  POINT (38.10405 -6.74746)                   1.0   \n",
       "\n",
       "       month_recorded waterpoint_age  \n",
       "59399               3           18.0  \n",
       "\n",
       "[1 rows x 32 columns]"
      ]
     },
     "execution_count": 143,
     "metadata": {},
     "output_type": "execute_result"
    }
   ],
   "source": [
    "# to remember where to split the dataframe later on again\n",
    "train.tail(1)"
   ]
  },
  {
   "cell_type": "code",
   "execution_count": 144,
   "metadata": {},
   "outputs": [],
   "source": [
    "# concatenate dataframes\n",
    "train = pd.concat([train, to_predict], ignore_index=True)"
   ]
  },
  {
   "cell_type": "code",
   "execution_count": 145,
   "metadata": {},
   "outputs": [
    {
     "data": {
      "text/html": [
       "<div>\n",
       "<style scoped>\n",
       "    .dataframe tbody tr th:only-of-type {\n",
       "        vertical-align: middle;\n",
       "    }\n",
       "\n",
       "    .dataframe tbody tr th {\n",
       "        vertical-align: top;\n",
       "    }\n",
       "\n",
       "    .dataframe thead th {\n",
       "        text-align: right;\n",
       "    }\n",
       "</style>\n",
       "<table border=\"1\" class=\"dataframe\">\n",
       "  <thead>\n",
       "    <tr style=\"text-align: right;\">\n",
       "      <th></th>\n",
       "      <th>id</th>\n",
       "      <th>amount_tsh</th>\n",
       "      <th>date_recorded</th>\n",
       "      <th>funder</th>\n",
       "      <th>gps_height</th>\n",
       "      <th>installer</th>\n",
       "      <th>longitude</th>\n",
       "      <th>latitude</th>\n",
       "      <th>wpt_name</th>\n",
       "      <th>basin</th>\n",
       "      <th>...</th>\n",
       "      <th>payment_type</th>\n",
       "      <th>quality_group</th>\n",
       "      <th>quantity_group</th>\n",
       "      <th>source</th>\n",
       "      <th>waterpoint_type</th>\n",
       "      <th>status_group</th>\n",
       "      <th>geometry</th>\n",
       "      <th>status_group_numeric</th>\n",
       "      <th>month_recorded</th>\n",
       "      <th>waterpoint_age</th>\n",
       "    </tr>\n",
       "  </thead>\n",
       "  <tbody>\n",
       "    <tr>\n",
       "      <td>74247</td>\n",
       "      <td>28749</td>\n",
       "      <td>0.0</td>\n",
       "      <td>2013-03-04</td>\n",
       "      <td>NaN</td>\n",
       "      <td>1476</td>\n",
       "      <td>NaN</td>\n",
       "      <td>34.739804</td>\n",
       "      <td>-4.585587</td>\n",
       "      <td>Bwawani</td>\n",
       "      <td>Internal</td>\n",
       "      <td>...</td>\n",
       "      <td>never pay</td>\n",
       "      <td>good</td>\n",
       "      <td>insufficient</td>\n",
       "      <td>dam</td>\n",
       "      <td>communal standpipe</td>\n",
       "      <td>NaN</td>\n",
       "      <td>POINT (34.73980 -4.58559)</td>\n",
       "      <td>NaN</td>\n",
       "      <td>3</td>\n",
       "      <td>10.0</td>\n",
       "    </tr>\n",
       "    <tr>\n",
       "      <td>74248</td>\n",
       "      <td>33492</td>\n",
       "      <td>0.0</td>\n",
       "      <td>2013-02-18</td>\n",
       "      <td>GERMANY</td>\n",
       "      <td>998</td>\n",
       "      <td>DWE</td>\n",
       "      <td>35.432732</td>\n",
       "      <td>-10.584159</td>\n",
       "      <td>Kwa John</td>\n",
       "      <td>Lake Nyasa</td>\n",
       "      <td>...</td>\n",
       "      <td>never pay</td>\n",
       "      <td>good</td>\n",
       "      <td>insufficient</td>\n",
       "      <td>river</td>\n",
       "      <td>communal standpipe</td>\n",
       "      <td>NaN</td>\n",
       "      <td>POINT (35.43273 -10.58416)</td>\n",
       "      <td>NaN</td>\n",
       "      <td>2</td>\n",
       "      <td>11.0</td>\n",
       "    </tr>\n",
       "    <tr>\n",
       "      <td>74249</td>\n",
       "      <td>68707</td>\n",
       "      <td>0.0</td>\n",
       "      <td>2013-02-13</td>\n",
       "      <td>GOVERNMENT OF TANZANIA</td>\n",
       "      <td>481</td>\n",
       "      <td>GOVERNMENT</td>\n",
       "      <td>34.765054</td>\n",
       "      <td>-11.226012</td>\n",
       "      <td>Kwa Mzee Chagala</td>\n",
       "      <td>Lake Nyasa</td>\n",
       "      <td>...</td>\n",
       "      <td>never pay</td>\n",
       "      <td>good</td>\n",
       "      <td>dry</td>\n",
       "      <td>spring</td>\n",
       "      <td>communal standpipe</td>\n",
       "      <td>NaN</td>\n",
       "      <td>POINT (34.76505 -11.22601)</td>\n",
       "      <td>NaN</td>\n",
       "      <td>2</td>\n",
       "      <td>12.0</td>\n",
       "    </tr>\n",
       "  </tbody>\n",
       "</table>\n",
       "<p>3 rows × 32 columns</p>\n",
       "</div>"
      ],
      "text/plain": [
       "          id  amount_tsh date_recorded                  funder  gps_height  \\\n",
       "74247  28749         0.0    2013-03-04                     NaN        1476   \n",
       "74248  33492         0.0    2013-02-18                 GERMANY         998   \n",
       "74249  68707         0.0    2013-02-13  GOVERNMENT OF TANZANIA         481   \n",
       "\n",
       "        installer  longitude   latitude          wpt_name       basin  ...  \\\n",
       "74247         NaN  34.739804  -4.585587           Bwawani    Internal  ...   \n",
       "74248         DWE  35.432732 -10.584159          Kwa John  Lake Nyasa  ...   \n",
       "74249  GOVERNMENT  34.765054 -11.226012  Kwa Mzee Chagala  Lake Nyasa  ...   \n",
       "\n",
       "      payment_type  quality_group quantity_group  source     waterpoint_type  \\\n",
       "74247    never pay           good   insufficient     dam  communal standpipe   \n",
       "74248    never pay           good   insufficient   river  communal standpipe   \n",
       "74249    never pay           good            dry  spring  communal standpipe   \n",
       "\n",
       "       status_group                    geometry  status_group_numeric  \\\n",
       "74247           NaN   POINT (34.73980 -4.58559)                   NaN   \n",
       "74248           NaN  POINT (35.43273 -10.58416)                   NaN   \n",
       "74249           NaN  POINT (34.76505 -11.22601)                   NaN   \n",
       "\n",
       "       month_recorded waterpoint_age  \n",
       "74247               3           10.0  \n",
       "74248               2           11.0  \n",
       "74249               2           12.0  \n",
       "\n",
       "[3 rows x 32 columns]"
      ]
     },
     "execution_count": 145,
     "metadata": {},
     "output_type": "execute_result"
    }
   ],
   "source": [
    "train.tail(3)"
   ]
  },
  {
   "cell_type": "code",
   "execution_count": 146,
   "metadata": {},
   "outputs": [
    {
     "name": "stdout",
     "output_type": "stream",
     "text": [
      "<class 'geopandas.geodataframe.GeoDataFrame'>\n",
      "RangeIndex: 74250 entries, 0 to 74249\n",
      "Data columns (total 32 columns):\n",
      "id                       74250 non-null int64\n",
      "amount_tsh               74250 non-null float64\n",
      "date_recorded            74250 non-null datetime64[ns]\n",
      "funder                   69746 non-null object\n",
      "gps_height               74250 non-null int64\n",
      "installer                69718 non-null object\n",
      "longitude                74250 non-null float64\n",
      "latitude                 74250 non-null float64\n",
      "wpt_name                 74250 non-null object\n",
      "basin                    74250 non-null object\n",
      "subvillage               73780 non-null object\n",
      "region_code              74250 non-null int64\n",
      "lga                      74250 non-null object\n",
      "ward                     74250 non-null object\n",
      "population               74250 non-null int64\n",
      "public_meeting           70095 non-null float64\n",
      "scheme_name              38992 non-null object\n",
      "permit                   70457 non-null float64\n",
      "construction_year        48281 non-null float64\n",
      "extraction_type_group    74250 non-null object\n",
      "management               74250 non-null object\n",
      "management_group         74250 non-null object\n",
      "payment_type             74250 non-null object\n",
      "quality_group            74250 non-null object\n",
      "quantity_group           74250 non-null object\n",
      "source                   74250 non-null object\n",
      "waterpoint_type          74250 non-null object\n",
      "status_group             59400 non-null object\n",
      "geometry                 74250 non-null geometry\n",
      "status_group_numeric     59400 non-null float64\n",
      "month_recorded           74250 non-null int64\n",
      "waterpoint_age           48281 non-null float64\n",
      "dtypes: datetime64[ns](1), float64(8), geometry(1), int64(5), object(17)\n",
      "memory usage: 18.1+ MB\n"
     ]
    }
   ],
   "source": [
    "train.info()"
   ]
  },
  {
   "cell_type": "markdown",
   "metadata": {},
   "source": [
    "### 3.1 'public_meeting'"
   ]
  },
  {
   "cell_type": "code",
   "execution_count": 147,
   "metadata": {},
   "outputs": [
    {
     "data": {
      "text/plain": [
       "public_meeting\n",
       "0.0    0.473591\n",
       "1.0    0.593352\n",
       "Name: status_group_numeric, dtype: float64"
      ]
     },
     "execution_count": 147,
     "metadata": {},
     "output_type": "execute_result"
    }
   ],
   "source": [
    "train.groupby('public_meeting')['status_group_numeric'].mean()"
   ]
  },
  {
   "cell_type": "code",
   "execution_count": 148,
   "metadata": {},
   "outputs": [
    {
     "data": {
      "text/plain": [
       "0.5266946610677864"
      ]
     },
     "execution_count": 148,
     "metadata": {},
     "output_type": "execute_result"
    }
   ],
   "source": [
    "# exploratory analysis on the role of missing features in 'public_meeting'\n",
    "train[train['public_meeting'].isnull()]['status_group_numeric'].mean()"
   ]
  },
  {
   "cell_type": "markdown",
   "metadata": {},
   "source": [
    "In our exploratory analysis on 'public_meeting' we could see the \"means\" of status_group for observations where 'public_meeting' is true or not.\n",
    "The mean of the observations with missing values for 'public_meeting' is closer to the mean where there are no public meetings.\n",
    "Because of that I am going to replace the missing values with 0s."
   ]
  },
  {
   "cell_type": "code",
   "execution_count": 149,
   "metadata": {},
   "outputs": [],
   "source": [
    "# impute missing values\n",
    "train['public_meeting'].fillna(0, inplace=True)"
   ]
  },
  {
   "cell_type": "markdown",
   "metadata": {},
   "source": [
    "### 3.2 'permit'"
   ]
  },
  {
   "cell_type": "code",
   "execution_count": 150,
   "metadata": {},
   "outputs": [
    {
     "data": {
      "text/plain": [
       "permit\n",
       "0.0    0.554825\n",
       "1.0    0.589146\n",
       "Name: status_group_numeric, dtype: float64"
      ]
     },
     "execution_count": 150,
     "metadata": {},
     "output_type": "execute_result"
    }
   ],
   "source": [
    "train.groupby('permit')['status_group_numeric'].mean()"
   ]
  },
  {
   "cell_type": "code",
   "execution_count": 151,
   "metadata": {},
   "outputs": [
    {
     "data": {
      "text/plain": [
       "0.5965314136125655"
      ]
     },
     "execution_count": 151,
     "metadata": {},
     "output_type": "execute_result"
    }
   ],
   "source": [
    "train[train['permit'].isnull()]['status_group_numeric'].mean()"
   ]
  },
  {
   "cell_type": "markdown",
   "metadata": {},
   "source": [
    "If we proceeded like in 3.1 we would now impute the missing values with 1s.\n",
    "However there are two issuses with this approach here:\n",
    "1. The difference between permitted and non permitted wells is not that great.\n",
    "2. From a practical point of view it is not reasonable to assume that those wells are officially permitted when there are missing values.\n",
    "\n",
    "As a trade-off between what the data tells us (choose 1) and what makes sense from a practical point of view (choose 0) I am going to impute the missing values using the groupby method with the mode."
   ]
  },
  {
   "cell_type": "code",
   "execution_count": 152,
   "metadata": {},
   "outputs": [
    {
     "data": {
      "text/plain": [
       "region_code\n",
       "1     0.450162\n",
       "2     0.900570\n",
       "3     0.897446\n",
       "4     0.537361\n",
       "5     0.989565\n",
       "6     0.669783\n",
       "7     0.000000\n",
       "8     0.064000\n",
       "9     0.813627\n",
       "10    0.682410\n",
       "11    0.601211\n",
       "12    0.601416\n",
       "13    0.719941\n",
       "14    0.676447\n",
       "15    0.645406\n",
       "16    0.584772\n",
       "17    0.469214\n",
       "18    0.755678\n",
       "19    0.975418\n",
       "20    0.630303\n",
       "21    0.948783\n",
       "24    1.000000\n",
       "40    0.000000\n",
       "60    0.444530\n",
       "80    0.650391\n",
       "90    0.641659\n",
       "99    0.986328\n",
       "Name: permit, dtype: float64"
      ]
     },
     "execution_count": 152,
     "metadata": {},
     "output_type": "execute_result"
    }
   ],
   "source": [
    "# 'region_code': first feature for grouping\n",
    "train.groupby('region_code')['permit'].mean()"
   ]
  },
  {
   "cell_type": "code",
   "execution_count": 153,
   "metadata": {},
   "outputs": [
    {
     "data": {
      "text/plain": [
       "management_group\n",
       "commercial    0.718729\n",
       "other         0.777675\n",
       "parastatal    0.590343\n",
       "unknown       0.668254\n",
       "user-group    0.689742\n",
       "Name: permit, dtype: float64"
      ]
     },
     "execution_count": 153,
     "metadata": {},
     "output_type": "execute_result"
    }
   ],
   "source": [
    "# 'management_group': second feature for grouping\n",
    "train.groupby('management_group')['permit'].mean()"
   ]
  },
  {
   "cell_type": "markdown",
   "metadata": {},
   "source": [
    "The two features 'region_code' and 'management_group' are good ones to apply the groupby method on since they give us reasonbale insights on the one hand but do not have too many values to use groupby with mode."
   ]
  },
  {
   "cell_type": "code",
   "execution_count": 154,
   "metadata": {},
   "outputs": [],
   "source": [
    "# impute missing values using groups and mode\n",
    "train['permit'] = train.groupby(['region_code', 'management_group'])['permit'].apply(lambda x: x.fillna(x.mode()[0]))"
   ]
  },
  {
   "cell_type": "code",
   "execution_count": 155,
   "metadata": {},
   "outputs": [
    {
     "data": {
      "text/plain": [
       "permit\n",
       "0.0    0.555183\n",
       "1.0    0.589613\n",
       "Name: status_group_numeric, dtype: float64"
      ]
     },
     "execution_count": 155,
     "metadata": {},
     "output_type": "execute_result"
    }
   ],
   "source": [
    "train.groupby('permit')['status_group_numeric'].mean()\n",
    "# only sligth changes in the distribution"
   ]
  },
  {
   "cell_type": "markdown",
   "metadata": {},
   "source": [
    "### 3.3 'waterpoint_age' / 'construction_year'"
   ]
  },
  {
   "cell_type": "code",
   "execution_count": 156,
   "metadata": {},
   "outputs": [
    {
     "data": {
      "text/plain": [
       "extraction_type_group\n",
       "afridev            18.0\n",
       "gravity            24.0\n",
       "india mark ii      19.0\n",
       "india mark iii     16.0\n",
       "mono               27.0\n",
       "nira/tanira        20.0\n",
       "other              27.0\n",
       "other handpump     19.0\n",
       "other motorpump     9.0\n",
       "rope pump          14.0\n",
       "submersible        21.0\n",
       "swn 80             23.0\n",
       "wind-powered       24.0\n",
       "Name: waterpoint_age, dtype: float64"
      ]
     },
     "execution_count": 156,
     "metadata": {},
     "output_type": "execute_result"
    }
   ],
   "source": [
    "train.groupby('extraction_type_group')['waterpoint_age'].mean().round(0)"
   ]
  },
  {
   "cell_type": "markdown",
   "metadata": {},
   "source": [
    "The feature 'extraction_type_group' is very good to use groupby on and calculate the mean age because it refers to different kinds of technologies.\n",
    "Technologies and innovations are always correlated with temporal aspects and to the age respectively."
   ]
  },
  {
   "cell_type": "code",
   "execution_count": 157,
   "metadata": {},
   "outputs": [],
   "source": [
    "# impute missing values for age\n",
    "train['waterpoint_age'] = train['waterpoint_age'].fillna(train.groupby('extraction_type_group')['waterpoint_age'].transform('mean').round(0))\n",
    "\n",
    "# impute values for construction year\n",
    "train['construction_year'] = train['construction_year'].fillna(current_year - train['waterpoint_age'])"
   ]
  },
  {
   "cell_type": "markdown",
   "metadata": {},
   "source": [
    "### 3.4 'funder' and 'installer'"
   ]
  },
  {
   "cell_type": "markdown",
   "metadata": {},
   "source": [
    "For the features 'funder' and 'installer' I am going to use the groupby method on 'region_code' and 'permit' and use the mode of the respective feature.\n",
    "This is by far not the best solution but one of the few ones which is computationally feasible and still makes some sense."
   ]
  },
  {
   "cell_type": "code",
   "execution_count": 158,
   "metadata": {},
   "outputs": [
    {
     "data": {
      "text/plain": [
       "Index(['id', 'amount_tsh', 'date_recorded', 'funder', 'gps_height',\n",
       "       'installer', 'longitude', 'latitude', 'wpt_name', 'basin', 'subvillage',\n",
       "       'region_code', 'lga', 'ward', 'population', 'public_meeting',\n",
       "       'scheme_name', 'permit', 'construction_year', 'extraction_type_group',\n",
       "       'management', 'management_group', 'payment_type', 'quality_group',\n",
       "       'quantity_group', 'source', 'waterpoint_type', 'status_group',\n",
       "       'geometry', 'status_group_numeric', 'month_recorded', 'waterpoint_age'],\n",
       "      dtype='object')"
      ]
     },
     "execution_count": 158,
     "metadata": {},
     "output_type": "execute_result"
    }
   ],
   "source": [
    "train.columns"
   ]
  },
  {
   "cell_type": "code",
   "execution_count": 159,
   "metadata": {},
   "outputs": [],
   "source": [
    "# impute missing values for 'funder'\n",
    "train['funder'] = train.groupby(['region_code', 'permit'])['funder'].apply(lambda x: x.fillna(x.mode()[0]))\n",
    "\n",
    "# impute missing values for 'installer'\n",
    "train['installer'] = train.groupby(['region_code', 'permit'])['installer'].apply(lambda x: x.fillna(x.mode()[0]))"
   ]
  },
  {
   "cell_type": "markdown",
   "metadata": {},
   "source": [
    "### 3.5 'subvillage' and 'scheme_name'"
   ]
  },
  {
   "cell_type": "markdown",
   "metadata": {},
   "source": [
    "There are also missing values in 'subvillage' and 'scheme_name'.\n",
    "However I am not going to deal with these for the following reasons:\n",
    "\n",
    "1. In 'scheme_name' there are simply to many different categorical values and too many missing values. So an imputation of the missing values would be quite hard. Also I am not going to use this feature for the ML model.\n",
    "2. Almost the same goes for 'subvillage'. The only difference here is that there are not many missing values at all."
   ]
  },
  {
   "cell_type": "code",
   "execution_count": 160,
   "metadata": {},
   "outputs": [
    {
     "name": "stdout",
     "output_type": "stream",
     "text": [
      "<class 'geopandas.geodataframe.GeoDataFrame'>\n",
      "RangeIndex: 74250 entries, 0 to 74249\n",
      "Data columns (total 32 columns):\n",
      "id                       74250 non-null int64\n",
      "amount_tsh               74250 non-null float64\n",
      "date_recorded            74250 non-null datetime64[ns]\n",
      "funder                   74250 non-null object\n",
      "gps_height               74250 non-null int64\n",
      "installer                74250 non-null object\n",
      "longitude                74250 non-null float64\n",
      "latitude                 74250 non-null float64\n",
      "wpt_name                 74250 non-null object\n",
      "basin                    74250 non-null object\n",
      "subvillage               73780 non-null object\n",
      "region_code              74250 non-null int64\n",
      "lga                      74250 non-null object\n",
      "ward                     74250 non-null object\n",
      "population               74250 non-null int64\n",
      "public_meeting           74250 non-null float64\n",
      "scheme_name              38992 non-null object\n",
      "permit                   74250 non-null float64\n",
      "construction_year        74250 non-null float64\n",
      "extraction_type_group    74250 non-null object\n",
      "management               74250 non-null object\n",
      "management_group         74250 non-null object\n",
      "payment_type             74250 non-null object\n",
      "quality_group            74250 non-null object\n",
      "quantity_group           74250 non-null object\n",
      "source                   74250 non-null object\n",
      "waterpoint_type          74250 non-null object\n",
      "status_group             59400 non-null object\n",
      "geometry                 74250 non-null geometry\n",
      "status_group_numeric     59400 non-null float64\n",
      "month_recorded           74250 non-null int64\n",
      "waterpoint_age           74250 non-null float64\n",
      "dtypes: datetime64[ns](1), float64(8), geometry(1), int64(5), object(17)\n",
      "memory usage: 18.1+ MB\n"
     ]
    }
   ],
   "source": [
    "train.info()"
   ]
  },
  {
   "cell_type": "markdown",
   "metadata": {},
   "source": [
    "# 4. Feature engineering"
   ]
  },
  {
   "cell_type": "markdown",
   "metadata": {},
   "source": [
    "In section 2 I already performed EDA and explained which features I consider to be relevant.\n",
    "For the categorical features I am now going to calculate indices ranging from 0 to 1 indicating the average quality of the wells with the corresponding values for that feature."
   ]
  },
  {
   "cell_type": "markdown",
   "metadata": {},
   "source": [
    "### 4.1 Installer"
   ]
  },
  {
   "cell_type": "code",
   "execution_count": 161,
   "metadata": {},
   "outputs": [],
   "source": [
    "# calculate installer_index\n",
    "df_installer = pd.DataFrame(train.groupby('installer')['status_group_numeric'].mean().reset_index())\n",
    "df_installer.rename(columns={'status_group_numeric': 'installer_index'}, inplace=True)"
   ]
  },
  {
   "cell_type": "code",
   "execution_count": 162,
   "metadata": {},
   "outputs": [
    {
     "data": {
      "text/html": [
       "<div>\n",
       "<style scoped>\n",
       "    .dataframe tbody tr th:only-of-type {\n",
       "        vertical-align: middle;\n",
       "    }\n",
       "\n",
       "    .dataframe tbody tr th {\n",
       "        vertical-align: top;\n",
       "    }\n",
       "\n",
       "    .dataframe thead th {\n",
       "        text-align: right;\n",
       "    }\n",
       "</style>\n",
       "<table border=\"1\" class=\"dataframe\">\n",
       "  <thead>\n",
       "    <tr style=\"text-align: right;\">\n",
       "      <th></th>\n",
       "      <th>installer</th>\n",
       "      <th>installer_index</th>\n",
       "    </tr>\n",
       "  </thead>\n",
       "  <tbody>\n",
       "    <tr>\n",
       "      <td>0</td>\n",
       "      <td>-</td>\n",
       "      <td>0.666667</td>\n",
       "    </tr>\n",
       "    <tr>\n",
       "      <td>1</td>\n",
       "      <td>0</td>\n",
       "      <td>0.574534</td>\n",
       "    </tr>\n",
       "    <tr>\n",
       "      <td>2</td>\n",
       "      <td>A.D.B</td>\n",
       "      <td>0.500000</td>\n",
       "    </tr>\n",
       "  </tbody>\n",
       "</table>\n",
       "</div>"
      ],
      "text/plain": [
       "  installer  installer_index\n",
       "0         -         0.666667\n",
       "1         0         0.574534\n",
       "2     A.D.B         0.500000"
      ]
     },
     "execution_count": 162,
     "metadata": {},
     "output_type": "execute_result"
    }
   ],
   "source": [
    "# quick look at the dataframe\n",
    "df_installer.head(3)"
   ]
  },
  {
   "cell_type": "code",
   "execution_count": 163,
   "metadata": {},
   "outputs": [],
   "source": [
    "# merge installer_index on data\n",
    "train = train.merge(df_installer, how='left', on='installer')"
   ]
  },
  {
   "cell_type": "markdown",
   "metadata": {},
   "source": [
    "### 4.2 Basin"
   ]
  },
  {
   "cell_type": "code",
   "execution_count": 164,
   "metadata": {},
   "outputs": [],
   "source": [
    "# calculate basin index\n",
    "df_basin = pd.DataFrame(train.groupby('basin')['status_group_numeric'].mean().reset_index())\n",
    "df_basin.rename(columns={'status_group_numeric': 'basin_index'}, inplace=True)"
   ]
  },
  {
   "cell_type": "code",
   "execution_count": 165,
   "metadata": {},
   "outputs": [
    {
     "data": {
      "text/html": [
       "<div>\n",
       "<style scoped>\n",
       "    .dataframe tbody tr th:only-of-type {\n",
       "        vertical-align: middle;\n",
       "    }\n",
       "\n",
       "    .dataframe tbody tr th {\n",
       "        vertical-align: top;\n",
       "    }\n",
       "\n",
       "    .dataframe thead th {\n",
       "        text-align: right;\n",
       "    }\n",
       "</style>\n",
       "<table border=\"1\" class=\"dataframe\">\n",
       "  <thead>\n",
       "    <tr style=\"text-align: right;\">\n",
       "      <th></th>\n",
       "      <th>basin</th>\n",
       "      <th>basin_index</th>\n",
       "    </tr>\n",
       "  </thead>\n",
       "  <tbody>\n",
       "    <tr>\n",
       "      <td>0</td>\n",
       "      <td>Internal</td>\n",
       "      <td>0.611496</td>\n",
       "    </tr>\n",
       "    <tr>\n",
       "      <td>1</td>\n",
       "      <td>Lake Nyasa</td>\n",
       "      <td>0.678269</td>\n",
       "    </tr>\n",
       "    <tr>\n",
       "      <td>2</td>\n",
       "      <td>Lake Rukwa</td>\n",
       "      <td>0.462510</td>\n",
       "    </tr>\n",
       "  </tbody>\n",
       "</table>\n",
       "</div>"
      ],
      "text/plain": [
       "        basin  basin_index\n",
       "0    Internal     0.611496\n",
       "1  Lake Nyasa     0.678269\n",
       "2  Lake Rukwa     0.462510"
      ]
     },
     "execution_count": 165,
     "metadata": {},
     "output_type": "execute_result"
    }
   ],
   "source": [
    "# quick look \n",
    "df_basin.head(3)"
   ]
  },
  {
   "cell_type": "code",
   "execution_count": 166,
   "metadata": {},
   "outputs": [],
   "source": [
    "# merge basin_index on data\n",
    "train = train.merge(df_basin, how='left', on='basin')"
   ]
  },
  {
   "cell_type": "markdown",
   "metadata": {},
   "source": [
    "### 4.3 region_code"
   ]
  },
  {
   "cell_type": "code",
   "execution_count": 167,
   "metadata": {},
   "outputs": [],
   "source": [
    "# calculate region index\n",
    "df_region = pd.DataFrame(train.groupby('region_code')['status_group_numeric'].mean().reset_index())\n",
    "df_region.rename(columns={'status_group_numeric': 'region_index'}, inplace=True)"
   ]
  },
  {
   "cell_type": "code",
   "execution_count": 168,
   "metadata": {},
   "outputs": [
    {
     "data": {
      "text/html": [
       "<div>\n",
       "<style scoped>\n",
       "    .dataframe tbody tr th:only-of-type {\n",
       "        vertical-align: middle;\n",
       "    }\n",
       "\n",
       "    .dataframe tbody tr th {\n",
       "        vertical-align: top;\n",
       "    }\n",
       "\n",
       "    .dataframe thead th {\n",
       "        text-align: right;\n",
       "    }\n",
       "</style>\n",
       "<table border=\"1\" class=\"dataframe\">\n",
       "  <thead>\n",
       "    <tr style=\"text-align: right;\">\n",
       "      <th></th>\n",
       "      <th>region_code</th>\n",
       "      <th>region_index</th>\n",
       "    </tr>\n",
       "  </thead>\n",
       "  <tbody>\n",
       "    <tr>\n",
       "      <td>0</td>\n",
       "      <td>1</td>\n",
       "      <td>0.505906</td>\n",
       "    </tr>\n",
       "    <tr>\n",
       "      <td>1</td>\n",
       "      <td>2</td>\n",
       "      <td>0.682870</td>\n",
       "    </tr>\n",
       "    <tr>\n",
       "      <td>2</td>\n",
       "      <td>3</td>\n",
       "      <td>0.639644</td>\n",
       "    </tr>\n",
       "  </tbody>\n",
       "</table>\n",
       "</div>"
      ],
      "text/plain": [
       "   region_code  region_index\n",
       "0            1      0.505906\n",
       "1            2      0.682870\n",
       "2            3      0.639644"
      ]
     },
     "execution_count": 168,
     "metadata": {},
     "output_type": "execute_result"
    }
   ],
   "source": [
    "# quick look \n",
    "df_region.head(3)"
   ]
  },
  {
   "cell_type": "code",
   "execution_count": 169,
   "metadata": {},
   "outputs": [],
   "source": [
    "# merge region_index on data\n",
    "train = train.merge(df_region, how='left', on='region_code')"
   ]
  },
  {
   "cell_type": "markdown",
   "metadata": {},
   "source": [
    "### 4.4 extraction_type_group"
   ]
  },
  {
   "cell_type": "code",
   "execution_count": 170,
   "metadata": {},
   "outputs": [],
   "source": [
    "# calculate extraction index\n",
    "df_extract = pd.DataFrame(train.groupby('extraction_type_group')['status_group_numeric'].mean().reset_index())\n",
    "df_extract.rename(columns={'status_group_numeric': 'extraction_index'}, inplace=True)"
   ]
  },
  {
   "cell_type": "code",
   "execution_count": 171,
   "metadata": {},
   "outputs": [
    {
     "data": {
      "text/html": [
       "<div>\n",
       "<style scoped>\n",
       "    .dataframe tbody tr th:only-of-type {\n",
       "        vertical-align: middle;\n",
       "    }\n",
       "\n",
       "    .dataframe tbody tr th {\n",
       "        vertical-align: top;\n",
       "    }\n",
       "\n",
       "    .dataframe thead th {\n",
       "        text-align: right;\n",
       "    }\n",
       "</style>\n",
       "<table border=\"1\" class=\"dataframe\">\n",
       "  <thead>\n",
       "    <tr style=\"text-align: right;\">\n",
       "      <th></th>\n",
       "      <th>extraction_type_group</th>\n",
       "      <th>extraction_index</th>\n",
       "    </tr>\n",
       "  </thead>\n",
       "  <tbody>\n",
       "    <tr>\n",
       "      <td>0</td>\n",
       "      <td>afridev</td>\n",
       "      <td>0.689831</td>\n",
       "    </tr>\n",
       "    <tr>\n",
       "      <td>1</td>\n",
       "      <td>gravity</td>\n",
       "      <td>0.649683</td>\n",
       "    </tr>\n",
       "    <tr>\n",
       "      <td>2</td>\n",
       "      <td>india mark ii</td>\n",
       "      <td>0.619792</td>\n",
       "    </tr>\n",
       "  </tbody>\n",
       "</table>\n",
       "</div>"
      ],
      "text/plain": [
       "  extraction_type_group  extraction_index\n",
       "0               afridev          0.689831\n",
       "1               gravity          0.649683\n",
       "2         india mark ii          0.619792"
      ]
     },
     "execution_count": 171,
     "metadata": {},
     "output_type": "execute_result"
    }
   ],
   "source": [
    "# quick look \n",
    "df_extract.head(3)"
   ]
  },
  {
   "cell_type": "code",
   "execution_count": 172,
   "metadata": {},
   "outputs": [],
   "source": [
    "# merge extraction_index on data\n",
    "train = train.merge(df_extract, how='left', on='extraction_type_group')"
   ]
  },
  {
   "cell_type": "markdown",
   "metadata": {},
   "source": [
    "### 4.5 Management"
   ]
  },
  {
   "cell_type": "code",
   "execution_count": 173,
   "metadata": {},
   "outputs": [],
   "source": [
    "# calculate management index\n",
    "df_management = pd.DataFrame(train.groupby('management')['status_group_numeric'].mean().reset_index())\n",
    "df_management.rename(columns={'status_group_numeric': 'management_index'}, inplace=True)"
   ]
  },
  {
   "cell_type": "code",
   "execution_count": 174,
   "metadata": {},
   "outputs": [
    {
     "data": {
      "text/html": [
       "<div>\n",
       "<style scoped>\n",
       "    .dataframe tbody tr th:only-of-type {\n",
       "        vertical-align: middle;\n",
       "    }\n",
       "\n",
       "    .dataframe tbody tr th {\n",
       "        vertical-align: top;\n",
       "    }\n",
       "\n",
       "    .dataframe thead th {\n",
       "        text-align: right;\n",
       "    }\n",
       "</style>\n",
       "<table border=\"1\" class=\"dataframe\">\n",
       "  <thead>\n",
       "    <tr style=\"text-align: right;\">\n",
       "      <th></th>\n",
       "      <th>management</th>\n",
       "      <th>management_index</th>\n",
       "    </tr>\n",
       "  </thead>\n",
       "  <tbody>\n",
       "    <tr>\n",
       "      <td>0</td>\n",
       "      <td>company</td>\n",
       "      <td>0.400730</td>\n",
       "    </tr>\n",
       "    <tr>\n",
       "      <td>1</td>\n",
       "      <td>other</td>\n",
       "      <td>0.630924</td>\n",
       "    </tr>\n",
       "    <tr>\n",
       "      <td>2</td>\n",
       "      <td>other - school</td>\n",
       "      <td>0.237374</td>\n",
       "    </tr>\n",
       "  </tbody>\n",
       "</table>\n",
       "</div>"
      ],
      "text/plain": [
       "       management  management_index\n",
       "0         company          0.400730\n",
       "1           other          0.630924\n",
       "2  other - school          0.237374"
      ]
     },
     "execution_count": 174,
     "metadata": {},
     "output_type": "execute_result"
    }
   ],
   "source": [
    "# quick look \n",
    "df_management.head(3)"
   ]
  },
  {
   "cell_type": "code",
   "execution_count": 175,
   "metadata": {},
   "outputs": [],
   "source": [
    "# merge extraction_index on data\n",
    "train = train.merge(df_management, how='left', on='management')"
   ]
  },
  {
   "cell_type": "markdown",
   "metadata": {},
   "source": [
    "### 4.6 Payment"
   ]
  },
  {
   "cell_type": "code",
   "execution_count": 176,
   "metadata": {},
   "outputs": [],
   "source": [
    "# calculate payment index\n",
    "df_payment = pd.DataFrame(train.groupby('payment_type')['status_group_numeric'].mean().reset_index())\n",
    "df_payment.rename(columns={'status_group_numeric': 'payment_index'}, inplace=True)"
   ]
  },
  {
   "cell_type": "code",
   "execution_count": 177,
   "metadata": {},
   "outputs": [
    {
     "data": {
      "text/html": [
       "<div>\n",
       "<style scoped>\n",
       "    .dataframe tbody tr th:only-of-type {\n",
       "        vertical-align: middle;\n",
       "    }\n",
       "\n",
       "    .dataframe tbody tr th {\n",
       "        vertical-align: top;\n",
       "    }\n",
       "\n",
       "    .dataframe thead th {\n",
       "        text-align: right;\n",
       "    }\n",
       "</style>\n",
       "<table border=\"1\" class=\"dataframe\">\n",
       "  <thead>\n",
       "    <tr style=\"text-align: right;\">\n",
       "      <th></th>\n",
       "      <th>payment_type</th>\n",
       "      <th>payment_index</th>\n",
       "    </tr>\n",
       "  </thead>\n",
       "  <tbody>\n",
       "    <tr>\n",
       "      <td>0</td>\n",
       "      <td>annually</td>\n",
       "      <td>0.786244</td>\n",
       "    </tr>\n",
       "    <tr>\n",
       "      <td>1</td>\n",
       "      <td>monthly</td>\n",
       "      <td>0.716325</td>\n",
       "    </tr>\n",
       "    <tr>\n",
       "      <td>2</td>\n",
       "      <td>never pay</td>\n",
       "      <td>0.486528</td>\n",
       "    </tr>\n",
       "  </tbody>\n",
       "</table>\n",
       "</div>"
      ],
      "text/plain": [
       "  payment_type  payment_index\n",
       "0     annually       0.786244\n",
       "1      monthly       0.716325\n",
       "2    never pay       0.486528"
      ]
     },
     "execution_count": 177,
     "metadata": {},
     "output_type": "execute_result"
    }
   ],
   "source": [
    "# quick look \n",
    "df_payment.head(3)"
   ]
  },
  {
   "cell_type": "code",
   "execution_count": 178,
   "metadata": {},
   "outputs": [],
   "source": [
    "# merge payment_index on data\n",
    "train = train.merge(df_payment, how='left', on='payment_type')"
   ]
  },
  {
   "cell_type": "markdown",
   "metadata": {},
   "source": [
    "### 4.7 Quality"
   ]
  },
  {
   "cell_type": "code",
   "execution_count": 179,
   "metadata": {},
   "outputs": [],
   "source": [
    "# calculate quality (water) index\n",
    "df_quality = pd.DataFrame(train.groupby('quality_group')['status_group_numeric'].mean().reset_index())\n",
    "df_quality.rename(columns={'status_group_numeric': 'quality_index'}, inplace=True)"
   ]
  },
  {
   "cell_type": "code",
   "execution_count": 180,
   "metadata": {},
   "outputs": [
    {
     "data": {
      "text/html": [
       "<div>\n",
       "<style scoped>\n",
       "    .dataframe tbody tr th:only-of-type {\n",
       "        vertical-align: middle;\n",
       "    }\n",
       "\n",
       "    .dataframe tbody tr th {\n",
       "        vertical-align: top;\n",
       "    }\n",
       "\n",
       "    .dataframe thead th {\n",
       "        text-align: right;\n",
       "    }\n",
       "</style>\n",
       "<table border=\"1\" class=\"dataframe\">\n",
       "  <thead>\n",
       "    <tr style=\"text-align: right;\">\n",
       "      <th></th>\n",
       "      <th>quality_group</th>\n",
       "      <th>quality_index</th>\n",
       "    </tr>\n",
       "  </thead>\n",
       "  <tbody>\n",
       "    <tr>\n",
       "      <td>0</td>\n",
       "      <td>colored</td>\n",
       "      <td>0.557143</td>\n",
       "    </tr>\n",
       "    <tr>\n",
       "      <td>1</td>\n",
       "      <td>fluoride</td>\n",
       "      <td>0.753456</td>\n",
       "    </tr>\n",
       "    <tr>\n",
       "      <td>2</td>\n",
       "      <td>good</td>\n",
       "      <td>0.604353</td>\n",
       "    </tr>\n",
       "  </tbody>\n",
       "</table>\n",
       "</div>"
      ],
      "text/plain": [
       "  quality_group  quality_index\n",
       "0       colored       0.557143\n",
       "1      fluoride       0.753456\n",
       "2          good       0.604353"
      ]
     },
     "execution_count": 180,
     "metadata": {},
     "output_type": "execute_result"
    }
   ],
   "source": [
    "# quick look \n",
    "df_quality.head(3)"
   ]
  },
  {
   "cell_type": "code",
   "execution_count": 181,
   "metadata": {},
   "outputs": [],
   "source": [
    "# merge quality_index on data\n",
    "train = train.merge(df_quality, how='left', on='quality_group')"
   ]
  },
  {
   "cell_type": "markdown",
   "metadata": {},
   "source": [
    "### 4.8 Quantity"
   ]
  },
  {
   "cell_type": "code",
   "execution_count": 182,
   "metadata": {},
   "outputs": [],
   "source": [
    "# calculate quantity (water) index\n",
    "df_quantity = pd.DataFrame(train.groupby('quantity_group')['status_group_numeric'].mean().reset_index())\n",
    "df_quantity.rename(columns={'status_group_numeric': 'quantity_index'}, inplace=True)"
   ]
  },
  {
   "cell_type": "code",
   "execution_count": 183,
   "metadata": {},
   "outputs": [
    {
     "data": {
      "text/html": [
       "<div>\n",
       "<style scoped>\n",
       "    .dataframe tbody tr th:only-of-type {\n",
       "        vertical-align: middle;\n",
       "    }\n",
       "\n",
       "    .dataframe tbody tr th {\n",
       "        vertical-align: top;\n",
       "    }\n",
       "\n",
       "    .dataframe thead th {\n",
       "        text-align: right;\n",
       "    }\n",
       "</style>\n",
       "<table border=\"1\" class=\"dataframe\">\n",
       "  <thead>\n",
       "    <tr style=\"text-align: right;\">\n",
       "      <th></th>\n",
       "      <th>quantity_group</th>\n",
       "      <th>quantity_index</th>\n",
       "    </tr>\n",
       "  </thead>\n",
       "  <tbody>\n",
       "    <tr>\n",
       "      <td>0</td>\n",
       "      <td>dry</td>\n",
       "      <td>0.028098</td>\n",
       "    </tr>\n",
       "    <tr>\n",
       "      <td>1</td>\n",
       "      <td>enough</td>\n",
       "      <td>0.688483</td>\n",
       "    </tr>\n",
       "    <tr>\n",
       "      <td>2</td>\n",
       "      <td>insufficient</td>\n",
       "      <td>0.571155</td>\n",
       "    </tr>\n",
       "  </tbody>\n",
       "</table>\n",
       "</div>"
      ],
      "text/plain": [
       "  quantity_group  quantity_index\n",
       "0            dry        0.028098\n",
       "1         enough        0.688483\n",
       "2   insufficient        0.571155"
      ]
     },
     "execution_count": 183,
     "metadata": {},
     "output_type": "execute_result"
    }
   ],
   "source": [
    "# quick look \n",
    "df_quantity.head(3)"
   ]
  },
  {
   "cell_type": "code",
   "execution_count": 184,
   "metadata": {},
   "outputs": [],
   "source": [
    "# merge quantity_index on data\n",
    "train = train.merge(df_quantity, how='left', on='quantity_group')"
   ]
  },
  {
   "cell_type": "markdown",
   "metadata": {},
   "source": [
    "### 4.9 Source"
   ]
  },
  {
   "cell_type": "code",
   "execution_count": 185,
   "metadata": {},
   "outputs": [],
   "source": [
    "# calculate source index\n",
    "df_source = pd.DataFrame(train.groupby('source')['status_group_numeric'].mean().reset_index())\n",
    "df_source.rename(columns={'status_group_numeric': 'source_index'}, inplace=True)"
   ]
  },
  {
   "cell_type": "code",
   "execution_count": 186,
   "metadata": {},
   "outputs": [
    {
     "data": {
      "text/html": [
       "<div>\n",
       "<style scoped>\n",
       "    .dataframe tbody tr th:only-of-type {\n",
       "        vertical-align: middle;\n",
       "    }\n",
       "\n",
       "    .dataframe tbody tr th {\n",
       "        vertical-align: top;\n",
       "    }\n",
       "\n",
       "    .dataframe thead th {\n",
       "        text-align: right;\n",
       "    }\n",
       "</style>\n",
       "<table border=\"1\" class=\"dataframe\">\n",
       "  <thead>\n",
       "    <tr style=\"text-align: right;\">\n",
       "      <th></th>\n",
       "      <th>source</th>\n",
       "      <th>source_index</th>\n",
       "    </tr>\n",
       "  </thead>\n",
       "  <tbody>\n",
       "    <tr>\n",
       "      <td>0</td>\n",
       "      <td>dam</td>\n",
       "      <td>0.403963</td>\n",
       "    </tr>\n",
       "    <tr>\n",
       "      <td>1</td>\n",
       "      <td>hand dtw</td>\n",
       "      <td>0.578375</td>\n",
       "    </tr>\n",
       "    <tr>\n",
       "      <td>2</td>\n",
       "      <td>lake</td>\n",
       "      <td>0.219608</td>\n",
       "    </tr>\n",
       "  </tbody>\n",
       "</table>\n",
       "</div>"
      ],
      "text/plain": [
       "     source  source_index\n",
       "0       dam      0.403963\n",
       "1  hand dtw      0.578375\n",
       "2      lake      0.219608"
      ]
     },
     "execution_count": 186,
     "metadata": {},
     "output_type": "execute_result"
    }
   ],
   "source": [
    "# quick look \n",
    "df_source.head(3)"
   ]
  },
  {
   "cell_type": "code",
   "execution_count": 187,
   "metadata": {},
   "outputs": [],
   "source": [
    "# merge source_index on data\n",
    "train = train.merge(df_source, how='left', on='source')"
   ]
  },
  {
   "cell_type": "markdown",
   "metadata": {},
   "source": [
    "### 4.10 Waterpoint type"
   ]
  },
  {
   "cell_type": "code",
   "execution_count": 188,
   "metadata": {},
   "outputs": [],
   "source": [
    "# calculate wpt type index\n",
    "df_wpt_type = pd.DataFrame(train.groupby('waterpoint_type')['status_group_numeric'].mean().reset_index())\n",
    "df_wpt_type.rename(columns={'status_group_numeric': 'wpt_type_index'}, inplace=True)"
   ]
  },
  {
   "cell_type": "code",
   "execution_count": 189,
   "metadata": {},
   "outputs": [
    {
     "data": {
      "text/html": [
       "<div>\n",
       "<style scoped>\n",
       "    .dataframe tbody tr th:only-of-type {\n",
       "        vertical-align: middle;\n",
       "    }\n",
       "\n",
       "    .dataframe tbody tr th {\n",
       "        vertical-align: top;\n",
       "    }\n",
       "\n",
       "    .dataframe thead th {\n",
       "        text-align: right;\n",
       "    }\n",
       "</style>\n",
       "<table border=\"1\" class=\"dataframe\">\n",
       "  <thead>\n",
       "    <tr style=\"text-align: right;\">\n",
       "      <th></th>\n",
       "      <th>waterpoint_type</th>\n",
       "      <th>wpt_type_index</th>\n",
       "    </tr>\n",
       "  </thead>\n",
       "  <tbody>\n",
       "    <tr>\n",
       "      <td>0</td>\n",
       "      <td>cattle trough</td>\n",
       "      <td>0.732759</td>\n",
       "    </tr>\n",
       "    <tr>\n",
       "      <td>1</td>\n",
       "      <td>communal standpipe</td>\n",
       "      <td>0.661104</td>\n",
       "    </tr>\n",
       "    <tr>\n",
       "      <td>2</td>\n",
       "      <td>communal standpipe multiple</td>\n",
       "      <td>0.419302</td>\n",
       "    </tr>\n",
       "  </tbody>\n",
       "</table>\n",
       "</div>"
      ],
      "text/plain": [
       "               waterpoint_type  wpt_type_index\n",
       "0                cattle trough        0.732759\n",
       "1           communal standpipe        0.661104\n",
       "2  communal standpipe multiple        0.419302"
      ]
     },
     "execution_count": 189,
     "metadata": {},
     "output_type": "execute_result"
    }
   ],
   "source": [
    "# quick look \n",
    "df_wpt_type.head(3)"
   ]
  },
  {
   "cell_type": "code",
   "execution_count": 190,
   "metadata": {},
   "outputs": [],
   "source": [
    "# merge wpt_type_index on data\n",
    "train = train.merge(df_wpt_type, how='left', on='waterpoint_type')"
   ]
  },
  {
   "cell_type": "markdown",
   "metadata": {},
   "source": [
    "# 5. Machine Learning model"
   ]
  },
  {
   "cell_type": "markdown",
   "metadata": {},
   "source": [
    "I am going to fit a (simple) random forest model on the data.\n",
    "\n",
    "I think that a random forest model is a good choice here for the following reasons:\n",
    "\n",
    "1. We have three different but ordinal target values. Compared to other models like (multinomial) logistic regression or a naive Bayes classifier I think that random forest can handle this situation the best.\n",
    "\n",
    "2. Random forest is computationally feasible. k-Nearest Neighbors might actually make good predictions, too, from a methodological point of view. However, that algorithm is too slow. Random forest runs much faster.\n",
    "\n",
    "3. Especially for the spatial features (longitude, latitude, gps_height) which are very important as we have seen in our EDA random forest is well suited to capture these non-linear dependicies."
   ]
  },
  {
   "cell_type": "markdown",
   "metadata": {},
   "source": [
    "## 5.1 Packages"
   ]
  },
  {
   "cell_type": "code",
   "execution_count": 191,
   "metadata": {},
   "outputs": [],
   "source": [
    "# random forests classifier\n",
    "from sklearn.ensemble import RandomForestClassifier"
   ]
  },
  {
   "cell_type": "code",
   "execution_count": 192,
   "metadata": {},
   "outputs": [],
   "source": [
    "# evaluation metric\n",
    "from sklearn.metrics import accuracy_score\n",
    "from sklearn.metrics import confusion_matrix"
   ]
  },
  {
   "cell_type": "code",
   "execution_count": 221,
   "metadata": {},
   "outputs": [],
   "source": [
    "# model testing and tuning\n",
    "from sklearn.model_selection import train_test_split\n",
    "\n",
    "# cross validation techniques\n",
    "from sklearn.model_selection import GridSearchCV\n",
    "from sklearn.model_selection import RandomizedSearchCV"
   ]
  },
  {
   "cell_type": "markdown",
   "metadata": {},
   "source": [
    "## 5.2 Adjustments on data for training the model"
   ]
  },
  {
   "cell_type": "markdown",
   "metadata": {},
   "source": [
    "We need to make some further adjustments before we are able to train our model on the data."
   ]
  },
  {
   "cell_type": "code",
   "execution_count": 194,
   "metadata": {},
   "outputs": [],
   "source": [
    "# split the training and evaluation data again\n",
    "train_1 = train.iloc[:59400, :]\n",
    "test_1 = train.iloc[59400:, :]"
   ]
  },
  {
   "cell_type": "code",
   "execution_count": null,
   "metadata": {},
   "outputs": [],
   "source": [
    "test_1.info()"
   ]
  },
  {
   "cell_type": "markdown",
   "metadata": {},
   "source": [
    "As I have found out the imputation for the feature 'installer' / 'installer_index' in the third chapter was not sufficient for the test data since there are new values for some features which have beent directly or indirectly relevant.\n",
    "I am going to use a simple imputation method for those few missing values."
   ]
  },
  {
   "cell_type": "code",
   "execution_count": 257,
   "metadata": {},
   "outputs": [
    {
     "name": "stderr",
     "output_type": "stream",
     "text": [
      "C:\\Users\\david\\Anaconda3\\lib\\site-packages\\ipykernel_launcher.py:1: SettingWithCopyWarning: \n",
      "A value is trying to be set on a copy of a slice from a DataFrame.\n",
      "Try using .loc[row_indexer,col_indexer] = value instead\n",
      "\n",
      "See the caveats in the documentation: http://pandas.pydata.org/pandas-docs/stable/user_guide/indexing.html#returning-a-view-versus-a-copy\n",
      "  \"\"\"Entry point for launching an IPython kernel.\n"
     ]
    }
   ],
   "source": [
    "test_1['installer_index'] = test_1['installer_index'].fillna(test_1.groupby('management')['installer_index'].transform('mean'))"
   ]
  },
  {
   "cell_type": "markdown",
   "metadata": {},
   "source": [
    "## 5.3 Models"
   ]
  },
  {
   "cell_type": "markdown",
   "metadata": {},
   "source": [
    "### 5.3.1 First initial model"
   ]
  },
  {
   "cell_type": "code",
   "execution_count": 195,
   "metadata": {},
   "outputs": [
    {
     "data": {
      "text/plain": [
       "Index(['id', 'amount_tsh', 'date_recorded', 'funder', 'gps_height',\n",
       "       'installer', 'longitude', 'latitude', 'wpt_name', 'basin', 'subvillage',\n",
       "       'region_code', 'lga', 'ward', 'population', 'public_meeting',\n",
       "       'scheme_name', 'permit', 'construction_year', 'extraction_type_group',\n",
       "       'management', 'management_group', 'payment_type', 'quality_group',\n",
       "       'quantity_group', 'source', 'waterpoint_type', 'status_group',\n",
       "       'geometry', 'status_group_numeric', 'month_recorded', 'waterpoint_age',\n",
       "       'installer_index', 'basin_index', 'region_index', 'extraction_index',\n",
       "       'management_index', 'payment_index', 'quality_index', 'quantity_index',\n",
       "       'source_index', 'wpt_type_index'],\n",
       "      dtype='object')"
      ]
     },
     "execution_count": 195,
     "metadata": {},
     "output_type": "execute_result"
    }
   ],
   "source": [
    "# identify features needed for the model\n",
    "train_1.columns"
   ]
  },
  {
   "cell_type": "markdown",
   "metadata": {},
   "source": [
    "Extract numpy arrays from the pandas dataframe (train data)."
   ]
  },
  {
   "cell_type": "code",
   "execution_count": 196,
   "metadata": {},
   "outputs": [],
   "source": [
    "# features\n",
    "X = train_1[['gps_height', 'longitude', 'latitude', 'region_index', #geographic features\n",
    "            'waterpoint_age', #time features\n",
    "            'installer_index', 'management_index', 'payment_index', #management features\n",
    "            'amount_tsh', 'extraction_index', 'quality_index', 'quantity_index',\n",
    "            'source_index', 'wpt_type_index', 'basin_index', #well and water features\n",
    "            'population', 'public_meeting', 'permit']].values #demographic / economic features\n",
    "\n",
    "# labels\n",
    "y = train_1[['status_group']].values"
   ]
  },
  {
   "cell_type": "markdown",
   "metadata": {},
   "source": [
    "Split data into train (0.7) and test (0.3) data"
   ]
  },
  {
   "cell_type": "code",
   "execution_count": 197,
   "metadata": {},
   "outputs": [],
   "source": [
    "X_train, X_test, y_train, y_test = train_test_split(X, y, test_size=0.3, random_state=1)"
   ]
  },
  {
   "cell_type": "markdown",
   "metadata": {},
   "source": [
    "Train first model without customized settings on hyperparameters."
   ]
  },
  {
   "cell_type": "code",
   "execution_count": 198,
   "metadata": {},
   "outputs": [],
   "source": [
    "# instantiate random forests classifier (default settings)\n",
    "rf = RandomForestClassifier(random_state=1)"
   ]
  },
  {
   "cell_type": "code",
   "execution_count": 199,
   "metadata": {},
   "outputs": [
    {
     "name": "stderr",
     "output_type": "stream",
     "text": [
      "C:\\Users\\david\\Anaconda3\\lib\\site-packages\\sklearn\\ensemble\\forest.py:245: FutureWarning: The default value of n_estimators will change from 10 in version 0.20 to 100 in 0.22.\n",
      "  \"10 in version 0.20 to 100 in 0.22.\", FutureWarning)\n",
      "C:\\Users\\david\\Anaconda3\\lib\\site-packages\\ipykernel_launcher.py:2: DataConversionWarning: A column-vector y was passed when a 1d array was expected. Please change the shape of y to (n_samples,), for example using ravel().\n",
      "  \n"
     ]
    },
    {
     "data": {
      "text/plain": [
       "RandomForestClassifier(bootstrap=True, class_weight=None, criterion='gini',\n",
       "                       max_depth=None, max_features='auto', max_leaf_nodes=None,\n",
       "                       min_impurity_decrease=0.0, min_impurity_split=None,\n",
       "                       min_samples_leaf=1, min_samples_split=2,\n",
       "                       min_weight_fraction_leaf=0.0, n_estimators=10,\n",
       "                       n_jobs=None, oob_score=False, random_state=1, verbose=0,\n",
       "                       warm_start=False)"
      ]
     },
     "execution_count": 199,
     "metadata": {},
     "output_type": "execute_result"
    }
   ],
   "source": [
    "# fir rf with default settings\n",
    "rf.fit(X_train, y_train)"
   ]
  },
  {
   "cell_type": "code",
   "execution_count": 200,
   "metadata": {},
   "outputs": [],
   "source": [
    "# make predictions on test data\n",
    "y_pred = rf.predict(X_test)"
   ]
  },
  {
   "cell_type": "code",
   "execution_count": 201,
   "metadata": {},
   "outputs": [
    {
     "data": {
      "text/plain": [
       "0.8037037037037037"
      ]
     },
     "execution_count": 201,
     "metadata": {},
     "output_type": "execute_result"
    }
   ],
   "source": [
    "# prediction quality\n",
    "accuracy_score(y_test, y_pred)"
   ]
  },
  {
   "cell_type": "code",
   "execution_count": 202,
   "metadata": {},
   "outputs": [
    {
     "data": {
      "text/plain": [
       "array([[8638,  293,  760],\n",
       "       [ 654,  419,  197],\n",
       "       [1454,  140, 5265]], dtype=int64)"
      ]
     },
     "execution_count": 202,
     "metadata": {},
     "output_type": "execute_result"
    }
   ],
   "source": [
    "# more detailed look where the model tends to fail\n",
    "confusion_matrix(y_test, y_pred, labels=['functional', 'functional needs repair', 'non functional'])"
   ]
  },
  {
   "cell_type": "markdown",
   "metadata": {},
   "source": [
    "Furhtermore it might be interesting / useful to see which features are rather important for our random forests model."
   ]
  },
  {
   "cell_type": "code",
   "execution_count": 203,
   "metadata": {},
   "outputs": [],
   "source": [
    "features = ['gps_height', 'longitude', 'latitude', 'region_index', #geographic features\n",
    "            'waterpoint_age', #time features\n",
    "            'installer_index', 'management_index', 'payment_index', #management features\n",
    "            'amount_tsh', 'extraction_index', 'quality_index', 'quantity_index',\n",
    "            'source_index', 'wpt_type_index', 'basin_index', #well and water features\n",
    "            'population', 'public_meeting', 'permit']"
   ]
  },
  {
   "cell_type": "code",
   "execution_count": 204,
   "metadata": {},
   "outputs": [
    {
     "data": {
      "text/plain": [
       "array([0.06867445, 0.14709399, 0.14535424, 0.02414271, 0.05778764,\n",
       "       0.10826291, 0.02077842, 0.03477057, 0.0223233 , 0.05678575,\n",
       "       0.01325311, 0.13225567, 0.03221233, 0.05198587, 0.01819758,\n",
       "       0.04867129, 0.00877082, 0.00867935])"
      ]
     },
     "execution_count": 204,
     "metadata": {},
     "output_type": "execute_result"
    }
   ],
   "source": [
    "rf.feature_importances_"
   ]
  },
  {
   "cell_type": "code",
   "execution_count": 205,
   "metadata": {},
   "outputs": [
    {
     "name": "stdout",
     "output_type": "stream",
     "text": [
      "gps_height = 0.06867444576685779\n",
      "longitude = 0.1470939876011916\n",
      "latitude = 0.14535423545441034\n",
      "region_index = 0.024142711901623228\n",
      "waterpoint_age = 0.057787642449257284\n",
      "installer_index = 0.1082629131873899\n",
      "management_index = 0.020778423480395797\n",
      "payment_index = 0.03477057121306964\n",
      "amount_tsh = 0.022323302172240943\n",
      "extraction_index = 0.05678574871155999\n",
      "quality_index = 0.013253110410853617\n",
      "quantity_index = 0.1322556724061168\n",
      "source_index = 0.03221232736792451\n",
      "wpt_type_index = 0.05198586735217083\n",
      "basin_index = 0.018197576196377057\n",
      "population = 0.048671289485053934\n",
      "public_meeting = 0.008770824713062085\n",
      "permit = 0.008679350130444628\n"
     ]
    }
   ],
   "source": [
    "for name, importance in zip(features, rf.feature_importances_):\n",
    "    print(name, '=', importance)"
   ]
  },
  {
   "cell_type": "code",
   "execution_count": 206,
   "metadata": {},
   "outputs": [
    {
     "data": {
      "image/png": "[encoded data removed]",
      "text/plain": [
       "<Figure size 960x720 with 1 Axes>"
      ]
     },
     "metadata": {},
     "output_type": "display_data"
    }
   ],
   "source": [
    "# features = features\n",
    "importances = rf.feature_importances_\n",
    "indices = np.argsort(importances)\n",
    "\n",
    "plt.figure(figsize=(12,9), dpi= 80)\n",
    "\n",
    "plt.title('Feature Importances')\n",
    "plt.barh(range(len(indices)), importances[indices], color='b', align='center')\n",
    "plt.yticks(range(len(indices)), [features[i] for i in indices])\n",
    "plt.xlabel('Relative Importance')\n",
    "plt.show()"
   ]
  },
  {
   "cell_type": "code",
   "execution_count": 207,
   "metadata": {},
   "outputs": [
    {
     "data": {
      "text/plain": [
       "array(['functional', 'non functional', 'functional needs repair'],\n",
       "      dtype=object)"
      ]
     },
     "execution_count": 207,
     "metadata": {},
     "output_type": "execute_result"
    }
   ],
   "source": [
    "train_labels['status_group'].unique()"
   ]
  },
  {
   "cell_type": "markdown",
   "metadata": {},
   "source": [
    "### 5.3.2 Hyperparameter tuning"
   ]
  },
  {
   "cell_type": "markdown",
   "metadata": {},
   "source": [
    "Hyperparameter tuning is a good (if computationally expensive) way to make some final slight improvements for our model.\n",
    "To find out how we can optimize our model doing that we first need to know, which hyperparameters we are working with:"
   ]
  },
  {
   "cell_type": "code",
   "execution_count": 208,
   "metadata": {},
   "outputs": [
    {
     "data": {
      "text/plain": [
       "{'bootstrap': True,\n",
       " 'class_weight': None,\n",
       " 'criterion': 'gini',\n",
       " 'max_depth': None,\n",
       " 'max_features': 'auto',\n",
       " 'max_leaf_nodes': None,\n",
       " 'min_impurity_decrease': 0.0,\n",
       " 'min_impurity_split': None,\n",
       " 'min_samples_leaf': 1,\n",
       " 'min_samples_split': 2,\n",
       " 'min_weight_fraction_leaf': 0.0,\n",
       " 'n_estimators': 10,\n",
       " 'n_jobs': None,\n",
       " 'oob_score': False,\n",
       " 'random_state': 1,\n",
       " 'verbose': 0,\n",
       " 'warm_start': False}"
      ]
     },
     "execution_count": 208,
     "metadata": {},
     "output_type": "execute_result"
    }
   ],
   "source": [
    "# inspect rf's hyperparameters\n",
    "rf.get_params()"
   ]
  },
  {
   "cell_type": "markdown",
   "metadata": {},
   "source": [
    "Instantiate a parameter grid for the first (randomized) grid search."
   ]
  },
  {
   "cell_type": "code",
   "execution_count": 217,
   "metadata": {},
   "outputs": [],
   "source": [
    "params_rf = {'criterion': ['gini', 'entropy'],\n",
    "            'n_estimators': [int(x) for x in np.linspace(start = 100, stop = 2000, num = 11)],\n",
    "            'max_features': ['auto', 'sqrt'],\n",
    "            'max_depth': [int(x) for x in np.linspace(10, 110, num = 11)],\n",
    "            'min_samples_split': [2, 5, 10],\n",
    "            'min_samples_leaf': [1, 2, 4],\n",
    "            'bootstrap': [True, False]}"
   ]
  },
  {
   "cell_type": "code",
   "execution_count": 218,
   "metadata": {},
   "outputs": [
    {
     "data": {
      "text/plain": [
       "{'criterion': ['gini', 'entropy'],\n",
       " 'n_estimators': [100, 290, 480, 670, 860, 1050, 1240, 1430, 1620, 1810, 2000],\n",
       " 'max_features': ['auto', 'sqrt'],\n",
       " 'max_depth': [10, 20, 30, 40, 50, 60, 70, 80, 90, 100, 110],\n",
       " 'min_samples_split': [2, 5, 10],\n",
       " 'min_samples_leaf': [1, 2, 4],\n",
       " 'bootstrap': [True, False]}"
      ]
     },
     "execution_count": 218,
     "metadata": {},
     "output_type": "execute_result"
    }
   ],
   "source": [
    "params_rf"
   ]
  },
  {
   "cell_type": "markdown",
   "metadata": {},
   "source": [
    "At first I am going to apply a randomized grid search because it is computationally very expensive.\n",
    "That shall give me a first insight for which value ranges the hyperparameters are chosen best."
   ]
  },
  {
   "cell_type": "code",
   "execution_count": 222,
   "metadata": {},
   "outputs": [],
   "source": [
    "rf_random = RandomizedSearchCV(estimator=rf,\n",
    "                              param_distributions=params_rf,\n",
    "                              n_iter=100, cv=3,\n",
    "                              verbose=2, random_state=42,\n",
    "                              n_jobs=-1)"
   ]
  },
  {
   "cell_type": "code",
   "execution_count": 223,
   "metadata": {},
   "outputs": [
    {
     "name": "stdout",
     "output_type": "stream",
     "text": [
      "Fitting 3 folds for each of 100 candidates, totalling 300 fits\n"
     ]
    },
    {
     "name": "stderr",
     "output_type": "stream",
     "text": [
      "[Parallel(n_jobs=-1)]: Using backend LokyBackend with 8 concurrent workers.\n",
      "[Parallel(n_jobs=-1)]: Done  25 tasks      | elapsed:  9.2min\n",
      "[Parallel(n_jobs=-1)]: Done 146 tasks      | elapsed: 73.9min\n",
      "[Parallel(n_jobs=-1)]: Done 300 out of 300 | elapsed: 136.3min finished\n",
      "C:\\Users\\david\\Anaconda3\\lib\\site-packages\\sklearn\\model_selection\\_search.py:715: DataConversionWarning: A column-vector y was passed when a 1d array was expected. Please change the shape of y to (n_samples,), for example using ravel().\n",
      "  self.best_estimator_.fit(X, y, **fit_params)\n"
     ]
    },
    {
     "data": {
      "text/plain": [
       "RandomizedSearchCV(cv=3, error_score='raise-deprecating',\n",
       "                   estimator=RandomForestClassifier(bootstrap=True,\n",
       "                                                    class_weight=None,\n",
       "                                                    criterion='gini',\n",
       "                                                    max_depth=None,\n",
       "                                                    max_features='auto',\n",
       "                                                    max_leaf_nodes=None,\n",
       "                                                    min_impurity_decrease=0.0,\n",
       "                                                    min_impurity_split=None,\n",
       "                                                    min_samples_leaf=1,\n",
       "                                                    min_samples_split=2,\n",
       "                                                    min_weight_fraction_leaf=0.0,\n",
       "                                                    n_estimators=10,\n",
       "                                                    n_jobs=None,\n",
       "                                                    oob_score=...\n",
       "                   param_distributions={'bootstrap': [True, False],\n",
       "                                        'criterion': ['gini', 'entropy'],\n",
       "                                        'max_depth': [10, 20, 30, 40, 50, 60,\n",
       "                                                      70, 80, 90, 100, 110],\n",
       "                                        'max_features': ['auto', 'sqrt'],\n",
       "                                        'min_samples_leaf': [1, 2, 4],\n",
       "                                        'min_samples_split': [2, 5, 10],\n",
       "                                        'n_estimators': [100, 290, 480, 670,\n",
       "                                                         860, 1050, 1240, 1430,\n",
       "                                                         1620, 1810, 2000]},\n",
       "                   pre_dispatch='2*n_jobs', random_state=42, refit=True,\n",
       "                   return_train_score=False, scoring=None, verbose=2)"
      ]
     },
     "execution_count": 223,
     "metadata": {},
     "output_type": "execute_result"
    }
   ],
   "source": [
    "rf_random.fit(X_train, y_train)"
   ]
  },
  {
   "cell_type": "code",
   "execution_count": 225,
   "metadata": {},
   "outputs": [],
   "source": [
    "# Extract best model from 'rf_random' \n",
    "best_model = rf_random.best_estimator_"
   ]
  },
  {
   "cell_type": "code",
   "execution_count": 224,
   "metadata": {},
   "outputs": [
    {
     "data": {
      "text/plain": [
       "{'n_estimators': 1620,\n",
       " 'min_samples_split': 10,\n",
       " 'min_samples_leaf': 2,\n",
       " 'max_features': 'auto',\n",
       " 'max_depth': 20,\n",
       " 'criterion': 'entropy',\n",
       " 'bootstrap': False}"
      ]
     },
     "execution_count": 224,
     "metadata": {},
     "output_type": "execute_result"
    }
   ],
   "source": [
    "# Extract hyperparameters from the best model\n",
    "rf_random.best_params_"
   ]
  },
  {
   "cell_type": "code",
   "execution_count": 226,
   "metadata": {},
   "outputs": [],
   "source": [
    "# accuracy score of our best model\n",
    "y_pred = best_model.predict(X_test)\n",
    "accuracy_score(y_test, y_pred)"
   ]
  },
  {
   "cell_type": "code",
   "execution_count": 227,
   "metadata": {},
   "outputs": [
    {
     "data": {
      "text/plain": [
       "0.8154882154882155"
      ]
     },
     "execution_count": 227,
     "metadata": {},
     "output_type": "execute_result"
    }
   ],
   "source": [
    "accuracy_score(y_test, y_pred)"
   ]
  },
  {
   "cell_type": "markdown",
   "metadata": {},
   "source": [
    "Try out minor changes in the hyperparameter settings and investigate its effect"
   ]
  },
  {
   "cell_type": "code",
   "execution_count": 228,
   "metadata": {},
   "outputs": [],
   "source": [
    "# change bootstrap to True\n",
    "rf_new = RandomForestClassifier(n_estimators=1620, min_samples_split=10,\n",
    "                               min_samples_leaf=2, max_features='auto',\n",
    "                               max_depth=20, criterion='entropy',\n",
    "                               bootstrap=True)"
   ]
  },
  {
   "cell_type": "code",
   "execution_count": 229,
   "metadata": {},
   "outputs": [
    {
     "name": "stderr",
     "output_type": "stream",
     "text": [
      "C:\\Users\\david\\Anaconda3\\lib\\site-packages\\ipykernel_launcher.py:1: DataConversionWarning: A column-vector y was passed when a 1d array was expected. Please change the shape of y to (n_samples,), for example using ravel().\n",
      "  \"\"\"Entry point for launching an IPython kernel.\n"
     ]
    },
    {
     "data": {
      "text/plain": [
       "RandomForestClassifier(bootstrap=True, class_weight=None, criterion='entropy',\n",
       "                       max_depth=20, max_features='auto', max_leaf_nodes=None,\n",
       "                       min_impurity_decrease=0.0, min_impurity_split=None,\n",
       "                       min_samples_leaf=2, min_samples_split=10,\n",
       "                       min_weight_fraction_leaf=0.0, n_estimators=1620,\n",
       "                       n_jobs=None, oob_score=False, random_state=None,\n",
       "                       verbose=0, warm_start=False)"
      ]
     },
     "execution_count": 229,
     "metadata": {},
     "output_type": "execute_result"
    }
   ],
   "source": [
    "rf_new.fit(X_train, y_train)"
   ]
  },
  {
   "cell_type": "code",
   "execution_count": 231,
   "metadata": {},
   "outputs": [],
   "source": [
    "y_pred = rf_new.predict(X_test)\n",
    "accuracy_score(y_test, y_pred)"
   ]
  },
  {
   "cell_type": "code",
   "execution_count": 232,
   "metadata": {},
   "outputs": [
    {
     "data": {
      "text/plain": [
       "0.8124579124579124"
      ]
     },
     "execution_count": 232,
     "metadata": {},
     "output_type": "execute_result"
    }
   ],
   "source": [
    "accuracy_score(y_test, y_pred)"
   ]
  },
  {
   "cell_type": "markdown",
   "metadata": {},
   "source": [
    "No improvement; keep bootstrap set to False"
   ]
  },
  {
   "cell_type": "markdown",
   "metadata": {},
   "source": [
    "Try if changing the criterion to 'gini' has a positive impact"
   ]
  },
  {
   "cell_type": "code",
   "execution_count": 235,
   "metadata": {},
   "outputs": [],
   "source": [
    "rf_new = RandomForestClassifier(n_estimators=1620, min_samples_split=10,\n",
    "                               min_samples_leaf=2, max_features='auto',\n",
    "                               max_depth=20, criterion='gini',\n",
    "                               bootstrap=False)"
   ]
  },
  {
   "cell_type": "code",
   "execution_count": 236,
   "metadata": {},
   "outputs": [
    {
     "name": "stderr",
     "output_type": "stream",
     "text": [
      "C:\\Users\\david\\Anaconda3\\lib\\site-packages\\ipykernel_launcher.py:1: DataConversionWarning: A column-vector y was passed when a 1d array was expected. Please change the shape of y to (n_samples,), for example using ravel().\n",
      "  \"\"\"Entry point for launching an IPython kernel.\n"
     ]
    },
    {
     "data": {
      "text/plain": [
       "RandomForestClassifier(bootstrap=False, class_weight=None, criterion='gini',\n",
       "                       max_depth=20, max_features='auto', max_leaf_nodes=None,\n",
       "                       min_impurity_decrease=0.0, min_impurity_split=None,\n",
       "                       min_samples_leaf=2, min_samples_split=10,\n",
       "                       min_weight_fraction_leaf=0.0, n_estimators=1620,\n",
       "                       n_jobs=None, oob_score=False, random_state=None,\n",
       "                       verbose=0, warm_start=False)"
      ]
     },
     "execution_count": 236,
     "metadata": {},
     "output_type": "execute_result"
    }
   ],
   "source": [
    "rf_new.fit(X_train, y_train)"
   ]
  },
  {
   "cell_type": "code",
   "execution_count": 237,
   "metadata": {},
   "outputs": [],
   "source": [
    "y_pred = rf_new.predict(X_test)\n",
    "accuracy_score(y_test, y_pred)"
   ]
  },
  {
   "cell_type": "code",
   "execution_count": 238,
   "metadata": {},
   "outputs": [
    {
     "data": {
      "text/plain": [
       "0.8161054994388328"
      ]
     },
     "execution_count": 238,
     "metadata": {},
     "output_type": "execute_result"
    }
   ],
   "source": [
    "accuracy_score(y_test, y_pred)"
   ]
  },
  {
   "cell_type": "markdown",
   "metadata": {},
   "source": [
    "Using the gini-criterion gives us slight better results."
   ]
  },
  {
   "cell_type": "code",
   "execution_count": 240,
   "metadata": {},
   "outputs": [],
   "source": [
    "rf_improved = RandomForestClassifier(bootstrap=False,\n",
    "                                    criterion='gini',\n",
    "                                    random_state=1,\n",
    "                                    max_features='auto',\n",
    "                                    min_samples_leaf=2,\n",
    "                                    min_samples_split=10,\n",
    "                                    max_depth=20)"
   ]
  },
  {
   "cell_type": "markdown",
   "metadata": {},
   "source": [
    "Furthermore we can have another look at which values for 'n_estimators' might be better. This time I am going to use graphical techniques to find that out."
   ]
  },
  {
   "cell_type": "code",
   "execution_count": 241,
   "metadata": {},
   "outputs": [
    {
     "name": "stderr",
     "output_type": "stream",
     "text": [
      "C:\\Users\\david\\Anaconda3\\lib\\site-packages\\sklearn\\ensemble\\forest.py:245: FutureWarning: The default value of n_estimators will change from 10 in version 0.20 to 100 in 0.22.\n",
      "  \"10 in version 0.20 to 100 in 0.22.\", FutureWarning)\n",
      "C:\\Users\\david\\Anaconda3\\lib\\site-packages\\ipykernel_launcher.py:21: DataConversionWarning: A column-vector y was passed when a 1d array was expected. Please change the shape of y to (n_samples,), for example using ravel().\n",
      "C:\\Users\\david\\Anaconda3\\lib\\site-packages\\sklearn\\ensemble\\forest.py:245: FutureWarning: The default value of n_estimators will change from 10 in version 0.20 to 100 in 0.22.\n",
      "  \"10 in version 0.20 to 100 in 0.22.\", FutureWarning)\n",
      "C:\\Users\\david\\Anaconda3\\lib\\site-packages\\ipykernel_launcher.py:21: DataConversionWarning: A column-vector y was passed when a 1d array was expected. Please change the shape of y to (n_samples,), for example using ravel().\n",
      "C:\\Users\\david\\Anaconda3\\lib\\site-packages\\sklearn\\ensemble\\forest.py:245: FutureWarning: The default value of n_estimators will change from 10 in version 0.20 to 100 in 0.22.\n",
      "  \"10 in version 0.20 to 100 in 0.22.\", FutureWarning)\n",
      "C:\\Users\\david\\Anaconda3\\lib\\site-packages\\ipykernel_launcher.py:21: DataConversionWarning: A column-vector y was passed when a 1d array was expected. Please change the shape of y to (n_samples,), for example using ravel().\n",
      "C:\\Users\\david\\Anaconda3\\lib\\site-packages\\sklearn\\ensemble\\forest.py:245: FutureWarning: The default value of n_estimators will change from 10 in version 0.20 to 100 in 0.22.\n",
      "  \"10 in version 0.20 to 100 in 0.22.\", FutureWarning)\n",
      "C:\\Users\\david\\Anaconda3\\lib\\site-packages\\ipykernel_launcher.py:21: DataConversionWarning: A column-vector y was passed when a 1d array was expected. Please change the shape of y to (n_samples,), for example using ravel().\n",
      "C:\\Users\\david\\Anaconda3\\lib\\site-packages\\sklearn\\ensemble\\forest.py:245: FutureWarning: The default value of n_estimators will change from 10 in version 0.20 to 100 in 0.22.\n",
      "  \"10 in version 0.20 to 100 in 0.22.\", FutureWarning)\n",
      "C:\\Users\\david\\Anaconda3\\lib\\site-packages\\ipykernel_launcher.py:21: DataConversionWarning: A column-vector y was passed when a 1d array was expected. Please change the shape of y to (n_samples,), for example using ravel().\n",
      "C:\\Users\\david\\Anaconda3\\lib\\site-packages\\sklearn\\ensemble\\forest.py:245: FutureWarning: The default value of n_estimators will change from 10 in version 0.20 to 100 in 0.22.\n",
      "  \"10 in version 0.20 to 100 in 0.22.\", FutureWarning)\n",
      "C:\\Users\\david\\Anaconda3\\lib\\site-packages\\ipykernel_launcher.py:21: DataConversionWarning: A column-vector y was passed when a 1d array was expected. Please change the shape of y to (n_samples,), for example using ravel().\n",
      "C:\\Users\\david\\Anaconda3\\lib\\site-packages\\sklearn\\ensemble\\forest.py:245: FutureWarning: The default value of n_estimators will change from 10 in version 0.20 to 100 in 0.22.\n",
      "  \"10 in version 0.20 to 100 in 0.22.\", FutureWarning)\n",
      "C:\\Users\\david\\Anaconda3\\lib\\site-packages\\ipykernel_launcher.py:21: DataConversionWarning: A column-vector y was passed when a 1d array was expected. Please change the shape of y to (n_samples,), for example using ravel().\n",
      "C:\\Users\\david\\Anaconda3\\lib\\site-packages\\sklearn\\ensemble\\forest.py:245: FutureWarning: The default value of n_estimators will change from 10 in version 0.20 to 100 in 0.22.\n",
      "  \"10 in version 0.20 to 100 in 0.22.\", FutureWarning)\n",
      "C:\\Users\\david\\Anaconda3\\lib\\site-packages\\ipykernel_launcher.py:21: DataConversionWarning: A column-vector y was passed when a 1d array was expected. Please change the shape of y to (n_samples,), for example using ravel().\n",
      "C:\\Users\\david\\Anaconda3\\lib\\site-packages\\sklearn\\ensemble\\forest.py:245: FutureWarning: The default value of n_estimators will change from 10 in version 0.20 to 100 in 0.22.\n",
      "  \"10 in version 0.20 to 100 in 0.22.\", FutureWarning)\n",
      "C:\\Users\\david\\Anaconda3\\lib\\site-packages\\ipykernel_launcher.py:21: DataConversionWarning: A column-vector y was passed when a 1d array was expected. Please change the shape of y to (n_samples,), for example using ravel().\n",
      "C:\\Users\\david\\Anaconda3\\lib\\site-packages\\sklearn\\ensemble\\forest.py:245: FutureWarning: The default value of n_estimators will change from 10 in version 0.20 to 100 in 0.22.\n",
      "  \"10 in version 0.20 to 100 in 0.22.\", FutureWarning)\n",
      "C:\\Users\\david\\Anaconda3\\lib\\site-packages\\ipykernel_launcher.py:21: DataConversionWarning: A column-vector y was passed when a 1d array was expected. Please change the shape of y to (n_samples,), for example using ravel().\n",
      "C:\\Users\\david\\Anaconda3\\lib\\site-packages\\sklearn\\ensemble\\forest.py:245: FutureWarning: The default value of n_estimators will change from 10 in version 0.20 to 100 in 0.22.\n",
      "  \"10 in version 0.20 to 100 in 0.22.\", FutureWarning)\n",
      "C:\\Users\\david\\Anaconda3\\lib\\site-packages\\ipykernel_launcher.py:21: DataConversionWarning: A column-vector y was passed when a 1d array was expected. Please change the shape of y to (n_samples,), for example using ravel().\n"
     ]
    }
   ],
   "source": [
    "# different options for n_estimators \n",
    "n_estimators = [1000, 1100, 1200, 1300, 1400, 1500, 1600, 1700, 1800, 1900, 2000]\n",
    "\n",
    "# lists to store the results for different numbers of trees\n",
    "train_results_n = []\n",
    "test_results_n = []\n",
    "\n",
    "\n",
    "# loop over the different numbers of trees\n",
    "for estimator in n_estimators:\n",
    "\n",
    "   # fit the model \n",
    "   rf = RandomForestClassifier(bootstrap=False,\n",
    "                               criterion='gini',\n",
    "                               random_state=1,\n",
    "                               max_features='auto',\n",
    "                               min_samples_leaf=2,\n",
    "                               min_samples_split=10,\n",
    "                               max_depth=20,\n",
    "                               n_jobs=-1)\n",
    "   rf.fit(X_train, y_train)\n",
    "\n",
    "   # evaluate on training set and store the results\n",
    "   y_train_pred = rf.predict(X_train)\n",
    "   train_acc = accuracy_score(y_train, y_train_pred)\n",
    "   train_results_n.append(train_acc)\n",
    "\n",
    "   # evaluate on test set and store the results\n",
    "   y_test_pred = rf.predict(X_test)\n",
    "   pred_acc = accuracy_score(y_test, y_test_pred)\n",
    "   test_results_n.append(pred_acc)"
   ]
  },
  {
   "cell_type": "code",
   "execution_count": 242,
   "metadata": {},
   "outputs": [
    {
     "data": {
      "image/png": "[encoded data removed]",
      "text/plain": [
       "<Figure size 720x360 with 1 Axes>"
      ]
     },
     "metadata": {},
     "output_type": "display_data"
    }
   ],
   "source": [
    "# turn lists into numpy arrays\n",
    "n_estimators = np.array(n_estimators)\n",
    "train_results_n = np.array(train_results_n)\n",
    "test_results_n = np.array(test_results_n)\n",
    "\n",
    "# plot\n",
    "fig, ax = plt.subplots(figsize=(10, 5))\n",
    "\n",
    "plt.plot(n_estimators, train_results_n, color='blue', label='Train accuracy')\n",
    "plt.plot(n_estimators, test_results_n, color='red', label='Test accuracy')\n",
    "\n",
    "plt.grid(True)\n",
    "plt.xlabel('Number of trees in the forest')\n",
    "plt.ylabel('Accuacy Score')\n",
    "plt.legend()\n",
    "\n",
    "plt.show()"
   ]
  },
  {
   "cell_type": "markdown",
   "metadata": {},
   "source": [
    "The differences are very small and barely visible in the plot.\n",
    "\n",
    "I am simply going to go with the higher value for 'n_estimators'."
   ]
  },
  {
   "cell_type": "code",
   "execution_count": 244,
   "metadata": {},
   "outputs": [],
   "source": [
    "rf_improved = RandomForestClassifier(bootstrap=False,\n",
    "                                    criterion='gini',\n",
    "                                    random_state=1,\n",
    "                                    max_features='auto',\n",
    "                                    min_samples_leaf=2,\n",
    "                                    min_samples_split=10,\n",
    "                                    max_depth=20,\n",
    "                                    n_estimators=2000,\n",
    "                                    n_jobs=-1)"
   ]
  },
  {
   "cell_type": "code",
   "execution_count": 245,
   "metadata": {},
   "outputs": [
    {
     "name": "stderr",
     "output_type": "stream",
     "text": [
      "C:\\Users\\david\\Anaconda3\\lib\\site-packages\\ipykernel_launcher.py:1: DataConversionWarning: A column-vector y was passed when a 1d array was expected. Please change the shape of y to (n_samples,), for example using ravel().\n",
      "  \"\"\"Entry point for launching an IPython kernel.\n"
     ]
    },
    {
     "data": {
      "text/plain": [
       "RandomForestClassifier(bootstrap=False, class_weight=None, criterion='gini',\n",
       "                       max_depth=20, max_features='auto', max_leaf_nodes=None,\n",
       "                       min_impurity_decrease=0.0, min_impurity_split=None,\n",
       "                       min_samples_leaf=2, min_samples_split=10,\n",
       "                       min_weight_fraction_leaf=0.0, n_estimators=2000,\n",
       "                       n_jobs=-1, oob_score=False, random_state=1, verbose=0,\n",
       "                       warm_start=False)"
      ]
     },
     "execution_count": 245,
     "metadata": {},
     "output_type": "execute_result"
    }
   ],
   "source": [
    "rf_improved.fit(X_train, y_train)"
   ]
  },
  {
   "cell_type": "code",
   "execution_count": 246,
   "metadata": {},
   "outputs": [],
   "source": [
    "y_pred = rf_improved.predict(X_test)"
   ]
  },
  {
   "cell_type": "code",
   "execution_count": 247,
   "metadata": {},
   "outputs": [
    {
     "data": {
      "text/plain": [
       "0.8163860830527497"
      ]
     },
     "execution_count": 247,
     "metadata": {},
     "output_type": "execute_result"
    }
   ],
   "source": [
    "accuracy_score(y_test, y_pred)"
   ]
  },
  {
   "cell_type": "markdown",
   "metadata": {},
   "source": [
    "### 5.3.3 Final model and predictions"
   ]
  },
  {
   "cell_type": "markdown",
   "metadata": {},
   "source": [
    "With the slight improvements we have made with the hyperparameter tuning we can now fit a model based on the entire data."
   ]
  },
  {
   "cell_type": "code",
   "execution_count": 248,
   "metadata": {},
   "outputs": [
    {
     "name": "stderr",
     "output_type": "stream",
     "text": [
      "C:\\Users\\david\\Anaconda3\\lib\\site-packages\\ipykernel_launcher.py:1: DataConversionWarning: A column-vector y was passed when a 1d array was expected. Please change the shape of y to (n_samples,), for example using ravel().\n",
      "  \"\"\"Entry point for launching an IPython kernel.\n"
     ]
    },
    {
     "data": {
      "text/plain": [
       "RandomForestClassifier(bootstrap=False, class_weight=None, criterion='gini',\n",
       "                       max_depth=20, max_features='auto', max_leaf_nodes=None,\n",
       "                       min_impurity_decrease=0.0, min_impurity_split=None,\n",
       "                       min_samples_leaf=2, min_samples_split=10,\n",
       "                       min_weight_fraction_leaf=0.0, n_estimators=2000,\n",
       "                       n_jobs=-1, oob_score=False, random_state=1, verbose=0,\n",
       "                       warm_start=False)"
      ]
     },
     "execution_count": 248,
     "metadata": {},
     "output_type": "execute_result"
    }
   ],
   "source": [
    "rf_improved.fit(X, y)"
   ]
  },
  {
   "cell_type": "code",
   "execution_count": 249,
   "metadata": {},
   "outputs": [
    {
     "data": {
      "text/plain": [
       "0.9014814814814814"
      ]
     },
     "execution_count": 249,
     "metadata": {},
     "output_type": "execute_result"
    }
   ],
   "source": [
    "# predictions quality on entire training data\n",
    "y_pred = rf_improved.predict(X)\n",
    "accuracy_score(y, y_pred)"
   ]
  },
  {
   "cell_type": "markdown",
   "metadata": {},
   "source": [
    "#### Predictions"
   ]
  },
  {
   "cell_type": "code",
   "execution_count": 262,
   "metadata": {},
   "outputs": [],
   "source": [
    "# features\n",
    "X_to_pred = test_1[['gps_height', 'longitude', 'latitude', 'region_index', #geographic features\n",
    "            'waterpoint_age', #time features\n",
    "            'installer_index', 'management_index', 'payment_index', #management features\n",
    "            'amount_tsh', 'extraction_index', 'quality_index', 'quantity_index',\n",
    "            'source_index', 'wpt_type_index', 'basin_index', #well and water features\n",
    "            'population', 'public_meeting', 'permit']].values #demographic / economic features"
   ]
  },
  {
   "cell_type": "markdown",
   "metadata": {},
   "source": [
    "Now we can make the predictions"
   ]
  },
  {
   "cell_type": "code",
   "execution_count": 263,
   "metadata": {},
   "outputs": [],
   "source": [
    "y_submission = rf_improved.predict(X_to_pred)"
   ]
  },
  {
   "cell_type": "code",
   "execution_count": 264,
   "metadata": {},
   "outputs": [
    {
     "data": {
      "text/html": [
       "<div>\n",
       "<style scoped>\n",
       "    .dataframe tbody tr th:only-of-type {\n",
       "        vertical-align: middle;\n",
       "    }\n",
       "\n",
       "    .dataframe tbody tr th {\n",
       "        vertical-align: top;\n",
       "    }\n",
       "\n",
       "    .dataframe thead th {\n",
       "        text-align: right;\n",
       "    }\n",
       "</style>\n",
       "<table border=\"1\" class=\"dataframe\">\n",
       "  <thead>\n",
       "    <tr style=\"text-align: right;\">\n",
       "      <th></th>\n",
       "      <th>id</th>\n",
       "      <th>status_group</th>\n",
       "    </tr>\n",
       "  </thead>\n",
       "  <tbody>\n",
       "    <tr>\n",
       "      <td>0</td>\n",
       "      <td>50785</td>\n",
       "      <td>predicted label</td>\n",
       "    </tr>\n",
       "    <tr>\n",
       "      <td>1</td>\n",
       "      <td>51630</td>\n",
       "      <td>predicted label</td>\n",
       "    </tr>\n",
       "    <tr>\n",
       "      <td>2</td>\n",
       "      <td>17168</td>\n",
       "      <td>predicted label</td>\n",
       "    </tr>\n",
       "  </tbody>\n",
       "</table>\n",
       "</div>"
      ],
      "text/plain": [
       "      id     status_group\n",
       "0  50785  predicted label\n",
       "1  51630  predicted label\n",
       "2  17168  predicted label"
      ]
     },
     "execution_count": 264,
     "metadata": {},
     "output_type": "execute_result"
    }
   ],
   "source": [
    "# check out the required submission format again\n",
    "submission_format.head(3)"
   ]
  },
  {
   "cell_type": "code",
   "execution_count": 266,
   "metadata": {},
   "outputs": [],
   "source": [
    "# write a pandas dataframe with the predictions and the fitting submission format\n",
    "prediction_file = pd.DataFrame({'id': test_1['id'], 'status_group': y_submission})"
   ]
  },
  {
   "cell_type": "code",
   "execution_count": 267,
   "metadata": {},
   "outputs": [
    {
     "data": {
      "text/html": [
       "<div>\n",
       "<style scoped>\n",
       "    .dataframe tbody tr th:only-of-type {\n",
       "        vertical-align: middle;\n",
       "    }\n",
       "\n",
       "    .dataframe tbody tr th {\n",
       "        vertical-align: top;\n",
       "    }\n",
       "\n",
       "    .dataframe thead th {\n",
       "        text-align: right;\n",
       "    }\n",
       "</style>\n",
       "<table border=\"1\" class=\"dataframe\">\n",
       "  <thead>\n",
       "    <tr style=\"text-align: right;\">\n",
       "      <th></th>\n",
       "      <th>id</th>\n",
       "      <th>status_group</th>\n",
       "    </tr>\n",
       "  </thead>\n",
       "  <tbody>\n",
       "    <tr>\n",
       "      <td>59400</td>\n",
       "      <td>50785</td>\n",
       "      <td>functional</td>\n",
       "    </tr>\n",
       "    <tr>\n",
       "      <td>59401</td>\n",
       "      <td>51630</td>\n",
       "      <td>functional</td>\n",
       "    </tr>\n",
       "    <tr>\n",
       "      <td>59402</td>\n",
       "      <td>17168</td>\n",
       "      <td>functional</td>\n",
       "    </tr>\n",
       "    <tr>\n",
       "      <td>59403</td>\n",
       "      <td>45559</td>\n",
       "      <td>non functional</td>\n",
       "    </tr>\n",
       "    <tr>\n",
       "      <td>59404</td>\n",
       "      <td>49871</td>\n",
       "      <td>functional</td>\n",
       "    </tr>\n",
       "  </tbody>\n",
       "</table>\n",
       "</div>"
      ],
      "text/plain": [
       "          id    status_group\n",
       "59400  50785      functional\n",
       "59401  51630      functional\n",
       "59402  17168      functional\n",
       "59403  45559  non functional\n",
       "59404  49871      functional"
      ]
     },
     "execution_count": 267,
     "metadata": {},
     "output_type": "execute_result"
    }
   ],
   "source": [
    "prediction_file.head()"
   ]
  },
  {
   "cell_type": "code",
   "execution_count": 268,
   "metadata": {},
   "outputs": [],
   "source": [
    "# writing the csv file\n",
    "prediction_file.to_csv('pump_it_up_prediction.csv', index=False)"
   ]
  }
 ],
 "metadata": {
  "colab": {
   "collapsed_sections": [],
   "name": "waterpump_2.ipynb",
   "provenance": []
  },
  "kernelspec": {
   "display_name": "Python 3",
   "language": "python",
   "name": "python3"
  },
  "language_info": {
   "codemirror_mode": {
    "name": "ipython",
    "version": 3
   },
   "file_extension": ".py",
   "mimetype": "text/x-python",
   "name": "python",
   "nbconvert_exporter": "python",
   "pygments_lexer": "ipython3",
   "version": "3.7.4"
  }
 },
 "nbformat": 4,
 "nbformat_minor": 1
}
